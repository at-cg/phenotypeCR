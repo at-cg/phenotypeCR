{
 "cells": [
  {
   "cell_type": "markdown",
   "metadata": {},
   "source": [
    "Import Libraries"
   ]
  },
  {
   "cell_type": "code",
   "execution_count": 2,
   "metadata": {},
   "outputs": [],
   "source": [
    "import numpy as np\n",
    "import json\n",
    "import matplotlib.pyplot as plt\n",
    "import pandas as pd\n",
    "from openai import OpenAI\n",
    "import pandas as pd\n",
    "import re"
   ]
  },
  {
   "cell_type": "code",
   "execution_count": 52,
   "metadata": {},
   "outputs": [],
   "source": [
    "def response_zeroshot(model_id,client, clinical_note):\n",
    "    prompt = f\"\"\"\n",
    "    You are an expert in extracting phenotype terms and their corresponding HPO IDs from clinical notes. Your task is to identify all relevant phenotype terms mentioned in the given clinical note and map them to their correct HPO IDs.\n",
    "\n",
    "    Output the results in this format:\n",
    "    <phenotype term> | <HPO ID>\n",
    "    \n",
    "    Input Clinical Note:\n",
    "    {clinical_note}\n",
    "    \n",
    "    Output:\n",
    "    \"\"\"\n",
    "    \n",
    "    # Send the request to GPT-4\n",
    "    response = client.chat.completions.create(\n",
    "    model=model_id,\n",
    "    messages=[\n",
    "        {\n",
    "            \"role\": \"system\",\n",
    "            \"content\": \"You are an AI assistant specialized in extracting medical phenotypes, syndromes, diseases and mapping them to HPO IDs.\"\n",
    "        },\n",
    "        {\n",
    "            \"role\": \"user\",\n",
    "            \"content\": prompt\n",
    "        }\n",
    "    ]\n",
    ")\n",
    "      # Extract and print the output\n",
    "    output = response.choices[0].message.content\n",
    "    def post_process(output):\n",
    "        # Split the output into lines\n",
    "        lines = output.strip().split(\"\\n\")\n",
    "        \n",
    "        # Extract the HPO terms and IDs\n",
    "        hpo_names,ids=[],[]\n",
    "        for line in lines:\n",
    "            if \"|\" in line:\n",
    "                name, hpo_id = line.split(\"|\")\n",
    "                hpo_names.append(name.strip())\n",
    "                ids.append(hpo_id.strip())\n",
    "        return hpo_names,ids\n",
    "    A,B=post_process(output)\n",
    "    return A,B    # return names and ids\n",
    "\n",
    "def response_finetuning(model_id,client,query):\n",
    "    response = client.chat.completions.create(\n",
    "            model=model_id,  # Replace with your fine-tuned model ID\n",
    "            messages=[\n",
    "                {\n",
    "                    \"role\": \"system\",\n",
    "                    \"content\": \"You are an assistant specialized in extracting phenotype terms and their corresponding HPO IDs from clinical notes.\"\n",
    "                },\n",
    "                {\n",
    "                    \"role\": \"user\",\n",
    "                    \"content\": f\"Extract relevant phenotype terms and their HPO IDs from the following clinical note:\\n{query}\"\n",
    "                }\n",
    "            ]\n",
    "        )\n",
    "    x= response.choices[0].message.content\n",
    "    def parse_gpt_output(text):\n",
    "        text = text.strip()\n",
    "        terms = text.split(\",\")  # Split by commas for predictions\n",
    "        parsed = []\n",
    "        ids=[]\n",
    "        for term in terms:\n",
    "            term = term.strip()\n",
    "            if \"(\" in term and \")\" in term:\n",
    "                # Split only on the first \"(\" to avoid unpacking issues\n",
    "                name,_ = term.split(\"(\", 1)\n",
    "                id_ = term.split(\"(\")[1].split(\")\")[0]\n",
    "                parsed.append(name.strip().lower())\n",
    "                ids.append(id_)\n",
    "        ids=[id.replace('_', ':') for id in ids]\n",
    "        return parsed,ids\n",
    "    A,B=parse_gpt_output(x)\n",
    "    return A,B\n",
    "\n",
    "\n",
    "\n",
    "def cosine_similarity(v1, v2):\n",
    "    return np.dot(v1, v2) / (np.linalg.norm(v1) * np.linalg.norm(v2))\n",
    "\n",
    "def get_top_k_similarities(embeddings, query, k):\n",
    "    similarities = np.array([cosine_similarity(query, embedding) for embedding in embeddings])\n",
    "    top_k_indices = similarities.argsort()[-k:][::-1]\n",
    "    return top_k_indices, similarities[top_k_indices]\n"
   ]
  },
  {
   "cell_type": "code",
   "execution_count": 60,
   "metadata": {},
   "outputs": [
    {
     "name": "stdout",
     "output_type": "stream",
     "text": [
      "hp to genes dictionary created\n",
      "hpo dictionary created\n",
      "embeddings loaded\n",
      "child parent dictionary created\n"
     ]
    }
   ],
   "source": [
    "h2g=pd.read_csv('2024/phenotype_to_genes.txt',sep='\\t')\n",
    "# Select specific columns from the DataFrame\n",
    "h2g = h2g[['hpo_id', 'gene_symbol']]\n",
    "h2g= h2g.drop_duplicates(subset=['hpo_id', 'gene_symbol'])\n",
    "# create a dictionary with hpo_id as key and it was associated with many gene symbols, so append it as list of strings\n",
    "hpo_gene_dict = {}\n",
    "for i in range(len(h2g)):\n",
    "    if h2g['hpo_id'].iloc[i] in hpo_gene_dict:\n",
    "        hpo_gene_dict[h2g['hpo_id'].iloc[i]].append(h2g['gene_symbol'].iloc[i])\n",
    "    else:\n",
    "        hpo_gene_dict[h2g['hpo_id'].iloc[i]] = [h2g['gene_symbol'].iloc[i]]\n",
    "\n",
    "print(\"hp to genes dictionary created\")\n",
    "\n",
    "hpo_dict = {}\n",
    "with open(\"2024/hpo_dict.txt\") as f:\n",
    "    for line in f:\n",
    "        (key, val) = line.split(\":H\")\n",
    "        # remove newline character  \n",
    "        val = val.rstrip()\n",
    "        hpo_dict[key] = \"H\"+val\n",
    "\n",
    "print(\"hpo dictionary created\")\n",
    "\n",
    "# Load the embeddings\n",
    "\n",
    "df=pd.read_csv('2024/HPO_embeddings_40k.csv')\n",
    "db= df.to_numpy()\n",
    "print(\"embeddings loaded\")\n",
    "\n",
    "# child parent dict\n",
    "child_parent_dict = {}\n",
    "with open(\"2024/child_parent_dict_merged.json\") as f:\n",
    "    child_parent_dict = json.load(f)\n",
    "\n",
    "print(\"child parent dictionary created\")"
   ]
  },
  {
   "cell_type": "code",
   "execution_count": 9,
   "metadata": {},
   "outputs": [],
   "source": [
    "import numpy as np\n",
    "\n",
    "def process_embeddings(content, db, hpo_dict, client):\n",
    "    \"\"\"\n",
    "    Process content to compute embeddings, find top 1 similar rows in db, and map to HPO terms and IDs.\n",
    "    \n",
    "    Args:\n",
    "    - content: List of lists of text labels.\n",
    "    - db: Database of embeddings for similarity comparison.\n",
    "    - hpo_dict: Dictionary mapping HPO terms to IDs.\n",
    "    - client: API client for generating embeddings.\n",
    "    \n",
    "    Returns:\n",
    "    - Sep: List of lists of unique HPO terms and IDs, grouped by the number of terms in each sublist of content.\n",
    "    \"\"\"\n",
    "    # Step 1: Calculate total number of terms and initialize embedding array\n",
    "    total_terms = sum(len(i) for i in content)\n",
    "    embeddings_20 = np.zeros((total_terms, 1536))\n",
    "\n",
    "    # Step 2: Generate embeddings for each term\n",
    "    z = 0\n",
    "    for i in range(len(content)):\n",
    "        for term in content[i]:\n",
    "            response = client.embeddings.create(\n",
    "                input=term,\n",
    "                model=\"text-embedding-3-small\"\n",
    "            )\n",
    "            embeddings_20[z] = response.data[0].embedding\n",
    "            z += 1\n",
    "            if z % 500 == 0:\n",
    "                print(f\"Processed {z} embeddings\")\n",
    "\n",
    "    # Step 3: Find top 1 similar rows in db\n",
    "    top_1_indices = []\n",
    "    for i in range(total_terms):\n",
    "        top_1_indices.append(get_top_k_similarities(db, embeddings_20[i], 1)[0][0])\n",
    "        if i % 50 == 0:\n",
    "            print(f\"Processed similarity for row {i}\")\n",
    "\n",
    "    # Step 4: Retrieve HPO terms and IDs\n",
    "    hpo_terms = [\n",
    "        f\"{list(hpo_dict.keys())[index]} {list(hpo_dict.values())[index]}\"\n",
    "        for index in top_1_indices\n",
    "    ]\n",
    "\n",
    "    # Step 5: Split HPO terms into sublists based on the number of terms in content\n",
    "    no_ids = [len(i) for i in content]\n",
    "    Sep = []\n",
    "    start = 0\n",
    "    for num_terms in no_ids:\n",
    "        Sep.append(list(set(hpo_terms[start:start + num_terms])))\n",
    "        start += num_terms\n",
    "\n",
    "    return Sep\n"
   ]
  },
  {
   "cell_type": "markdown",
   "metadata": {},
   "source": [
    "### Choose the model:\n",
    "\n",
    "#### ---------------------------------------Finetuned models---------------------------------------\n",
    "1) GPT4o-mini-2024-07-18 : ft:gpt-4o-mini-2024-07-18:iisc-bangalore::AYf5TC9S\n",
    "2) GPT4o-2024-08-06      : ft:gpt-4o-2024-08-06:iisc-bangalore::AZ03ME6y\n",
    "\n",
    "#### ------------------------------------Base models for zeroshot----------------------------------\n",
    "\n",
    "3) GPT4o-mini-2024-07-18 : gpt-4o-mini-2024-07-18\n",
    "4) GPT4o-2024-08-06      : gpt-4o-2024-08-06\n"
   ]
  },
  {
   "cell_type": "code",
   "execution_count": 6,
   "metadata": {},
   "outputs": [],
   "source": [
    "# openai api key\n",
    "client = OpenAI(api_key=\"XXXXXXXXXXXXXXXXXXXXXXXXXXXXXXXXXXXXXXX\")"
   ]
  },
  {
   "cell_type": "code",
   "execution_count": 58,
   "metadata": {},
   "outputs": [
    {
     "name": "stdout",
     "output_type": "stream",
     "text": [
      "phenotypes extracted from clinical text\n",
      "['Branchio-oto-renal dysplasia', 'Hearing loss', 'Preauricular pits', 'Auricular deformities', 'Lateral cervical sinuses', 'Cysts', 'Fistulas', 'Renal malformations']\n",
      "The corresponding HPO IDs are:\n",
      "['HP:0000404', 'HP:0000365', 'HP:0000249', 'HP:0008761', 'HP:0000480', 'HP:0011462', 'HP:0000289', 'HP:0000118']\n"
     ]
    }
   ],
   "source": [
    "clinical_text=\"Branchio-oto-renal dysplasia, often called the BOR syndrome, in its full expression consists of hearing loss of conductive, sensorineural, or mixed type; preauricular pits; auricular deformities; lateral cervical sinuses, cysts, or fistulas; and renal malformations. The condition is inherited in an autosomal dominant mode. The findings in three affected families are described, and pertinent genetic and clinical aspects are discussed. The potential seriousness of the renal and aural malformations stresses the importance of early recognition of this syndrome.\"\n",
    "# spans, HP_ids =response_finetuning(\"ft:gpt-4o-mini-2024-07-18:iisc-bangalore::AYf5TC9S\",client,clinical_text)\n",
    "spans, HP_ids =response_zeroshot(\"gpt-4o-mini-2024-07-18\",client,clinical_text)\n",
    "print(\"phenotypes extracted from clinical text\")\n",
    "print(spans)\n",
    "print(\"The corresponding HPO IDs are:\")\n",
    "print(HP_ids)\n"
   ]
  },
  {
   "cell_type": "markdown",
   "metadata": {},
   "source": [
    "Normalization using embeddings"
   ]
  },
  {
   "cell_type": "code",
   "execution_count": 10,
   "metadata": {},
   "outputs": [
    {
     "name": "stdout",
     "output_type": "stream",
     "text": [
      "Processed similarity for row 0\n"
     ]
    },
    {
     "data": {
      "text/plain": [
       "[['hearing loss HP:0000365',\n",
       "  'preauricular pits HP:0004467',\n",
       "  'autosomal dominant HP:0000006',\n",
       "  'hepatic cysts HP:0001407',\n",
       "  'lateral neck mass HP:6000174',\n",
       "  'anal fistula HP:0010447',\n",
       "  'sensorineural hearing loss HP:0000407',\n",
       "  'renal malformation HP:0012210',\n",
       "  'small cervical vertebrae HP:0004629',\n",
       "  'dichromacy HP:0011518',\n",
       "  'auricular malformation HP:0000377',\n",
       "  'bilateral renal dysplasia HP:0012582',\n",
       "  'obsolete heterogeneous HP:0001425']]"
      ]
     },
     "execution_count": 10,
     "metadata": {},
     "output_type": "execute_result"
    }
   ],
   "source": [
    "embed_spans=process_embeddings([spans], db, hpo_dict, client)               # pass lists of list of spans for multiple clinical notes\n",
    "embed_spans"
   ]
  },
  {
   "cell_type": "code",
   "execution_count": 47,
   "metadata": {},
   "outputs": [
    {
     "name": "stdout",
     "output_type": "stream",
     "text": [
      "['HP:0000365', 'HP:0004467', 'HP:0000006', 'HP:0001407', 'HP:6000174', 'HP:0010447', 'HP:0000407', 'HP:0012210', 'HP:0004629', 'HP:0011518', 'HP:0000377', 'HP:0012582', 'HP:0001425']\n"
     ]
    }
   ],
   "source": [
    "# extract HP ids after embeddings normalisation\n",
    "HP_ids_embed=re.findall(r'HP:\\d+',str(embed_spans[0]) )\n",
    "print(HP_ids_embed)"
   ]
  },
  {
   "cell_type": "markdown",
   "metadata": {},
   "source": [
    "BioMED_NER"
   ]
  },
  {
   "cell_type": "code",
   "execution_count": null,
   "metadata": {},
   "outputs": [
    {
     "name": "stderr",
     "output_type": "stream",
     "text": [
      "Hardware accelerator e.g. GPU is available in the environment, but no `device` argument is passed to the `Pipeline` object. Model will be on CPU.\n"
     ]
    }
   ],
   "source": [
    "from transformers import pipeline\n",
    "pipe = pipeline(\"token-classification\", model=\"venkatd/BIOMed_NER\", aggregation_strategy='simple')"
   ]
  },
  {
   "cell_type": "code",
   "execution_count": 27,
   "metadata": {},
   "outputs": [],
   "source": [
    "def get_spans(output):\n",
    "    x = []\n",
    "    i = 0\n",
    "    while i < len(output):\n",
    "        temp = \"\"\n",
    "        if i + 1 < len(output) and output[i]['entity_group'] == 'DETAILED_DESCRIPTION' and output[i + 1]['entity_group'] == 'DISEASE_DISORDER':\n",
    "            temp = output[i]['word'] + \" \" + output[i + 1]['word']\n",
    "            x.append(temp)\n",
    "            i += 2  # Skip the next element as it is already processed\n",
    "            continue\n",
    "        if i + 1 < len(output) and output[i]['entity_group'] == 'DETAILED_DESCRIPTION' and output[i + 1]['entity_group'] == 'SIGN_SYMPTOM':\n",
    "            temp = output[i]['word'] + \" \" + output[i + 1]['word']\n",
    "            x.append(temp)\n",
    "            i += 2  # Skip the next element as it is already processed\n",
    "            continue\n",
    "        if i+1< len(output) and output[i]['entity_group'] == 'BIOLOGICAL_STRUCTURE' and output[i+1]['entity_group'] == 'SIGN_SYMPTOM':\n",
    "            temp = output[i]['word'] + \" \" + output[i+1]['word']\n",
    "            x.append(temp)\n",
    "            i += 2\n",
    "            continue\n",
    "        if output[i]['entity_group'] == 'SIGN_SYMPTOM':\n",
    "            x.append(output[i]['word'])\n",
    "        if output[i]['entity_group'] == 'DISEASE_DISORDER':\n",
    "            x.append(output[i]['word'])\n",
    "        i += 1\n",
    "    return x"
   ]
  },
  {
   "cell_type": "code",
   "execution_count": 28,
   "metadata": {},
   "outputs": [
    {
     "name": "stderr",
     "output_type": "stream",
     "text": [
      "Asking to truncate to max_length but no maximum length is provided and the model has no predefined maximum length. Default to no truncation.\n"
     ]
    },
    {
     "name": "stdout",
     "output_type": "stream",
     "text": [
      "['Branchio-oto-renal dysplasia', 'BOR syndrome', 'hearing loss', 'preauricular pits', 'auricular deformities', 'lateral cervical sinuses cysts', 'fistulas', 'renal malformations']\n"
     ]
    }
   ],
   "source": [
    "output = pipe(clinical_text)\n",
    "NER_spans = get_spans(output)\n",
    "print(NER_spans)"
   ]
  },
  {
   "cell_type": "markdown",
   "metadata": {},
   "source": [
    "Normalisation using embeddings"
   ]
  },
  {
   "cell_type": "code",
   "execution_count": 29,
   "metadata": {},
   "outputs": [
    {
     "name": "stdout",
     "output_type": "stream",
     "text": [
      "Processed similarity for row 0\n"
     ]
    },
    {
     "data": {
      "text/plain": [
       "[['renal malformation HP:0012210',\n",
       "  'auricular malformation HP:0000377',\n",
       "  'preauricular pits HP:0004467',\n",
       "  'compressed lymph-node sinuses HP:0020268',\n",
       "  'bilateral renal dysplasia HP:0012582',\n",
       "  'blesovsky syndrome HP:0033658',\n",
       "  'anal fistula HP:0010447',\n",
       "  'hearing loss HP:0000365']]"
      ]
     },
     "execution_count": 29,
     "metadata": {},
     "output_type": "execute_result"
    }
   ],
   "source": [
    "embed_spans=process_embeddings([NER_spans], db, hpo_dict, client)               # pass lists of list of spans for multiple clinical notes\n",
    "embed_spans"
   ]
  },
  {
   "cell_type": "markdown",
   "metadata": {},
   "source": [
    "ACMG 81 GENES"
   ]
  },
  {
   "cell_type": "code",
   "execution_count": 5,
   "metadata": {},
   "outputs": [],
   "source": [
    "genes = [\n",
    "    \"APC\", \"RET\", \"BRCA1\", \"BRCA2\", \"PALB2\", \"SDHD\", \"SDHAF2\", \"SDHC\", \"SDHB\", \n",
    "    \"MAX\", \"TMEM127\", \"BMPR1A\", \"SMAD4\", \"TP53\", \"MLH1\", \"MSH2\", \"MSH6\", \"PMS2\", \n",
    "    \"MEN1\", \"MUTYH\", \"NF2\", \"FBN1\", \"TGFBR1\", \"TGFBR2\", \"SMAD3\", \"ACTA2\", \"MYH11\", \n",
    "    \"PKP2\", \"DSP\", \"DSC2\", \"TMEM43\", \"DSG2\", \"RYR2\", \"CASQ2\", \"TRDN\", \"BAG3\", \n",
    "    \"DES\", \"RBM20\", \"TNNC1\", \"TNNT2\", \"LMNA\", \"FLNC\", \"TTN\", \"CALM1\", \"CALM2\", \n",
    "    \"CALM3\", \"COL3A1\", \"LDLR\", \"APOB\", \"PCSK9\", \"MYH7\", \"MYBPC3\", \"TNNI3\", \n",
    "    \"TPM1\", \"MYL3\", \"ACTC1\", \"PRKAG2\", \"MYL2\", \"KCNQ1\", \"KCNH2\", \"SCN5A\", \"BTD\", \n",
    "    \"GLA\", \"OTC\", \"GAA\", \"STK11\", \"HFE\", \"ACVRL1\", \"ENG\", \"RYR1\", \"CACNA1S\", \n",
    "    \"HNF1A\", \"RPE65\", \"ATP7B\", \"TTR\", \"PTEN\", \"RB1\", \"TSC1\", \"TSC2\", \"VHL\", \"WT1\"\n",
    "]\n"
   ]
  },
  {
   "cell_type": "code",
   "execution_count": 14,
   "metadata": {},
   "outputs": [
    {
     "data": {
      "text/plain": [
       "['hearing loss HP:0000365',\n",
       " 'preauricular pits HP:0004467',\n",
       " 'autosomal dominant HP:0000006',\n",
       " 'hepatic cysts HP:0001407',\n",
       " 'lateral neck mass HP:6000174',\n",
       " 'anal fistula HP:0010447',\n",
       " 'sensorineural hearing loss HP:0000407',\n",
       " 'renal malformation HP:0012210',\n",
       " 'small cervical vertebrae HP:0004629',\n",
       " 'dichromacy HP:0011518',\n",
       " 'auricular malformation HP:0000377',\n",
       " 'bilateral renal dysplasia HP:0012582',\n",
       " 'obsolete heterogeneous HP:0001425']"
      ]
     },
     "execution_count": 14,
     "metadata": {},
     "output_type": "execute_result"
    }
   ],
   "source": [
    "embed_spans[0]"
   ]
  },
  {
   "cell_type": "markdown",
   "metadata": {},
   "source": [
    "### Genes extracted after embedding normalisation"
   ]
  },
  {
   "cell_type": "code",
   "execution_count": 44,
   "metadata": {},
   "outputs": [
    {
     "name": "stdout",
     "output_type": "stream",
     "text": [
      "Genes extracted after embedding normalisation\n",
      "-------------------------------------------------------------------------------------------\n",
      "The total number of genes associated with the extracted HPO IDs are : 3544\n",
      "-------------------------------------------------------------------------------------------\n",
      "['KCNA2', 'TRIM44', 'BLVRA', 'DEPDC5', 'SI', 'GJA8', 'XPR1', 'OFD1', 'YME1L1', 'EGR2', 'FBXO11', 'NDUFS4', 'TMEM107', 'POMGNT2', 'PDZD8', 'FRMD4A', 'CREB3L1', 'RNF220', 'LEMD2', 'MYL9', 'SARDH', 'UPF3B', 'STX11', 'IRF3', 'GFI1B', 'MAPT', 'POLR1D', 'AUTS2', 'SDHB', 'MINAR2', 'PER2', 'STX1A', 'GCH1', 'NAA10', 'ATP2C1', 'GATAD1', 'ABCC6', 'DISC2', 'SPTBN1', 'ARHGAP31', 'NUP214', 'SPINT2', 'BLTP1', 'RYR2', 'UGDH', 'MET', 'COL2A1', 'NDUFB10', 'PRSS1', 'NRIP1', 'PANX1', 'CHD2', 'ZNF408', 'SMOC1', 'B9D2', 'C1GALT1C1', 'ILDR1', 'CSF3R', 'MYO3A', 'HNF1B', 'VAMP1', 'COL8A2', 'HBG1', 'KRT17', 'TMIE', 'COG3', 'PRG4', 'MCTP2', 'NAF1', 'CACNB4', 'PMVK', 'DDR2', 'CEP152', 'ZNF644', 'TNNC1', 'BEST1', 'TRIP13', 'HRAS', 'PHACTR1', 'PDHA1', 'TIE1', 'DICER1', 'TUBGCP4', 'VARS1', 'THPO', 'MT-TT', 'CEP19', 'CYCS', 'SPTA1', 'KIF5C', 'RPL31', 'CRYBA2', 'AMPD2', 'DOK7', 'SLC36A2', 'KLF13', 'NUP107', 'SLC1A1', 'NR2E3', 'GZF1', 'KLHL3', 'GFRA1', 'ADRB3', 'NAA20', 'HGF', 'RPL3L', 'MCC', 'RTTN', 'DSE', 'TUBA8', 'ITGA3', 'ACP5', 'RB1', 'ANO3', 'TACR3', 'KCNAB2', 'BRD4', 'SIX3', 'SLC12A2', 'CDCA7', 'GLA', 'CCL11', 'ZFHX3', 'UBE2L3', 'PYCR1', 'GLUL', 'PAK2', 'TLR3', 'CST3', 'TARDBP', 'RAC2', 'GUSB', 'ZMPSTE24', 'CLPP', 'NOS3', 'CTU2', 'PIGS', 'AP2M1', 'GHR', 'GATA1', 'SPG7', 'SEMA3A', 'WARS1', 'SYT1', 'MBD5', 'SATB2', 'TM4SF20', 'MAPKAPK3', 'HDAC6', 'WFS1', 'SPAG1', 'NDUFV2', 'ADGRL1', 'DNASE2', 'WDR35', 'ATPAF2', 'MT-TH', 'TLK2', 'POMC', 'PKHD1', 'NDRG1', 'ATP1A2', 'CCDC65', 'PRKAR1B', 'FLT3', 'NDUFAF2', 'SLC4A1', 'LCA5', 'POU3F3', 'TNF', 'TANC2', 'CCDC32', 'ARPC4', 'PAX2', 'AARS1', 'FTSJ1', 'HPS6', 'KCNA5', 'CDKL5', 'BSND', 'GMPPA', 'SLC39A8', 'GATA6', 'CNNM2', 'OTOF', 'KIAA0586', 'ANGPT1', 'CSGALNACT1', 'IGLL1', 'MSL3', 'GATA2', 'RNU12', 'NEK1', 'CCDC50', 'SEMA3D', 'CCNQ', 'MEIS2', 'OBSL1', 'XPA', 'PDCD1', 'TRIM32', 'FLNC', 'PCDHGC4', 'FKRP', 'DLK1', 'TBX3', 'FAM20A', 'ATXN8OS', 'CRYBA1', 'CEACAM3', 'RETN', 'SUCLA2', 'EYA1', 'PMS2', 'BTK', 'SIX1', 'KAT8', 'RMND1', 'GPX4', 'MRPS14', 'GNAI2', 'MARS2', 'SLC30A9', 'RPL21', 'SPTBN2', 'MEG3', 'CALR', 'DST', 'MAX', 'SMAD3', 'DPP6', 'TMEM126B', 'DLX6', 'TUBG1', 'EXTL3', 'LIFR', 'MIR204', 'CRYGD', 'IKZF1', 'RPA1', 'GRM1', 'B3GAT3', 'ERCC8', 'NIPA1', 'SYN2', 'GNRH1', 'POLE', 'ANTXR2', 'ZBTB24', 'FEZF1', 'VHL', 'GAS1', 'TMEM53', 'NHERF1', 'RNASEH2A', 'KCNJ5', 'NSF', 'CASK', 'GDF5', 'FGFRL1', 'SAMD9', 'TCF3', 'SNCA', 'KIF22', 'RNASET2', 'PRCC', 'COLEC11', 'DDX59', 'NEUROG1', 'MTX2', 'TAOK1', 'KNL1', 'DNMT3B', 'THOC2', 'RREB1', 'PEX3', 'ANKRD1', 'LIG4', 'IQCB1', 'THOC1', 'ATG7', 'MYBPC1', 'LRIG2', 'SRCAP', 'ATL1', 'CRPPA', 'CYP7B1', 'KDM3B', 'GLUD1', 'GBA2', 'MYOC', 'PAX4', 'FRMD5', 'FCGR3B', 'DONSON', 'SERPINA1', 'CUX1', 'OTUD6B', 'HPSE2', 'TBL1Y', 'TERT', 'RORA', 'DKC1', 'ATP6V1B1', 'REEP6', 'TRPM3', 'MAF', 'PRF1', 'VPS33A', 'TCTN2', 'KATNIP', 'MT-CO3', 'SNORA31', 'MTSS2', 'ABCA1', 'YRDC', 'MPEG1', 'RSPH9', 'MYMK', 'PI4KB', 'HSPG2', 'MYH2', 'CDK13', 'SPTB', 'DIABLO', 'HOXA2', 'ANKRD17', 'MYL11', 'F11', 'SCYL2', 'LAMB3', 'STAT3', 'GSC', 'ALX1', 'SLC18A3', 'PPP3CA', 'TGFBR1', 'ATP6V0C', 'BPNT2', 'CFB', 'WNT5A', 'HOXA13', 'ENAM', 'TBC1D23', 'FBXO38', 'SNCB', 'RP1', 'PIGN', 'COQ7', 'DES', 'CDH2', 'CAMK2B', 'AKAP9', 'CDC42', 'CDK19', 'CDKN2B', 'NDUFS1', 'GLI1', 'ABCC8', 'NDUFB11', 'IFNG', 'GABRG2', 'UFC1', 'KCND3', 'FGF14', 'GGPS1', 'NSDHL', 'DNAAF5', 'KCNJ6', 'MYMX', 'MED12', 'TXNL4A', 'ALOX5', 'ALG13', 'ATP5F1D', 'GDF1', 'COG6', 'CACNA1A', 'IKZF3', 'BACH2', 'ATXN10', 'RNF170', 'MYD88', 'WDR81', 'DSP', 'MT-CYB', 'PSEN1', 'PACS2', 'ACER3', 'PISD', 'MST1R', 'TYMS', 'MPL', 'FUT8', 'ACTA1', 'NAGLU', 'DLG4', 'RBP3', 'PROP1', 'BCKDK', 'ESCO2', 'DNAJB13', 'RGR', 'RPGR', 'KCNQ2', 'FBXW11', 'FAM111A', 'ZNF750', 'COL1A1', 'CPOX', 'ANKRD26', 'SEMA4A', 'GABRB1', 'ITGA8', 'CNGA1', 'PTRH2', 'SIAH1', 'KRT10', 'RBP4', 'PSMC1', 'SCN3B', 'MOCS2', 'TNNT2', 'CD96', 'TECTA', 'NEU1', 'ROBO2', 'PDE10A', 'FLNB', 'ERCC6', 'MT-TE', 'CRYBB2', 'ELMO2', 'CFAP74', 'NDNF', 'PJVK', 'KRIT1', 'TXNRD2', 'MEF2A', 'AP3D1', 'KBTBD13', 'VDR', 'ATP6AP1', 'TMEM127', 'PIK3R1', 'H4C11', 'GJA1', 'GUCY2D', 'TRIOBP', 'CHAMP1', 'DSPP', 'TGM1', 'PRPF6', 'RAC3', 'RPL10', 'USB1', 'HHAT', 'FGF23', 'DCAF8', 'USH2A', 'AP2S1', 'EXOSC8', 'SMAD2', 'GABRA1', 'HAX1', 'DAB1', 'MT-TK', 'CRB1', 'OPN1SW', 'FOXP3', 'DUX4', 'TRDN', 'CRKL', 'CSNK2A1', 'IFRD1', 'INAVA', 'TCF4', 'LMOD1', 'TCIRG1', 'COL4A6', 'LBR', 'DARS2', 'CA4', 'HMGB3', 'SPOP', 'RILPL1', 'TERC', 'DPYD', 'FOXN1', 'METTL5', 'LARP7', 'RPL9', 'PCARE', 'GPRASP2', 'TMEM106B', 'PKP1', 'MYCN', 'NPHS2', 'MUC7', 'KCNC2', 'NLRP12', 'COPB2', 'IL6ST', 'TIA1', 'ROBO3', 'PRDM12', 'COL6A2', 'CACNA1G', 'RP9', 'WNT7A', 'PRRX1', 'HARS2', 'TRPC6', 'LEMD3', 'LMBR1', 'SNORD116-1', 'QRICH1', 'MT-ND1', 'LRP5', 'TELO2', 'BCAP31', 'SATB1', 'NADSYN1', 'FGF3', 'SLC12A5', 'SRY', 'NEUROD1', 'ENPP1', 'ATP6AP2', 'STAG2', 'COL5A2', 'TLR4', 'ZNF469', 'KIAA0753', 'GATA5', 'LMAN2L', 'MID2', 'EDNRB', 'CCBE1', 'NODAL', 'SEPTIN9', 'DOLK', 'PDYN', 'CDON', 'TPRN', 'HLA-DQB1', 'SAMHD1', 'POLR2A', 'ACTC1', 'CSRP3', 'TTN', 'ZCCHC8', 'NANS', 'RAB3GAP1', 'NKX2-5', 'VAMP2', 'SASH1', 'DRG1', 'MKKS', 'GSTM3', 'GNPTAB', 'LDLRAP1', 'PHYH', 'SCN5A', 'ATP7A', 'PHB1', 'PIK3CD', 'POMK', 'ETFA', 'NIN', 'UNC45A', 'PUF60', 'SNX14', 'SHOX', 'VPS35L', 'UQCRC1', 'ADAMTS18', 'AGBL1', 'HLA-DRB1', 'SEPTIN12', 'TAF13', 'HERC1', 'ST3GAL5', 'PEX14', 'LAGE3', 'SLC19A2', 'CDKN1A', 'CDC42BPB', 'HBB', 'USP9X', 'TUBB8', 'TAC3', 'VPS4A', 'NSD1', 'NDUFAF6', 'FBLN1', 'COL7A1', 'CREBBP', 'ERBB2', 'SLC6A4', 'MTAP', 'CTLA4', 'HNRNPR', 'GRHPR', 'PPP1R3A', 'AHI1', 'DLX5', 'MANBA', 'DRD4', 'POGZ', 'TIMELESS', 'MYPN', 'CYP19A1', 'SLC40A1', 'CHST14', 'ARL6', 'KMT2D', 'BUB3', 'B2M', 'FXYD2', 'CYP24A1', 'ARHGDIA', 'SERPINA6', 'MINPP1', 'GRXCR1', 'FAN1', 'TRNT1', 'FGFR1', 'DNMT1', 'RPE65', 'MT-ND3', 'SIX6', 'KRAS', 'DNAH9', 'FANCL', 'TNNI2', 'DYRK1B', 'ANO5', 'NLRP1', 'AAGAB', 'SCN1B', 'NUP93', 'GREB1L', 'ABCA7', 'HNRNPH1', 'SPEG', 'SCN4B', 'PDGFB', 'EMP2', 'TNNI3K', 'KIAA0319L', 'MEGF8', 'RFT1', 'NEFH', 'GDNF', 'FAM149B1', 'LMNB1', 'HSD17B4', 'SLC22A18', 'SLC34A2', 'PIGL', 'DLL1', 'PNPT1', 'CLCN3', 'CUL4B', 'ERAL1', 'CYP11B1', 'SEC31A', 'TOPORS', 'ASXL2', 'ROBO4', 'ALOX12B', 'MIR184', 'SLC6A9', 'GK', 'KCNE3', 'FBN2', 'CD79A', 'APRT', 'ITGB4', 'PDE6D', 'PSENEN', 'KCNJ1', 'CDHR1', 'ZMYM2', 'HNF4A', 'APOA5', 'WDR62', 'BCL11B', 'MT-TS2', 'EFTUD2', 'MYBPC3', 'BCR', 'OTOG', 'HOXA11', 'DLG5', 'ADA', 'IGF2BP2', 'GNB2', 'FCGR2B', 'RYR1', 'SUZ12', 'BTRC', 'KIDINS220', 'SMPD4', 'CAPN5', 'FAM20C', 'PRKCG', 'RFC2', 'NEUROD2', 'PPP2R3C', 'SULT2B1', 'EPHX2', 'CELF2', 'CARD14', 'GDF15', 'TUBB2B', 'RAB7A', 'INVS', 'PUS7', 'STAC3', 'GRIA1', 'TGIF1', 'MCM7', 'TBC1D7', 'TBX20', 'CNOT2', 'GRIN2A', 'EIF2AK1', 'EXT1', 'MME', 'MCM2', 'KPNA3', 'CRIPTO', 'GABRB2', 'POU6F2', 'XYLT1', 'PSAT1', 'POMP', 'KIZ', 'NHS', 'ACY1', 'KLHL24', 'HPD', 'EFHC1', 'PRKCSH', 'RFWD3', 'GLIS3', 'TIMMDC1', 'SLCO2A1', 'IL13', 'NAXD', 'RET', 'PIGU', 'TASP1', 'H4C5', 'TPO', 'WDR11', 'RUNX1', 'CEP104', 'LETM1', 'RARB', 'ARID2', 'SLC20A2', 'TMEM216', 'POLR1C', 'LSS', 'BBS1', 'ARPC5', 'SMG8', 'BRIP1', 'PLCH1', 'TREX1', 'NFKBIA', 'MAP3K8', 'PAX8', 'UCHL1', 'IFT27', 'TUBB3', 'SALL1', 'TRPV3', 'FAH', 'WASHC4', 'POLR3H', 'DAG1', 'ESRRB', 'ZNF423', 'EDAR', 'AHSG', 'RSPH1', 'DNAI1', 'MED13L', 'SLFN14', 'PTHLH', 'CDK4', 'NOBOX', 'ABL1', 'CLDN14', 'PCSK9', 'ARMC5', 'MIEF1', 'TMEM231', 'EBF3', 'MT-ND4', 'EIF2S3', 'PRPH', 'EXOSC2', 'TCTN1', 'SETD2', 'BCOR', 'UQCC2', 'GRAP', 'SLC33A1', 'GNAQ', 'RTN4R', 'DMPK', 'MGME1', 'MORC2', 'SLC12A6', 'FANCF', 'MT-ATP8', 'NDUFAF5', 'STT3A', 'APOE', 'PKP2', 'TNFRSF11A', 'PLXND1', 'COMP', 'TUBB6', 'POLG', 'CRTAP', 'LYZ', 'RAPSN', 'ACTN1', 'FAM111B', 'ODAD1', 'MED12L', 'RPL5', 'KRT83', 'SREBF1', 'FGF12', 'GABRA3', 'EPO', 'TTC8', 'SLC35C1', 'CHRM3', 'AQP2', 'DLG1', 'AP1S3', 'SKI', 'RNF135', 'RAB3GAP2', 'ZFP57', 'MT-RNR1', 'MESP2', 'GPC3', 'SNAP29', 'ATP5F1B', 'SNF8', 'LGI4', 'MESD', 'POC1A', 'GATC', 'LMNB2', 'SMARCA4', 'MIR96', 'SIN3A', 'STRA6', 'ESS2', 'ATXN3', 'PLXNA1', 'ADAMTS15', 'SCNN1B', 'DPH5', 'BNC2', 'TRIM71', 'POLR3F', 'RANBP2', 'WNT3', 'ESRP1', 'HFE', 'PTCD3', 'DYRK1A', 'ACTG1', 'RNASEH2B', 'CDK6', 'SCNM1', 'STK36', 'OVOL2', 'AKT1', 'CCNO', 'UBIAD1', 'CRB2', 'IRF2BP2', 'GLI2', 'ZIC2', 'NSUN2', 'BBS9', 'CD164', 'BRCA1', 'FRAS1', 'HSF4', 'TGFB3', 'HECW2', 'CHRNA2', 'SLC12A3', 'MICOS13', 'CFAP418', 'HTR1A', 'POLG2', 'OSTM1', 'PDE4D', 'SRP54', 'ARSK', 'UBE2A', 'GABRD', 'SPTLC1', 'JAM3', 'PPOX', 'MSX1', 'WAS', 'KDM6A', 'ATM', 'SPIN4', 'CASQ1', 'SUCLG1', 'IDS', 'ERMARD', 'SLC25A22', 'SMO', 'PPIP5K2', 'SETD5', 'SLC4A3', 'EPG5', 'IL31RA', 'PEX6', 'ATXN7', 'TTI1', 'HOMER2', 'MACF1', 'MECOM', 'TMPO', 'PTPRF', 'IQSEC2', 'GPHN', 'TYMP', 'EPS8L2', 'GLI3', 'VIPAS39', 'PSMB1', 'CTSK', 'NTN1', 'COA8', 'RXYLT1', 'MDM2', 'MEOX1', 'HOXB1', 'DBR1', 'HCRT', 'HTRA2', 'ZFHX2', 'INSR', 'SEC63', 'NUP160', 'GLS', 'PSEN2', 'MT-TW', 'POLR3B', 'VIM', 'AGTR1', 'KCNE1', 'MBL2', 'MRPS34', 'CLIC5', 'PIEZO2', 'OGDHL', 'SLC22A12', 'ITGA2B', 'HNRNPK', 'GLE1', 'GPKOW', 'HLA-DPB1', 'AURKA', 'CASZ1', 'MT-ND2', 'VPS51', 'SEMA5A', 'AAAS', 'ATP8B1', 'SMS', 'HSPB1', 'TRPM7', 'PEX11B', 'EPS8L3', 'SLC52A2', 'WDR37', 'SNX10', 'COL4A4', 'BMP6', 'SLC26A1', 'PNKD', 'CD2AP', 'VAC14', 'HMOX1', 'CFAP43', 'THOC6', 'MASP1', 'APC2', 'MAD2L2', 'COX11', 'TEFM', 'ITPR1', 'PLN', 'DYNC2H1', 'POLR3A', 'GARS1', 'CLDN11', 'DMP1', 'AGPAT2', 'GAD1', 'NEK2', 'BTD', 'PIGV', 'ARCN1', 'MYL2', 'RUSC2', 'HECTD4', 'F8', 'MT-ND5', 'GFAP', 'PLD1', 'FGD1', 'ZNHIT3', 'CLCF1', 'CRYBB3', 'TMEM237', 'LTBP4', 'SON', 'H1-4', 'MICU1', 'CLCNKA', 'TAF1A', 'FRMPD4', 'CLDN9', 'CAPN15', 'PRNP', 'SEMA6B', 'ALDH18A1', 'GRIP1', 'HDAC4', 'KRT2', 'RALA', 'EZH2', 'CLEC3B', 'KLF1', 'MRAS', 'DHCR24', 'EHMT1', 'SURF1', 'FH', 'HES7', 'HELLS', 'CARD8', 'PCGF2', 'ZFPM2', 'FLCN', 'ADGRG6', 'ASCL1', 'PTPN1', 'PLOD1', 'NME8', 'THSD4', 'KLLN', 'SCAPER', 'ANGPT2', 'PREPL', 'SOX10', 'USP18', 'KCNQ4', 'MAPK8IP1', 'TARS1', 'BSCL2', 'PAX6', 'STAT1', 'PRLR', 'IARS2', 'SETX', 'HAND2', 'RPS23', 'GATB', 'ADNP', 'GIGYF2', 'MAFA', 'STEEP1', 'LAS1L', 'CHD8', 'SCNN1G', 'IL6', 'PLOD3', 'HYMAI', 'ORC6', 'PRKG2', 'ELANE', 'RIPK1', 'PLK4', 'MT-TF', 'ADGRV1', 'CEP120', 'ZMYM3', 'GALNS', 'MOG', 'NUP37', 'CDKN2C', 'IVNS1ABP', 'TNFRSF13B', 'ATP7B', 'EPHB4', 'BRF1', 'PAX9', 'DNAAF3', 'STUB1', 'ATP5MC3', 'CAV1', 'UBAP2L', 'PLAA', 'MAGI2', 'CCDC28B', 'G6PC1', 'ASH1L', 'SYNE2', 'CHCHD2', 'BBS10', 'DIP2B', 'CARS2', 'NPRL2', 'IDH3A', 'DCTN4', 'DNASE1', 'TMEM98', 'NOTCH2NLC', 'NLRC4', 'MPDU1', 'RBM10', 'MTOR', 'TTC19', 'IL17RD', 'GATAD2B', 'ITGB6', 'RIPPLY2', 'PALB2', 'IL12A', 'SGCE', 'OTOA', 'FBLN5', 'AASS', 'BCL11A', 'TNXB', 'DNAI2', 'KDR', 'PLEKHM1', 'HSPA9', 'MYO7A', 'BRAF', 'CSF1R', 'PIGT', 'KCTD17', 'SGSH', 'NPHP4', 'CACNA1I', 'MPZL2', 'SDHAF2', 'CHUK', 'RPS26', 'FANCM', 'RB1CC1', 'ALX3', 'UBE4B', 'DNAAF4', 'NR3C1', 'UGT1A1', 'TSHR', 'WBP11', 'GRIA4', 'FXN', 'BICC1', 'INSL3', 'KIF11', 'IARS1', 'AKT3', 'IFT81', 'IFT172', 'CHRNA1', 'F13A1', 'ALB', 'PIGY', 'OTOGL', 'KCNJ2', 'DAOA', 'KIF23', 'SLC4A11', 'TMEM38B', 'PARN', 'PEX26', 'SLC25A12', 'CEACAM6', 'CD151', 'POT1', 'DVL3', 'NRAS', 'P4HA2', 'OPLAH', 'APOA1', 'CTH', 'COL9A3', 'MRPS16', 'PNKP', 'CALM3', 'MGAT2', 'SLC9A6', 'DMXL2', 'TENM3', 'FUZ', 'SALL4', 'MOGS', 'H4C9', 'KIF3B', 'LONP1', 'FOXC2', 'CHN1', 'CYP4F22', 'KCNN4', 'SOX18', 'MRPL12', 'MYOT', 'PLG', 'NDE1', 'UFSP2', 'NOD2', 'ELN', 'RPS29', 'ATP6V1B2', 'RNF43', 'PPP2R1A', 'CALCR', 'ERBB4', 'CPT2', 'ASCC3', 'SHOC2', 'CNGB1', 'TPRKB', 'FANCG', 'TCAP', 'CDC73', 'MLLT10', 'DHX37', 'NIPAL4', 'PRODH', 'TBX18', 'IRF2BPL', 'MYO5B', 'IL12A-AS1', 'MFAP5', 'KIF1A', 'HNRNPDL', 'RRAS', 'CTRC', 'BICRA', 'FBP2', 'TGFB1', 'PRUNE1', 'ARX', 'OCLN', 'PRTN3', 'GP9', 'MT-TQ', 'LRRC56', 'FOXE1', 'PSTPIP1', 'MUC5B', 'VPS16', 'TULP3', 'YEATS2', 'SLC7A14', 'RASA1', 'GNE', 'SLC1A2', 'TDO2', 'SPRED2', 'MSH2', 'FREM1', 'RAB5IF', 'BUB1', 'H19', 'CCND2', 'UFD1', 'SAMD12', 'PCK1', 'CRLS1', 'WWOX', 'FAS', 'POMT2', 'KIF5A', 'AKT2', 'RELA', 'SLC52A3', 'GATM', 'ADCY10', 'ANKLE2', 'VCP', 'PHC1', 'IFT56', 'PEX7', 'PHOX2A', 'CTNS', 'MATR3', 'CACNA1H', 'PRMT7', 'FTL', 'WDFY3', 'PAFAH1B1', 'DPF2', 'CHMP4B', 'LRP4', 'CARTPT', 'PHIP', 'HS6ST2', 'FOXL2', 'MT-TP', 'MT-ND6', 'MRPS22', 'DYNC2LI1', 'SOX9', 'TMEM132E', 'RECQL4', 'CPT1C', 'CHMP2B', 'ATR', 'GNRHR', 'HSD11B1', 'MYLK2', 'GJB3', 'CFHR1', 'XRCC2', 'PPP1CB', 'IFT52', 'FTH1', 'HBA1', 'MIA3', 'DLL4', 'UBB', 'FKBP10', 'DNAJB11', 'RAD54B', 'TP53RK', 'ZNF668', 'PXK', 'PIGO', 'CDH23', 'ATP5MK', 'MED13', 'GNAL', 'PEX1', 'ANKS6', 'EYA4', 'KLHL10', 'SDHA', 'IRF8', 'MPZ', 'MSH4', 'TPM4', 'ATP6V1A', 'MAFB', 'SERPINB6', 'GRIN1', 'DHX16', 'HOXD13', 'CETP', 'DNAL1', 'CATSPER2', 'MMUT', 'SC5D', 'IRF5', 'SLC37A4', 'EPS15L1', 'CLIC2', 'EDEM3', 'RNF2', 'SLC39A14', 'SLC6A6', 'CYLD', 'COL11A2', 'ZNF148', 'RNF113A', 'THBD', 'ARSL', 'FAT2', 'DNM2', 'ASNS', 'CHRNA4', 'GRN', 'SHH', 'TUBB', 'PAK3', 'RIPOR2', 'HSPB8', 'FLG', 'REEP2', 'F2', 'BANK1', 'GLB1', 'GLRA1', 'SSR4', 'TFG', 'KLHL7', 'SARS1', 'RAD21', 'ZMIZ1', 'GHRL', 'PTPRJ', 'SLC30A8', 'TBX5', 'CBY1', 'C4B', 'HERC2', 'FOXJ1', 'PDE6B', 'ACTA2', 'ZNF526', 'DSTYK', 'EDN1', 'ATRX', 'FREM2', 'SNAP25', 'YY1AP1', 'DHPS', 'ATL3', 'STX4', 'METTL27', 'CPLANE1', 'TRIM8', 'CEP63', 'WIPF1', 'SIX2', 'XPC', 'HDAC9', 'CLDN10', 'AFG2B', 'SLC1A3', 'TYR', 'KRT6C', 'NXN', 'ZEB2', 'CNOT1', 'ZSWIM6', 'ARHGEF38', 'LITAF', 'ERCC1', 'MT-TV', 'PTF1A', 'EPB41L1', 'COL9A1', 'CFC1', 'KIF14', 'FAR1', 'PPP2R1B', 'ACOX1', 'WNT4', 'GAPVD1', 'CRELD1', 'MED11', 'PLAGL1', 'SOD1', 'DNAJB6', 'TENM4', 'CRLF1', 'ACVR1', 'RPGRIP1', 'WDR26', 'INTS11', 'DZIP1', 'HLA-DPA1', 'MMP1', 'PLP1', 'APOL4', 'MT-ATP6', 'ECE1', 'PEX12', 'TKT', 'DNAJC30', 'SOX3', 'TRIP12', 'AGXT', 'KRT13', 'PRDM6', 'MDH2', 'DYNC1H1', 'CWC27', 'NANOS1', 'INPPL1', 'JAK1', 'LMX1B', 'HACE1', 'KLRC4', 'SLC6A5', 'LORICRIN', 'POMGNT1', 'CEP164', 'GHSR', 'TAF4', 'TRPC3', 'USP8', 'CYFIP2', 'TSC2', 'IRF6', 'ALMS1', 'LRP6', 'MMP13', 'ADAMTSL2', 'KDM1A', 'CEP85L', 'NECTIN1', 'B3GALT6', 'HAAO', 'RBM12', 'CLCN1', 'AGRN', 'REST', 'PICALM', 'SPEN', 'PDK3', 'GNAI1', 'WDR4', 'SUPT16H', 'LZTR1', 'UNC45B', 'MYT1L', 'SLC4A10', 'TFE3', 'TIMM8A', 'PDZD7', 'NKX2-1', 'APOB', 'SLC26A5', 'HGD', 'ALG6', 'SCN10A', 'APCDD1', 'SLC16A2', 'KRT86', 'CALM1', 'NUP88', 'NR4A2', 'ATP11A', 'NOL3', 'PLCG2', 'KDF1', 'GP1BB', 'GTF2IRD2', 'UBE3B', 'SCN8A', 'KDM6B', 'GP1BA', 'GJA5', 'HEPACAM', 'BBS7', 'MPLKIP', 'CTSB', 'NDUFA13', 'CACNA1D', 'ATN1', 'PRIM1', 'ELP1', 'PDPN', 'HESX1', 'SLITRK6', 'MEN1', 'SLC6A17', 'PIK3CA', 'SBF2', 'ROM1', 'NOTCH1', 'CDC45', 'NDUFB9', 'PKD1', 'SPART', 'S1PR2', 'XPNPEP3', 'INF2', 'CHEK2', 'FOXI3', 'SYK', 'IREB2', 'NAGA', 'ARL2BP', 'HTT', 'MYOCD', 'ALG10B', 'CCR1', 'RPGRIP1L', 'TRMT1', 'SNTA1', 'PAM16', 'HEATR3', 'DNAH5', 'FBN1', 'CTNNA1', 'JPH3', 'CCM2', 'WNK1', 'GPR156', 'POLD1', 'LMNA', 'NCDN', 'SMARCAL1', 'WDPCP', 'TMEM240', 'NSD2', 'NCAPD3', 'BBIP1', 'FANCI', 'CACNA1S', 'RIGI', 'TBP', 'KRT14', 'KAT5', 'ERCC3', 'CLDN19', 'SLF2', 'TUBGCP2', 'NLRP3', 'MFSD2A', 'UBA1', 'SMARCE1', 'COG5', 'LARS2', 'ADRB1', 'RPL18', 'FOXG1', 'KCNT1', 'NME5', 'CAMK2A', 'DCPS', 'SP7', 'SERPING1', 'GPSM2', 'RORB', 'RPS17', 'DNAJC19', 'KDM4B', 'PKD2', 'EN1', 'NDUFB3', 'PCLO', 'PRPF4', 'COG4', 'MANF', 'MKS1', 'FGF20', 'CERS3', 'RPL13', 'SCN11A', 'RNF125', 'KRT5', 'CFTR', 'ATP2B1', 'GET3', 'ACVRL1', 'ERAP1', 'RAB11B', 'DCHS1', 'MIR140', 'TRAPPC12', 'LUZP1', 'SPATA7', 'KCNMA1', 'TMEM147', 'SHANK3', 'DNAJC3', 'KMT2E', 'ABCC1', 'CSNK2B', 'CIT', 'KMT2A', 'TUB', 'H4C3', 'LZTFL1', 'AGO1', 'LRP12', 'CASR', 'GATA3', 'ABCG8', 'CNOT3', 'MMP23B', 'AFP', 'RASA2', 'H3-3B', 'TNNT1', 'NR3C2', 'MFN2', 'LRRK2', 'CDC6', 'KCTD1', 'NBN', 'GPT2', 'MARS1', 'PITPNM3', 'DIAPH1', 'MIP', 'ETV6', 'PSMC3IP', 'ZMYND11', 'NEFL', 'DPH2', 'RRAGC', 'CDKN1C', 'TMTC4', 'SAA1', 'SYNE4', 'PORCN', 'VPS33B', 'COL4A3', 'CACNB2', 'DDB2', 'ADAMTS2', 'ALG5', 'TBC1D24', 'PNPLA6', 'MAPKBP1', 'MRPS28', 'BMPR1B', 'PGAP3', 'CAPRIN1', 'PALLD', 'HCN2', 'CTBP1', 'PRCD', 'NOTCH3', 'UBA2', 'TRAPPC9', 'PIGW', 'TGFBI', 'NFIA', 'RNASEH2C', 'AFF2', 'CDH11', 'GLIS2', 'TOP3A', 'BIN1', 'FDPS', 'CASP10', 'MYH3', 'KAT6A', 'MYO18B', 'HRURF', 'ARSB', 'CLCA4', 'KLK11', 'IFT74', 'PLA2G6', 'CHRNB1', 'MVD', 'THSD1', 'LRP1', 'PRDX3', 'CEP295', 'FOXD3', 'FANCE', 'PLCG1', 'RABL3', 'FIG4', 'STEAP3', 'SDHC', 'CCDC39', 'SFTPC', 'PDE6H', 'PROC', 'QARS1', 'FOXRED1', 'RDH5', 'CLCN2', 'ITPR3', 'GRHL3', 'PROS1', 'MAT1A', 'NALCN', 'TTI2', 'KCNK4', 'STAT5B', 'SPINK1', 'IL23R', 'ANAPC7', 'RAF1', 'SLC7A9', 'GNB1', 'GNAT1', 'EEF1A2', 'ITCH', 'ARMC9', 'TEAD1', 'ARVCF', 'POLR1A', 'SMARCC2', 'APC', 'DDB1', 'CPA6', 'TP53', 'CPSF1', 'DSC2', 'NR2F1', 'HS2ST1', 'TBXA2R', 'PMM2', 'CCDC22', 'IGHG1', 'ANK1', 'IL1RAPL1', 'ERG', 'MT-TL1', 'ELOVL5', 'NUTM2B-AS1', 'GUCA1A', 'FBXO28', 'SLC39A7', 'PIGK', 'CHEK1', 'THAP1', 'MYO6', 'VSX1', 'POGLUT1', 'GON7', 'KCNN2', 'DYNC2I1', 'XRCC3', 'HNRNPC', 'FUCA1', 'KRT81', 'FZD4', 'IDUA', 'USP45', 'RBMX', 'PNPLA1', 'LRTOMT', 'CCDC78', 'SCN1A', 'SMARCB1', 'KCNJ13', 'PMS1', 'SCARB2', 'CHD1', 'ACSL4', 'HSD17B10', 'REN', 'TRAPPC11', 'USP48', 'PLAU', 'EDC3', 'GJC2', 'KCNJ11', 'SH3TC2', 'PTH', 'TFAP2A', 'ASPRV1', 'VPS13B', 'POU4F1', 'CHRNB2', 'COQ6', 'PIK3R2', 'TMCO1', 'VPS37A', 'NFIX', 'DGKE', 'RPL35A', 'TGDS', 'WNT10A', 'BAP1', 'RPS6KA3', 'MYOF', 'PCDH15', 'RFC1', 'KIF2A', 'NPR2', 'TNRC6A', 'ARL13B', 'FOXL1', 'SEC61A1', 'NFKB2', 'UBR1', 'COG7', 'GABRA2', 'DMD', 'RBM20', 'DPAGT1', 'PPP2CA', 'DRD5', 'IFT43', 'ADRA2A', 'GRIN2B', 'HBA2', 'MAPK8IP3', 'PRDM10', 'CACNA1C', 'FANCD2', 'IRS1', 'IGBP1', 'KRT4', 'ASPA', 'GNA11', 'SKIC2', 'HSD11B2', 'ADAR', 'RERE', 'TMEM151A', 'LGI1', 'UBTF', 'SCARF2', 'KCNJ10', 'OPHN1', 'RIPK4', 'GLYCTK', 'TBL2', 'IRX5', 'BMS1', 'GAA', 'CERKL', 'WT1', 'NDUFAF3', 'HOXD10', 'RECQL', 'AGT', 'FOXH1', 'TCF20', 'SETBP1', 'ATP6V0A1', 'NFIB', 'SLC26A2', 'PRIMPOL', 'PNPLA2', 'GNS', 'RAD51', 'PROM1', 'CEL', 'KCNK3', 'CDKN2A', 'GRIA2', 'TRAPPC14', 'COL13A1', 'ELOVL1', 'MAPK1', 'RIT1', 'UGP2', 'ASXL3', 'NFE2L2', 'BEAN1', 'CDT1', 'TMEM138', 'PGM2L1', 'AIRE', 'JMJD1C', 'TRAF7', 'CCDC141', 'RBPJ', 'RNASEL', 'CYP2C9', 'SETD1A', 'CACNA2D1', 'SIK1', 'GIPC1', 'TUBB1', 'MYO15A', 'COX14', 'ZNF699', 'ABCA12', 'CES1', 'IGHM', 'BMPR1A', 'LOXHD1', 'ANKFY1', 'MIF', 'BAG3', 'NEK10', 'ALG3', 'STAT6', 'CLCN6', 'PNP', 'COQ2', 'TOGARAM1', 'SLC26A4', 'PACS1', 'SLC5A1', 'TAB2', 'DTNA', 'DNAH1', 'TRAF3', 'SMPX', 'ICOS', 'GABRB3', 'ACO2', 'RPL11', 'SOS2', 'ELOVL4', 'PRKD1', 'SLC6A2', 'IL11RA', 'ANXA11', 'MITF', 'RHBDF2', 'RAP1B', 'NUS1', 'POR', 'LDLR', 'NPHS1', 'AKR1D1', 'B4GALT7', 'NHP2', 'ESAM', 'VANGL1', 'SYCP2', 'CD19', 'DGUOK', 'USP53', 'PRRT2', 'ARF1', 'CALM2', 'RHAG', 'ANTXR1', 'CHD4', 'DIAPH3', 'PCNT', 'PIKFYVE', 'TP63', 'CDKN1B', 'AGA', 'PRDM5', 'IPW', 'ANG', 'SLC9A3', 'PEX10', 'IMPG1', 'CAPN3', 'GTF2H5', 'PLCD1', 'CELA2A', 'MAP3K7', 'LHX4', 'KMT2B', 'SERPINE1', 'NUP85', 'ACTN4', 'ORC1', 'ERBB3', 'PRPF31', 'PGAP2', 'TG', 'SRRM2', 'SLC25A24', 'DIO1', 'MUC1', 'NCSTN', 'PCYT1A', 'RAX2', 'ROR1', 'ARL3', 'ATP6V0A2', 'NDUFV1', 'PTPRQ', 'IRF1', 'ECHS1', 'IFT88', 'CHSY1', 'LOXL1', 'TNFSF11', 'DGCR2', 'PPARG', 'TLR7', 'THUMPD1', 'FSHR', 'TOM1', 'IL10', 'NEB', 'CRYGB', 'DDX11', 'PHGDH', 'TAFAZZIN', 'KATNB1', 'HUWE1', 'KCNE2', 'UFM1', 'NDUFAF1', 'PAICS', 'RUNX2', 'ROR2', 'TICAM1', 'CHRNE', 'VANGL2', 'TWNK', 'EIF3F', 'GUCA1B', 'NEXMIF', 'SPNS2', 'SLC52A1', 'CHMP1A', 'KITLG', 'PTCH2', 'HOXA1', 'APOL2', 'PIK3C2A', 'ASAH1', 'THRB', 'ERCC5', 'C1QBP', 'COQ8A', 'SCN4A', 'CEP55', 'MYH14', 'CHIC2', 'ACAN', 'TGFB2', 'HOGA1', 'KIFBP', 'EBP', 'THRA', 'RPS28', 'IFT122', 'IMPDH2', 'GPD2', 'GH1', 'GAS8', 'DISP1', 'FOXP2', 'WNK4', 'NPAP1', 'MED27', 'KCNH2', 'CUL7', 'CTNND2', 'CRYGS', 'FDXR', 'DHODH', 'HABP2', 'NCF4', 'TRMT10A', 'PQBP1', 'DHX38', 'TNFRSF1A', 'ADGRG2', 'FOXI1', 'GFI1', 'NOVA2', 'ODC1', 'CEP57', 'P4HB', 'CLCNKB', 'ADAMTS3', 'HGSNAT', 'PEX16', 'VPS37D', 'LPL', 'REEP1', 'POLR3GL', 'PHEX', 'VPS35', 'EFEMP2', 'MMP19', 'DSG1', 'NDUFAF8', 'COL25A1', 'BUD23', 'AMTN', 'BMPR2', 'CTC1', 'GTPBP2', 'NDUFA11', 'C9orf72', 'FLT4', 'KAT6B', 'MAB21L2', 'PPCS', 'TUBB4A', 'USF3', 'MCOLN1', 'BNC1', 'ZIC1', 'SLC2A9', 'STIM1', 'JARID2', 'BMPER', 'TBX1', 'SLC12A1', 'DACT1', 'MATN3', 'CFI', 'TMEM163', 'HAL', 'TSC1', 'PLCB4', 'EFNB1', 'ASPN', 'PABPN1', 'LRAT', 'EEF2', 'GALK1', 'CLCN5', 'HS6ST1', 'EPRS1', 'DENND5A', 'NPHP1', 'NPM1', 'SBDS', 'LSM11', 'MCM5', 'PRKAG2', 'TRAF3IP1', 'UBR7', 'YWHAG', 'AGO2', 'CBFB', 'RRM1', 'OXGR1', 'LRPPRC', 'FGF8', 'GAB1', 'ALKBH8', 'GMNN', 'ATRIP', 'GBE1', 'PRPF8', 'CTSD', 'SERPINC1', 'ATP5F1E', 'NDUFS3', 'FANCB', 'POMT1', 'TPM2', 'DEAF1', 'EGFR', 'COX16', 'NLGN1', 'PAX7', 'VKORC1', 'ATP1A1', 'POU1F1', 'RMRP', 'BLK', 'WBP2', 'USH1G', 'LAMC2', 'NTNG2', 'KRT6B', 'ELP4', 'GPD1L', 'CHKA', 'BCS1L', 'RIC1', 'STRC', 'EVC', 'TCF7L2', 'SMG9', 'SARS2', 'FUS', 'SCLT1', 'DLL3', 'MAD1L1', 'MTMR14', 'PTH1R', 'SLC34A3', 'KISS1', 'SAG', 'KCNQ3', 'OPA3', 'NARS1', 'HMX1', 'ARHGAP29', 'DNAAF2', 'PSAP', 'POLA1', 'NARS2', 'BBS5', 'IGF2', 'CENPF', 'TSR2', 'DUOXA2', 'SFTPA2', 'CHD5', 'UBAP1', 'EMC1', 'MKRN3', 'ZDHHC9', 'CENPJ', 'AIPL1', 'CARD11', 'PDCD10', 'ANKRD11', 'SLC11A1', 'RBBP8', 'GPRC5B', 'BRPF1', 'CCDC40', 'TMEM67', 'MAK', 'PDE6A', 'NKAP', 'NDUFA9', 'TET3', 'GABRA5', 'NDUFS7', 'FGA', 'BARD1', 'HMCN1', 'TBXT', 'COL6A1', 'CNBP', 'COX7B', 'SF3B4', 'KIRREL1', 'CAP2', 'MED25', 'FDFT1', 'LARS1', 'PITX2', 'SMAD4', 'ZNF407', 'PRKCZ', 'MPI', 'MPDZ', 'PDE6G', 'G6PC3', 'ODAD2', 'SLC17A9', 'CDH15', 'WNK3', 'GPC4', 'NCF1', 'SPIDR', 'ADCY5', 'PHF21A', 'CAMKMT', 'PTDSS1', 'SSBP1', 'NACC1', 'MADD', 'TLL1', 'CCDC88C', 'ANO1', 'SNORD115-1', 'NDST1', 'NOG', 'C1QTNF5', 'MOCOS', 'TRPV6', 'MVK', 'MAP2K1', 'ETFDH', 'SMARCD2', 'SF3B2', 'PHOX2B', 'LPIN2', 'GRM7', 'SETD1B', 'GDF3', 'ARHGEF18', 'CASQ2', 'EDNRA', 'PLVAP', 'PAX1', 'NOP10', 'CEP135', 'ALX4', 'PGM1', 'TBX2', 'UBE3A', 'TUBA4A', 'FZR1', 'UBE2T', 'WRAP53', 'SLC17A8', 'CD109', 'CD46', 'BBS4', 'KRT74', 'ABCB4', 'BRWD3', 'PI4K2A', 'CEP250', 'LRP2', 'SUFU', 'CABP2', 'CITED2', 'JAG1', 'CR2', 'HNRNPU', 'ZIC3', 'RPS24', 'CHRND', 'HDC', 'IMPDH1', 'RSPH3', 'TRIO', 'LMBRD1', 'COL9A2', 'DTYMK', 'SRP72', 'IDH1', 'CLCN7', 'CFAP221', 'SLC35A2', 'NSUN6', 'MBTPS1', 'SLC3A1', 'PFN1', 'AIFM1', 'AP1S1', 'PAX3', 'SMCHD1', 'PPP1R17', 'CADM3', 'TUBGCP6', 'POLR1B', 'EIF2AK3', 'RELN', 'IFIH1', 'SYCP3', 'JAZF1', 'AP4E1', 'PTPN22', 'TINF2', 'GBA1', 'XRCC4', 'PDGFRL', 'KCNB1', 'COLEC10', 'SLC6A14', 'CLTC', 'TRMU', 'SCAF4', 'LIG3', 'AFG3L2', 'BAG5', 'CYP3A4', 'AP3B1', 'NGLY1', 'MB', 'TGM6', 'PLCE1', 'LIPN', 'LGR4', 'HAGH', 'PLIN4', 'SLC29A3', 'SGPL1', 'GNAI3', 'FBXW7', 'SPTAN1', 'LMOD3', 'KCNK18', 'INS', 'RDX', 'STK11', 'PUS3', 'NRL', 'SOCS1', 'COL10A1', 'DNAJC21', 'ADK', 'LAMB2', 'TPH2', 'LAMA5', 'SLC6A8', 'PWRN1', 'DKK1', 'DYM', 'NCAPG2', 'C9', 'GAS2L2', 'GAL', 'ESR2', 'PDE8B', 'F12', 'SLX4', 'MT-TS1', 'SPR', 'SIN3B', 'RPS15A', 'RBM8A', 'HIVEP2', 'RNASEH1', 'GALE', 'FKBP6', 'EIF4A2', 'IKZF5', 'FOXP1', 'MYH8', 'UMOD', 'AQP4', 'ERCC2', 'DNAAF6', 'LIMK1', 'ADAM10', 'OCRL', 'CFHR3', 'ZNF292', 'YAP1', 'FITM2', 'SLC44A4', 'PRPS1', 'PEX5', 'MSTO1', 'U2AF2', 'RTL1', 'MSRB3', 'CASP8', 'SLC10A7', 'WARS2', 'GPR101', 'TAF1', 'ESPN', 'TPM1', 'COG8', 'SLC26A9', 'SMARCC1', 'CEACAM16', 'PTEN', 'CTCF', 'ACTG2', 'ZEB1', 'DCDC2', 'MSH3', 'MT-TI', 'GRIA3', 'CNTNAP1', 'TPM3', 'AFF3', 'LIPC', 'TMEM165', 'FBXL4', 'KRT3', 'NDUFS8', 'PRKACA', 'SDR9C7', 'ANXA5', 'COL27A1', 'DNM1L', 'SERPINF1', 'ALOXE3', 'SERPIND1', 'DUSP6', 'TCTN3', 'MYLK', 'JPH2', 'NQO2', 'NDUFA1', 'CDC14A', 'AFF4', 'GALNT2', 'RAPGEF2', 'PRKACB', 'PAH', 'RAB34', 'CTSA', 'PDE3A', 'UBE3C', 'CPLX1', 'PEX19', 'DLX4', 'CRYAA', 'CLIP2', 'NAA15', 'KCNC3', 'UHRF1', 'KL', 'CCDC103', 'PPM1D', 'STXBP1', 'TLR2', 'ABCB6', 'HTR2A', 'PTPN12', 'KLHL40', 'CCDC134', 'SPECC1L', 'PDX1', 'SOX4', 'NDUFA6', 'PIBF1', 'CUX2', 'SPRED1', 'RTN2', 'SCNN1A', 'MAP3K20', 'VPS45', 'BTNL2', 'B4GALT1', 'TUBA1A', 'SPTLC2', 'SLC25A4', 'HMGA1', 'TNFRSF11B', 'IDH2', 'KYNU', 'TALDO1', 'TFAP2B', 'TBX15', 'BBS12', 'ZNF462', 'SGMS2', 'SPRY4', 'SH3GL1', 'DLC1', 'SPI1', 'MAP3K1', 'NEK9', 'BLM', 'CRYAB', 'SPTSSA', 'NTRK2', 'CRYBB1', 'OSMR', 'RPS27', 'PIGB', 'F5', 'DRD3', 'SPTBN4', 'FHL1', 'YWHAE', 'MAPKAPK5', 'TBX4', 'ARL2', 'FRG1', 'SEC23B', 'SLC6A1', 'TMEM70', 'IKBKB', 'LPP', 'FLNA', 'ABCC9', 'KCNT2', 'HNMT', 'KDSR', 'ENG', 'PPFIBP1', 'SUMF1', 'A2ML1', 'TBR1', 'KDM5C', 'EGLN1', 'DHDDS', 'FOXF1', 'ARID1B', 'POLRMT', 'ATOH1', 'GABBR2', 'NOP56', 'PDE1C', 'TNFRSF13C', 'KMT2C', 'PI4KA', 'FSCN2', 'CHD7', 'VAPB', 'EIF4H', 'WASHC5', 'KCNC1', 'LDB3', 'GJB1', 'SH3PXD2B', 'HMMR', 'NHLH2', 'BRCC3', 'GCLC', 'CHAT', 'TBCE', 'OSBPL2', 'PDGFRB', 'AEBP1', 'CAT', 'CPE', 'PITX1', 'DOCK6', 'EYS', 'KRT71', 'STXBP2', 'CCNF', 'TTC5', 'SRD5A3', 'AHDC1', 'EIF5A', 'PIGA', 'CISD2', 'MRPS7', 'LMX1A', 'ABCG5', 'CSPP1', 'PROK2', 'B4GAT1', 'HLA-B', 'VPS11', 'DNAAF11', 'LARGE1', 'CELSR1', 'EFL1', 'MEFV', 'AXIN2', 'SOS1', 'LAMB1', 'HSPD1', 'RRAS2', 'PROKR2', 'MT-CO1', 'SASS6', 'C1QA', 'ABHD5', 'ADPRS', 'STX16', 'FAT4', 'NUP133', 'ACTL6B', 'MAB21L1', 'PER3', 'FMR1', 'MYOZ2', 'SNRNP200', 'XDH', 'LFNG', 'KIT', 'MAP1B', 'SLC39A5', 'DHTKD1', 'BFSP1', 'AFG2A', 'STIL', 'NPHP3', 'ZBTB7A', 'EIF4A3', 'PRORP', 'NR2F2', 'SLC5A7', 'GNAO1', 'C12orf57', 'GCK', 'ADCY1', 'RHO', 'EIF4G1', 'RAD54L', 'TNFAIP3', 'LHFPL5', 'MTRR', 'AP1G1', 'HDAC8', 'TRPA1', 'PRPH2', 'MYH11', 'GTF2IRD1', 'PANK4', 'OTX2', 'POU3F4', 'ANOS1', 'ARHGAP26', 'EDN3', 'FLI1', 'AGRP', 'IGF1', 'RPS10', 'COPA', 'CHD3', 'PWAR1', 'TMEM94', 'MIB1', 'RALGAPA1', 'KIF21A', 'CEP78', 'TEK', 'UROD', 'PITX3', 'TRIP11', 'ODAD4', 'VEGFC', 'EPHA2', 'SPP1', 'COL18A1', 'ODAD3', 'BMP2', 'TCF12', 'CRY1', 'KCNA1', 'PTPRO', 'GRIK2', 'ZSWIM7', 'IFT140', 'SPEF2', 'VWF', 'SCN9A', 'EPCAM', 'ESR1', 'MGP', 'CRYM', 'TULP1', 'MAP2K2', 'SKIC3', 'HCCS', 'ACBD5', 'SLC41A1', 'TMEM270', 'PMP2', 'UNC80', 'SPAST', 'TMEM43', 'ITGA6', 'PRKG1', 'MC4R', 'FLII', 'ATP5F1A', 'TBL1XR1', 'PRKN', 'CD79B', 'TRPM4', 'SCN2B', 'MUSK', 'SMC3', 'HSPB3', 'ADAMTSL1', 'TNNT3', 'ZPR1', 'PURA', 'SEC24C', 'VPS53', 'ZNF687', 'VWA8', 'SLC25A10', 'CLRN2', 'PPP2R5D', 'SLC16A1', 'GJB4', 'CREB3L3', 'ATP6V1E1', 'NSMF', 'HLA-G', 'TBK1', 'MAPRE2', 'FGF13', 'STX1B', 'ALG9', 'GTF2I', 'CHCHD10', 'MYSM1', 'TRIM28', 'EHHADH', 'CENPE', 'RSPO2', 'NEDD4L', 'MTNR1B', 'RPS7', 'BFSP2', 'SLC25A1', 'ARSA', 'HNRNPA2B1', 'STX3', 'INTU', 'TBC1D8B', 'CLRN1', 'MYH6', 'APOL1', 'SCD5', 'ELF4', 'DNAH11', 'COL17A1', 'TMC1', 'TWIST1', 'HARS1', 'HYDIN', 'OPTN', 'REV3L', 'BHLHA9', 'RNF213', 'TRPV4', 'MYL3', 'ITGA2', 'GMPPB', 'TANGO2', 'GTF2E2', 'NF2', 'SH2B3', 'PLS1', 'SEM1', 'SMAD9', 'COL11A1', 'DNAAF1', 'TMPRSS3', 'BDP1', 'MNX1', 'LHX3', 'SDC3', 'NIPBL', 'CEP83', 'CRYBA4', 'SMARCD1', 'MAST3', 'SP6', 'DDX41', 'MTHFR', 'GALC', 'BBS2', 'CHI3L1', 'NUP188', 'SLC16A12', 'TSPAN12', 'ASB10', 'PRKCD', 'BAX', 'SELENOI', 'MID1', 'DIS3L2', 'KMT5B', 'ZP3', 'TSHZ1', 'RAB18', 'KDM5B', 'PAK1', 'PLA2G2A', 'SERPINH1', 'KCNH1', 'PTCH1', 'SGCD', 'SLC2A2', 'GJA3', 'FGF10', 'CEP41', 'HMGA2', 'C19orf12', 'ALG2', 'ATIC', 'OTUD5', 'CACNG2', 'CILK1', 'CTNNB1', 'APP', 'BICD2', 'PIGG', 'SLC5A5', 'ITGAM', 'SERPINI1', 'TRAPPC4', 'MYRF', 'RFX7', 'YY1', 'C3', 'LAMA3', 'WLS', 'DLST', 'IL17F', 'IGF1R', 'ARFGEF1', 'FASLG', 'SPRY2', 'GEMIN4', 'JPH1', 'ATAD3A', 'PDLIM4', 'FOCAD', 'AVP', 'MARCHF6', 'IFT80', 'EVC2', 'HPRT1', 'EXT2', 'TNNC2', 'ADGRG1', 'MRPL3', 'IDH3B', 'CFAP298', 'APPL1', 'RPL15', 'OSGEP', 'CAV3', 'GPC6', 'TBX22', 'RAD51C', 'DGCR6', 'KANK2', 'POU4F3', 'GJB2', 'DSG2', 'CYP2A6', 'PDCD6IP', 'HMBS', 'KIF15', 'GALNT3', 'ABHD12', 'AIP', 'SOX5', 'DUX4L1', 'GNAS-AS1', 'SRPX2', 'COBLL1', 'ERF', 'SOX2', 'KRT1', 'OTULIN', 'MSH6', 'RAB23', 'WDR73', 'GNAS', 'TNNI3', 'MN1', 'ZBTB20', 'ATP6V0A4', 'IL12B', 'INTS1', 'RPS19', 'RPL35', 'MAGED2', 'SCN2A', 'TXNDC15', 'ACE', 'NRCAM', 'CTNNA3', 'ERCC4', 'BMP4', 'CDH1', 'CFH', 'SNRPB', 'SMARCAD1', 'TNIP1', 'ANK2', 'B3GLCT', 'PDE11A', 'KIF26A', 'ZNF711', 'MPO', 'EPB41', 'GDF6', 'MERTK', 'DHX30', 'RRAGD', 'FKTN', 'SIM1', 'EXOC7', 'B9D1', 'PGAP1', 'ACVR2B', 'UNC13D', 'TWIST2', 'SQSTM1', 'ALAD', 'OAS1', 'ALG11', 'AP1B1', 'WNT10B', 'PSMC3', 'MAN2B1', 'STS', 'RPL27', 'EPS8', 'CC2D2A', 'WASF1', 'PSMB8', 'TTR', 'MECP2', 'FGFR3', 'IFNGR1', 'GREM2', 'CLPB', 'TUBB2A', 'DNA2', 'ZMYND10', 'CLDN16', 'FN1', 'FANCC', 'KRT6A', 'COL3A1', 'UBAC2', 'SAMD9L', 'SCP2', 'GIPC3', 'PPP1R21', 'JUP', 'STAMBP', 'GSDME', 'DRC1', 'DHCR7', 'KANSL1', 'ITGB3', 'SCO2', 'PPM1B', 'PCNA', 'WNT7B', 'CCNK', 'RHOBTB2', 'RLBP1', 'YARS1', 'KIF7', 'RRM2B', 'NUBPL', 'CLDN2', 'ADAT3', 'TAPT1', 'CHRNG', 'DDX3X', 'ARSG', 'NFKB1', 'ZFHX4', 'ATXN1', 'LIG1', 'KRT16', 'SCN3A', 'COCH', 'NDUFS6', 'MCPH1', 'CD3G', 'TMEM218', 'MMACHC', 'HS3ST6', 'SH3BP2', 'SYNGAP1', 'KARS1', 'PLIN1', 'KNSTRN', 'TK2', 'SOX17', 'IPO8', 'HBG2', 'GLMN', 'TNC', 'EPOR', 'MYO1E', 'MAGEL2', 'VEZF1', 'TSPEAR', 'DZIP1L', 'AVIL', 'ATP2B2', 'POFUT1', 'BUB1B', 'GCM2', 'ARID1A', 'KRT12', 'ARNT2', 'IYD', 'CHRNA7', 'COL4A2', 'ABCA4', 'MRPS2', 'ZAP70', 'MTHFD1', 'PERP', 'DNM1', 'ORC4', 'PIGP', 'ASXL1', 'BAZ1B', 'MT-TN', 'CACNA1E', 'SLITRK1', 'GANAB', 'MYL4', 'EIF2AK2', 'SLC34A1', 'BRCA2', 'ZFYVE27', 'SYNE1', 'ROBO1', 'PLD3', 'SOST', 'AGBL5', 'ATP1A3', 'CACNA1B', 'PCK2', 'ADSL', 'INPP5E', 'NPTX1', 'CAMTA1', 'SLC1A4', 'SRC', 'FOXC1', 'PGM3', 'GRB10', 'MARVELD2', 'NR5A1', 'SCGB3A2', 'ALDH1A2', 'MSX2', 'ZBTB18', 'CEP290', 'PPP1R15B', 'TOE1', 'CA2', 'TGFBR2', 'COX10', 'AK2', 'SLC7A7', 'IFITM5', 'SUOX', 'KCNQ1', 'BPTF', 'MT-TC', 'CRYGC', 'MCIDAS', 'COL6A3', 'KIF1B', 'SMC1A', 'MYH7', 'WNT9B', 'SNRPN', 'IRAK1', 'MEF2C', 'MECR', 'ASPM', 'LRRC32', 'SPINK5', 'ACD', 'PRDM16', 'MLH3', 'ALG8', 'ANKH', 'MYOD1', 'MLX', 'TTC12', 'BLNK', 'ARHGAP24', 'GRXCR2', 'NEXN', 'EMILIN1', 'NSRP1', 'UQCRH', 'KCNQ5', 'UNC119', 'NRTN', 'KIAA1549', 'SHPK', 'UCP3', 'KLHL41', 'ARHGEF10', 'MBD4', 'H3-3A', 'ACTN2', 'TRMT10C', 'CRX', 'AP1S2', 'EPHA10', 'MAN2C1', 'NDUFAF4', 'CCDC8', 'GATA4', 'RDH11', 'PYCR2', 'NDUFS2', 'P2RX2', 'SMARCA2', 'RAP1GDS1', 'RNU4ATAC', 'NDP', 'FAM161A', 'FHOD3', 'DDX6', 'COQ8B', 'MOCS1', 'USP7', 'PIGQ', 'CANT1', 'PMP22', 'CDSN', 'TIMP3', 'AHR', 'NUP205', 'ETS1', 'ORAI1', 'PLEC', 'RAC1', 'FARS2', 'BMP1', 'TNFSF4', 'ZNF513', 'EXOC2', 'CORIN', 'RTEL1', 'DNASE1L3', 'HCN4', 'GRIN2D', 'CD81', 'SDHD', 'RP2', 'KLF11', 'PPP2R2B', 'GOSR2', 'DLX3', 'ALDH2', 'GPR161', 'ETFB', 'CARS1', 'NPPA', 'GBF1', 'SIX5', 'FRA10AC1', 'MDM4', 'SH2B1', 'FKBP14', 'SRGAP1', 'SEMA3C', 'RD3', 'LRSAM1', 'LTBP3', 'LTBP1', 'KCNN3', 'MBTPS2', 'ARL6IP6', 'TUBA3D', 'EXOSC9', 'TRPS1', 'HK1', 'BMP15', 'HYLS1', 'ATP2A2', 'LMOD2', 'ALG12', 'FTO', 'IMPG2', 'ELMOD3', 'ALPL', 'STAT4', 'SLC9A1', 'SNAI2', 'CIB2', 'TNPO3', 'WAC', 'CCND1', 'L2HGDH', 'PIEZO1', 'MYO9A', 'STAG1', 'FIBP', 'RPL26', 'EP300', 'GUCY2C', 'C4A', 'TOR1A', 'NOTCH2', 'ITM2B', 'RSPH4A', 'PEX2', 'MT-CO2', 'TRRAP', 'PRSS2', 'TNPO2', 'TTC21B', 'SDCCAG8', 'DVL1', 'TNRC6B', 'SLC25A11', 'PDGFRA', 'LRRC8A', 'WDR19', 'DNAJC5', 'HIRA', 'PEX13', 'COG1', 'C1R', 'SLC2A10', 'XYLT2', 'ACTB', 'SNRPE', 'AMMECR1', 'STX5', 'SERAC1', 'CAMK2G', 'SOHLH1', 'DNMT3A', 'KCNJ16', 'CDK8', 'DCC', 'DCAF17', 'CDK5RAP2', 'DCTN1', 'CHST3', 'RPSA', 'SLC32A1', 'GJB6', 'EDARADD', 'GDAP1', 'CHRNA3', 'CUL3', 'PEPD', 'LHX1', 'NOS1AP', 'VCL', 'TRAPPC10', 'C1S', 'MLXIPL', 'ATXN8', 'KCNQ1OT1', 'FCGR2A', 'MAN1B1', 'ADGRE2', 'CCDC47', 'ZNFX1', 'CDK10', 'EPAS1', 'NMNAT1', 'NBEA', 'BCO1', 'LAMA4', 'DPH1', 'PLAAT3', 'FZD5', 'TBCK', 'B3GALNT2', 'CIC', 'NPRL3', 'SLC5A2', 'EED', 'CEBPA', 'ERI1', 'TBCD', 'NKX2-6', 'EFEMP1', 'KCNK9', 'DYNC2I2', 'COL5A1', 'DAAM2', 'UMPS', 'PSMD12', 'DPYSL5', 'TMEM260', 'SYT2', 'DGCR8', 'KISS1R', 'SFTPA1', 'PKLR', 'GNB4', 'RDH12', 'RNU7-1', 'GRHL2', 'SOX11', 'OPA1', 'CLPX', 'QRSL1', 'ADA2', 'STRADA', 'ELAC2', 'FHL2', 'PRDX1', 'PUM1', 'FLRT3', 'SMAD6', 'PRKDC', 'ANLN', 'AQP5', 'RPL8', 'NIPA2', 'FGFR2', 'LMBRD2', 'CASP2', 'DOCK7', 'CACNA1F', 'STARD7', 'KCNH5', 'SLC26A8', 'TCOF1', 'USH1C', 'HNRNPA1', 'KCNE5', 'FBXW4', 'TMEM126A', 'KNG1', 'PMPCB', 'FGF9', 'DUOX2', 'CFAP300', 'GDF2', 'PBX1', 'SOX6', 'HCK', 'OGT', 'CSNK1D', 'FZD2', 'CTNND1', 'NR0B2', 'IRS2', 'GSN', 'PTPN11', 'PRKAR1A', 'HRG', 'ADH1C', 'TRAIP', 'FGF17', 'FANCA', 'CBL', 'ATXN2', 'MICAL1', 'STING1', 'LOX', 'ABCD1', 'TTBK2', 'HNF1A', 'APOA2', 'PLAG1', 'VCAN', 'C2CD3', 'CXCR4', 'COMT', 'NEK8', 'PRPF3', 'COL4A1', 'AMER1', 'RPS20', 'COL12A1', 'PHF6', 'PDSS1', 'SLC2A1', 'TBX6', 'MCM6', 'RP1L1', 'MAST1', 'HCN1', 'RNF13', 'ERLIN2', 'GDF11', 'HTRA1', 'PPP1R12A', 'ALPK1', 'SET', 'OAT', 'FOXE3', 'COL1A2', 'NELFA', 'SLC30A2', 'CERT1', 'SNCAIP', 'TBC1D20', 'COL4A5', 'GFER', 'ZC4H2', 'NF1', 'PRX', 'SMC5', 'DCN', 'JAK2', 'MLH1', 'PIDD1', 'RSPRY1', 'TMEM63A', 'WHRN', 'TUBB4B', 'SEMA3E', 'KCNJ18', 'MYH9', 'RAI1']\n"
     ]
    }
   ],
   "source": [
    "# get the gene symbols associated with the extracted HP ids\n",
    "genes_associated = []\n",
    "for hp_id in HP_ids_embed:\n",
    "    if hp_id in hpo_gene_dict:\n",
    "        genes_associated.extend(hpo_gene_dict[hp_id])\n",
    "genes_associated = list(set(genes_associated))\n",
    "print(\"Genes extracted after embedding normalisation\")\n",
    "print(\"-------------------------------------------------------------------------------------------\")\n",
    "print(f\"The total number of genes associated with the extracted HPO IDs are : {len(genes_associated)}\")\n",
    "print(\"-------------------------------------------------------------------------------------------\")\n",
    "print(genes_associated)"
   ]
  },
  {
   "cell_type": "markdown",
   "metadata": {},
   "source": [
    "### Genes extacted after embedding normalisation + additional of parent ids"
   ]
  },
  {
   "cell_type": "code",
   "execution_count": 37,
   "metadata": {},
   "outputs": [
    {
     "name": "stdout",
     "output_type": "stream",
     "text": [
      "HP ids after addition of parent ids: ['HP:0000365', 'HP:0000364', 'HP:0004467', 'HP:0100277', 'HP:0000006', 'HP:0001407', 'HP:6000174', 'HP:0010447', 'HP:0000407', 'HP:0012210', 'HP:0000077', 'HP:0004629', 'HP:0008479', 'HP:0011518', 'HP:0007641', 'HP:0000377', 'HP:0012582', 'HP:0000110', 'HP:0001425']\n"
     ]
    }
   ],
   "source": [
    "# Adding parent IDs to the extracted HPO IDs\n",
    "HP_ids_embed_parents = []\n",
    "for hp_id in HP_ids_embed:\n",
    "    HP_ids_embed_parents.append(hp_id)\n",
    "    if hp_id in child_parent_dict:\n",
    "        HP_ids_embed_parents.append(child_parent_dict[hp_id])\n",
    "print(f\"HP ids after addition of parent ids: {HP_ids_embed_parents}\")"
   ]
  },
  {
   "cell_type": "code",
   "execution_count": 45,
   "metadata": {},
   "outputs": [
    {
     "name": "stdout",
     "output_type": "stream",
     "text": [
      "Genes extracted after adding parent IDs\n",
      "-------------------------------------------------------------------------------------------------------------\n",
      "The total number of genes associated with the extracted HPO IDs and their parent IDs are : 3658\n",
      "-------------------------------------------------------------------------------------------------------------\n",
      "['KCNA2', 'MFSD8', 'SPARC', 'TRIM44', 'BLVRA', 'ALDOA', 'DEPDC5', 'SI', 'GJA8', 'XPR1', 'OFD1', 'YME1L1', 'EGR2', 'FBXO11', 'NDUFS4', 'TMEM107', 'POMGNT2', 'PDZD8', 'FRMD4A', 'CREB3L1', 'RNF220', 'LEMD2', 'MYL9', 'SARDH', 'UPF3B', 'STX11', 'IRF3', 'GFI1B', 'MAPT', 'POLR1D', 'AUTS2', 'SDHB', 'MINAR2', 'PER2', 'STX1A', 'GCH1', 'NAA10', 'ATP2C1', 'GATAD1', 'ABCC6', 'DISC2', 'SPTBN1', 'ARHGAP31', 'NUP214', 'SPINT2', 'BLTP1', 'RYR2', 'UGDH', 'MET', 'COL2A1', 'NDUFB10', 'PRSS1', 'NRIP1', 'PANX1', 'CHD2', 'ZNF408', 'SMOC1', 'B9D2', 'C1GALT1C1', 'ILDR1', 'CSF3R', 'MYO3A', 'HNF1B', 'VAMP1', 'COL8A2', 'GPR35', 'HBG1', 'KRT17', 'TMIE', 'COG3', 'PRG4', 'MCTP2', 'NAF1', 'CACNB4', 'PMVK', 'DDR2', 'CEP152', 'ZNF644', 'TNNC1', 'BEST1', 'TRIP13', 'HRAS', 'PHACTR1', 'PDHA1', 'TIE1', 'DICER1', 'TUBGCP4', 'VARS1', 'THPO', 'MT-TT', 'CEP19', 'CYCS', 'SPTA1', 'KIF5C', 'RPL31', 'CRYBA2', 'AMPD2', 'DOK7', 'SLC36A2', 'KLF13', 'NUP107', 'SLC1A1', 'NR2E3', 'GZF1', 'KLHL3', 'GFRA1', 'ADRB3', 'NAA20', 'HGF', 'RPL3L', 'MCC', 'DOCK11', 'RTTN', 'DSE', 'TUBA8', 'ITGA3', 'ACP5', 'RB1', 'ANO3', 'TACR3', 'KCNAB2', 'BRD4', 'SIX3', 'SLC12A2', 'CDCA7', 'GLA', 'CCL11', 'ZFHX3', 'UBE2L3', 'PYCR1', 'GLUL', 'PAK2', 'TLR3', 'CST3', 'TARDBP', 'RAC2', 'GUSB', 'ZMPSTE24', 'CLPP', 'NOS3', 'CTU2', 'PIGS', 'AP2M1', 'GHR', 'GATA1', 'SPG7', 'SEMA3A', 'WARS1', 'SYT1', 'MBD5', 'SATB2', 'TM4SF20', 'MAPKAPK3', 'HDAC6', 'WFS1', 'SPAG1', 'NDUFV2', 'ADGRL1', 'DNASE2', 'WDR35', 'ATPAF2', 'MT-TH', 'TLK2', 'POMC', 'PKHD1', 'NDRG1', 'ATP1A2', 'CCDC65', 'PRKAR1B', 'FLT3', 'NDUFAF2', 'SLC4A1', 'LCA5', 'POU3F3', 'TNF', 'TANC2', 'CCDC32', 'ARPC4', 'PAX2', 'AARS1', 'FTSJ1', 'HPS6', 'KCNA5', 'CDKL5', 'BSND', 'GMPPA', 'SLC39A8', 'GATA6', 'CNNM2', 'OTOF', 'KIAA0586', 'ANGPT1', 'CSGALNACT1', 'IGLL1', 'MSL3', 'GATA2', 'RNU12', 'NEK1', 'CCDC50', 'SEMA3D', 'CCNQ', 'MEIS2', 'OBSL1', 'XPA', 'PDCD1', 'TRIM32', 'FLNC', 'PCDHGC4', 'FKRP', 'DLK1', 'TBX3', 'FAM20A', 'ATXN8OS', 'CRYBA1', 'CEACAM3', 'RETN', 'SUCLA2', 'EYA1', 'PMS2', 'BTK', 'SIX1', 'KAT8', 'RMND1', 'GPX4', 'MRPS14', 'GNAI2', 'MARS2', 'SLC30A9', 'RPL21', 'SPTBN2', 'MEG3', 'CALR', 'DST', 'MAX', 'SMAD3', 'DPP6', 'TMEM126B', 'DLX6', 'TUBG1', 'EXTL3', 'LIFR', 'MIR204', 'CRYGD', 'IKZF1', 'RPA1', 'GRM1', 'B3GAT3', 'ERCC8', 'NIPA1', 'SYN2', 'GNRH1', 'POLE', 'ANTXR2', 'ZBTB24', 'FEZF1', 'VHL', 'GAS1', 'TMEM53', 'NHERF1', 'RNASEH2A', 'KCNJ5', 'NSF', 'CASK', 'GDF5', 'FGFRL1', 'SAMD9', 'TCF3', 'SNCA', 'KIF22', 'RNASET2', 'PRCC', 'COLEC11', 'DDX59', 'NEUROG1', 'MTX2', 'TAOK1', 'KNL1', 'DNMT3B', 'THOC2', 'RREB1', 'PEX3', 'ANKRD1', 'LIG4', 'IQCB1', 'THOC1', 'ATG7', 'MYBPC1', 'LRIG2', 'SRCAP', 'ATL1', 'CRPPA', 'CYP7B1', 'KDM3B', 'GLUD1', 'GBA2', 'MYOC', 'PAX4', 'FRMD5', 'FCGR3B', 'DONSON', 'SERPINA1', 'CUX1', 'OTUD6B', 'HPSE2', 'OBSCN', 'TBL1Y', 'TERT', 'RORA', 'DKC1', 'ATP6V1B1', 'REEP6', 'TRPM3', 'MAF', 'PRF1', 'VPS33A', 'TCTN2', 'KATNIP', 'MT-CO3', 'SNORA31', 'MTSS2', 'ABCA1', 'YRDC', 'MPEG1', 'RSPH9', 'MYMK', 'PI4KB', 'HSPG2', 'MYH2', 'CDK13', 'SPTB', 'DIABLO', 'HOXA2', 'ANKRD17', 'MYL11', 'F11', 'SCYL2', 'LAMB3', 'STAT3', 'GSC', 'ALX1', 'SLC18A3', 'PPP3CA', 'IL7R', 'TGFBR1', 'ATP6V0C', 'BPNT2', 'CFB', 'WNT5A', 'HOXA13', 'ENAM', 'TBC1D23', 'FBXO38', 'SNCB', 'RP1', 'PIGN', 'COQ7', 'DES', 'CDH2', 'CAMK2B', 'AKAP9', 'CDC42', 'CDK19', 'CDKN2B', 'NDUFS1', 'GLI1', 'ABCC8', 'NDUFB11', 'IFNG', 'GABRG2', 'UFC1', 'KCND3', 'FGF14', 'GGPS1', 'NSDHL', 'DNAAF5', 'KCNJ6', 'MYMX', 'MED12', 'TXNL4A', 'ALOX5', 'ALG13', 'ATP5F1D', 'GDF1', 'COG6', 'CACNA1A', 'IKZF3', 'BACH2', 'ATXN10', 'RNF170', 'MYD88', 'WDR81', 'DSP', 'MT-CYB', 'PSEN1', 'PACS2', 'ACER3', 'PISD', 'MPL', 'TYMS', 'MST1R', 'FUT8', 'ACTA1', 'NAGLU', 'DLG4', 'TLCD3B', 'RBP3', 'PROP1', 'BCKDK', 'MCAT', 'ESCO2', 'DNAJB13', 'RGR', 'RPGR', 'KCNQ2', 'FBXW11', 'FAM111A', 'ZNF750', 'COL1A1', 'CPOX', 'ANKRD26', 'SEMA4A', 'GABRB1', 'ITGA8', 'CNGA1', 'PTRH2', 'SIAH1', 'KRT10', 'RBP4', 'PSMC1', 'SCN3B', 'MOCS2', 'TNNT2', 'CD96', 'TECTA', 'NEU1', 'ROBO2', 'PDE10A', 'FLNB', 'ERCC6', 'MT-TE', 'CRYBB2', 'ELMO2', 'CFAP74', 'NDNF', 'PJVK', 'KRIT1', 'TXNRD2', 'MEF2A', 'AP3D1', 'KBTBD13', 'VDR', 'ATP6AP1', 'TMEM127', 'PIK3R1', 'H4C11', 'GJA1', 'GUCY2D', 'TRIOBP', 'CHAMP1', 'SEMA4D', 'DSPP', 'TGM1', 'PRPF6', 'RAC3', 'RPL10', 'USB1', 'HHAT', 'FGF23', 'DCAF8', 'PGK1', 'USH2A', 'AP2S1', 'EXOSC8', 'SMAD2', 'GABRA1', 'HAX1', 'DAB1', 'MT-TK', 'CRB1', 'OPN1SW', 'FOXP3', 'DUX4', 'TRDN', 'CRKL', 'CSNK2A1', 'IFRD1', 'INAVA', 'TCF4', 'LMOD1', 'TCIRG1', 'COL4A6', 'LBR', 'DARS2', 'CA4', 'HMGB3', 'SPOP', 'RILPL1', 'TERC', 'DPYD', 'FOXN1', 'METTL5', 'LARP7', 'RPL9', 'PCARE', 'GPRASP2', 'TMEM106B', 'PKP1', 'MYCN', 'NPHS2', 'MUC7', 'KCNC2', 'NLRP12', 'COPB2', 'IL6ST', 'TIA1', 'ROBO3', 'PRDM12', 'COL6A2', 'CACNA1G', 'RP9', 'WNT7A', 'PRRX1', 'HARS2', 'TRPC6', 'LEMD3', 'LMBR1', 'SNORD116-1', 'QRICH1', 'MT-ND1', 'LRP5', 'TELO2', 'BCAP31', 'SATB1', 'NADSYN1', 'FGF3', 'SLC12A5', 'SRY', 'NEUROD1', 'ENPP1', 'ATP6AP2', 'STAG2', 'COL5A2', 'TLR4', 'ZNF469', 'KIAA0753', 'GATA5', 'LMAN2L', 'MID2', 'EDNRB', 'CCBE1', 'NODAL', 'SEPTIN9', 'DOLK', 'PDYN', 'CDON', 'TPRN', 'HLA-DQB1', 'SAMHD1', 'POLR2A', 'ACTC1', 'CSRP3', 'TTN', 'ZCCHC8', 'NANS', 'RAB3GAP1', 'NKX2-5', 'VAMP2', 'SASH1', 'DRG1', 'MKKS', 'GSTM3', 'GNPTAB', 'LDLRAP1', 'PHYH', 'SCN5A', 'ATP7A', 'PHB1', 'PIK3CD', 'POMK', 'ETFA', 'NIN', 'UNC45A', 'PUF60', 'SNX14', 'SHOX', 'VPS35L', 'UQCRC1', 'ADAMTS18', 'AGBL1', 'HLA-DRB1', 'SEPTIN12', 'TAF13', 'HERC1', 'ST3GAL5', 'PEX14', 'LAGE3', 'SLC19A2', 'CDKN1A', 'CDC42BPB', 'HBB', 'USP9X', 'TUBB8', 'PFKM', 'TAC3', 'VPS4A', 'NSD1', 'NDUFAF6', 'FBLN1', 'COL7A1', 'CREBBP', 'ERBB2', 'SLC6A4', 'MTAP', 'CTLA4', 'HNRNPR', 'GRK1', 'GRHPR', 'PPP1R3A', 'AHI1', 'DLX5', 'MANBA', 'DRD4', 'POGZ', 'TIMELESS', 'PHKG2', 'MYPN', 'CYP19A1', 'SLC40A1', 'CHST14', 'ARL6', 'KMT2D', 'BUB3', 'B2M', 'FXYD2', 'CYP24A1', 'ARHGDIA', 'SERPINA6', 'MINPP1', 'GRXCR1', 'FAN1', 'TRNT1', 'FGFR1', 'DNMT1', 'RPE65', 'MT-ND3', 'SIX6', 'KRAS', 'DNAH9', 'FANCL', 'TNNI2', 'DYRK1B', 'ANO5', 'NLRP1', 'AAGAB', 'SCN1B', 'NUP93', 'GREB1L', 'ABCA7', 'HNRNPH1', 'SPEG', 'SCN4B', 'PDGFB', 'EMP2', 'TNNI3K', 'KIAA0319L', 'MEGF8', 'RFT1', 'NEFH', 'GDNF', 'FAM149B1', 'ZNF592', 'LMNB1', 'HSD17B4', 'SLC22A18', 'SLC34A2', 'PIGL', 'DLL1', 'PNPT1', 'CLCN3', 'CUL4B', 'ERAL1', 'CYP11B1', 'SEC31A', 'TOPORS', 'ASXL2', 'ROBO4', 'ALOX12B', 'MIR184', 'SLC6A9', 'GK', 'KCNE3', 'FBN2', 'CD79A', 'APRT', 'ITGB4', 'PDE6D', 'PSENEN', 'KCNJ1', 'CDHR1', 'ZMYM2', 'HNF4A', 'APOA5', 'WDR62', 'BCL11B', 'MT-TS2', 'EFTUD2', 'PYGL', 'MYBPC3', 'BCR', 'OTOG', 'HOXA11', 'DLG5', 'ADA', 'IGF2BP2', 'LPIN1', 'GNB2', 'PGAM2', 'FCGR2B', 'RYR1', 'SUZ12', 'BTRC', 'KIDINS220', 'SMPD4', 'CAPN5', 'FAM20C', 'PRKCG', 'RFC2', 'NEUROD2', 'PPP2R3C', 'SULT2B1', 'EPHX2', 'CELF2', 'CARD14', 'GDF15', 'TUBB2B', 'RAB7A', 'INVS', 'PUS7', 'STAC3', 'GRIA1', 'TGIF1', 'MCM7', 'TBC1D7', 'TBX20', 'CNOT2', 'GRIN2A', 'EIF2AK1', 'EXT1', 'MME', 'MCM2', 'KPNA3', 'CRIPTO', 'GABRB2', 'POU6F2', 'XYLT1', 'PSAT1', 'POMP', 'KIZ', 'NHS', 'ACY1', 'KLHL24', 'HPD', 'EFHC1', 'SLC17A5', 'PRKCSH', 'RFWD3', 'GLIS3', 'TIMMDC1', 'SLCO2A1', 'IL13', 'NAXD', 'RET', 'PIGU', 'TASP1', 'H4C5', 'TPO', 'WDR11', 'RUNX1', 'ALG1', 'CEP104', 'LETM1', 'RARB', 'ARID2', 'SLC20A2', 'TMEM216', 'POLR1C', 'LSS', 'BBS1', 'ARPC5', 'SMG8', 'BRIP1', 'PLCH1', 'TREX1', 'NFKBIA', 'MAP3K8', 'PAX8', 'UCHL1', 'IFT27', 'TUBB3', 'SALL1', 'TRPV3', 'FAH', 'WASHC4', 'POLR3H', 'DAG1', 'ESRRB', 'POC1B', 'ZNF423', 'EDAR', 'AHSG', 'RSPH1', 'DNAI1', 'MED13L', 'SLFN14', 'PTHLH', 'CDK4', 'NOBOX', 'ABL1', 'CLDN14', 'PCSK9', 'ARMC5', 'MIEF1', 'TMEM231', 'EBF3', 'MT-ND4', 'EIF2S3', 'PRPH', 'EXOSC2', 'TCTN1', 'SETD2', 'BCOR', 'UQCC2', 'GRAP', 'SLC33A1', 'GNAQ', 'RTN4R', 'DMPK', 'MGME1', 'MORC2', 'SLC12A6', 'FANCF', 'MT-ATP8', 'NDUFAF5', 'STT3A', 'APOE', 'PKP2', 'TNFRSF11A', 'PLXND1', 'COMP', 'TUBB6', 'POLG', 'CRTAP', 'LYZ', 'RAPSN', 'ACTN1', 'FAM111B', 'ODAD1', 'MED12L', 'RPL5', 'KRT83', 'SREBF1', 'FGF12', 'GABRA3', 'EPO', 'TTC8', 'SLC35C1', 'CHRM3', 'AQP2', 'DLG1', 'AP1S3', 'SKI', 'RNF135', 'RAB3GAP2', 'ZFP57', 'MT-RNR1', 'MESP2', 'GPC3', 'SNAP29', 'ATP5F1B', 'SNF8', 'LGI4', 'MESD', 'POC1A', 'GATC', 'LMNB2', 'SMARCA4', 'MIR96', 'SIN3A', 'STRA6', 'ESS2', 'ATXN3', 'PLXNA1', 'ADAMTS15', 'SCNN1B', 'DPH5', 'BNC2', 'TRIM71', 'POLR3F', 'RANBP2', 'WNT3', 'ESRP1', 'HFE', 'PTCD3', 'DYRK1A', 'ACTG1', 'AMN', 'CDK6', 'RARA', 'RNASEH2B', 'SCNM1', 'STK36', 'OVOL2', 'AKT1', 'CCNO', 'UBIAD1', 'CRB2', 'IRF2BP2', 'GLI2', 'ZIC2', 'NSUN2', 'BBS9', 'CD164', 'BRCA1', 'FRAS1', 'HSF4', 'TGFB3', 'HECW2', 'CHRNA2', 'SLC12A3', 'MICOS13', 'CFAP418', 'HTR1A', 'POLG2', 'OSTM1', 'PDE4D', 'SRP54', 'ARSK', 'UBE2A', 'GABRD', 'SPTLC1', 'JAM3', 'PPOX', 'MSX1', 'WAS', 'KDM6A', 'ATM', 'SPIN4', 'CASQ1', 'SUCLG1', 'IDS', 'ERMARD', 'SLC25A22', 'SMO', 'PPIP5K2', 'SETD5', 'SLC4A3', 'EPG5', 'IL31RA', 'PEX6', 'ATXN7', 'TTI1', 'HOMER2', 'MACF1', 'MECOM', 'TMPO', 'PTPRF', 'IQSEC2', 'GPHN', 'TYMP', 'EPS8L2', 'GLI3', 'VIPAS39', 'PSMB1', 'CCN2', 'CTSK', 'NTN1', 'COA8', 'RXYLT1', 'MDM2', 'MEOX1', 'HOXB1', 'DBR1', 'HCRT', 'HTRA2', 'ZFHX2', 'INSR', 'SEC63', 'NUP160', 'GLS', 'PSEN2', 'MT-TW', 'POLR3B', 'VIM', 'AGTR1', 'MST1', 'KCNE1', 'MBL2', 'MRPS34', 'CLIC5', 'PIEZO2', 'OGDHL', 'SLC22A12', 'ITGA2B', 'HNRNPK', 'GLE1', 'GPKOW', 'HLA-DPB1', 'AURKA', 'CASZ1', 'MT-ND2', 'VPS51', 'SEMA5A', 'AAAS', 'ATP8B1', 'SMS', 'HSPB1', 'TRPM7', 'PEX11B', 'EPS8L3', 'SLC52A2', 'WDR37', 'SNX10', 'COL4A4', 'BMP6', 'SLC26A1', 'PNKD', 'CD2AP', 'VAC14', 'HMOX1', 'CFAP43', 'THOC6', 'MASP1', 'APC2', 'MAD2L2', 'COX11', 'TEFM', 'ITPR1', 'PLN', 'DYNC2H1', 'POLR3A', 'GARS1', 'CLDN11', 'DMP1', 'AGPAT2', 'GAD1', 'NEK2', 'BTD', 'PIGV', 'ARCN1', 'MYL2', 'RUSC2', 'HECTD4', 'F8', 'AGGF1', 'MT-ND5', 'GFAP', 'PLD1', 'FGD1', 'ZNHIT3', 'CLCF1', 'CRYBB3', 'TMEM237', 'LTBP4', 'SON', 'IL17RA', 'H1-4', 'MICU1', 'CLCNKA', 'TAF1A', 'FRMPD4', 'CLDN9', 'CAPN15', 'PRNP', 'SEMA6B', 'ALDH18A1', 'GRIP1', 'HDAC4', 'KRT2', 'RALA', 'EZH2', 'CLEC3B', 'KLF1', 'MRAS', 'DHCR24', 'EHMT1', 'CPT1A', 'SURF1', 'FH', 'HES7', 'HELLS', 'CARD8', 'PKDCC', 'PCGF2', 'ZFPM2', 'FLCN', 'ADGRG6', 'ASCL1', 'PTPN1', 'PLOD1', 'NME8', 'THSD4', 'KLLN', 'SCAPER', 'ANGPT2', 'PREPL', 'SOX10', 'USP18', 'KCNQ4', 'MAPK8IP1', 'TARS1', 'BSCL2', 'PAX6', 'STAT1', 'PRLR', 'IARS2', 'SETX', 'HAND2', 'RPS23', 'GATB', 'ADNP', 'GIGYF2', 'MAFA', 'STEEP1', 'LAS1L', 'CHD8', 'SCNN1G', 'IL6', 'PLOD3', 'HYMAI', 'ORC6', 'PRKG2', 'ELANE', 'RIPK1', 'PLK4', 'MT-TF', 'ADGRV1', 'CEP120', 'ZMYM3', 'IKBKG', 'GALNS', 'MOG', 'NUP37', 'CDKN2C', 'IVNS1ABP', 'TNFRSF13B', 'ATP7B', 'EPHB4', 'BRF1', 'PAX9', 'DNAAF3', 'STUB1', 'CAV1', 'ATP5MC3', 'UBAP2L', 'PLAA', 'MAGI2', 'CCDC28B', 'G6PC1', 'SLC4A2', 'ASH1L', 'SYNE2', 'CHCHD2', 'BBS10', 'DIP2B', 'CARS2', 'PHKB', 'NPRL2', 'IDH3A', 'DCTN4', 'DNASE1', 'TMEM98', 'NOTCH2NLC', 'NLRC4', 'MPDU1', 'RBM10', 'MTOR', 'TTC19', 'IL17RD', 'GATAD2B', 'ITGB6', 'RIPPLY2', 'PALB2', 'IL12A', 'SGCE', 'OTOA', 'FBLN5', 'AASS', 'BCL11A', 'TNXB', 'DNAI2', 'KDR', 'PLEKHM1', 'HSPA9', 'MYO7A', 'BRAF', 'CSF1R', 'PIGT', 'KCTD17', 'SGSH', 'NPHP4', 'CACNA1I', 'MPZL2', 'SDHAF2', 'CHUK', 'RPS26', 'FANCM', 'RB1CC1', 'ALX3', 'UBE4B', 'DNAAF4', 'AVPR2', 'NR3C1', 'UGT1A1', 'TSHR', 'WBP11', 'GRIA4', 'FXN', 'BICC1', 'INSL3', 'KIF11', 'IARS1', 'AKT3', 'IFT81', 'IFT172', 'CHRNA1', 'F13A1', 'ALB', 'PIGY', 'OTOGL', 'FCGR2C', 'KCNJ2', 'DAOA', 'KIF23', 'GCDH', 'SLC4A11', 'TMEM38B', 'PARN', 'PEX26', 'SLC25A12', 'CEACAM6', 'CD151', 'POT1', 'DVL3', 'NRAS', 'P4HA2', 'OPLAH', 'APOA1', 'CTH', 'COL9A3', 'ALDOB', 'BDNF', 'PNKP', 'MRPS16', 'CALM3', 'MGAT2', 'SLC9A6', 'DMXL2', 'TENM3', 'FUZ', 'SALL4', 'MOGS', 'H4C9', 'KIF3B', 'LONP1', 'FOXC2', 'PDE6C', 'CHN1', 'CYP4F22', 'KCNN4', 'SOX18', 'MRPL12', 'MYOT', 'PLG', 'NDE1', 'UFSP2', 'NOD2', 'ELN', 'RPS29', 'ATP6V1B2', 'RNF43', 'PPP2R1A', 'CALCR', 'ERBB4', 'CPT2', 'ASCC3', 'SHOC2', 'LDHA', 'CNGB1', 'TPRKB', 'FANCG', 'TCAP', 'CDC73', 'MLLT10', 'DHX37', 'NIPAL4', 'PRODH', 'TBX18', 'IRF2BPL', 'MYO5B', 'IL12A-AS1', 'MFAP5', 'KIF1A', 'HNRNPDL', 'RRAS', 'CTRC', 'BICRA', 'FBP2', 'TGFB1', 'PRUNE1', 'ARX', 'OCLN', 'PRTN3', 'GP9', 'MT-TQ', 'LRRC56', 'FOXE1', 'PSTPIP1', 'MUC5B', 'VPS16', 'TULP3', 'YEATS2', 'SLC7A14', 'RASA1', 'TRIM37', 'GNE', 'SLC1A2', 'TDO2', 'SPRED2', 'MSH2', 'FREM1', 'RAB5IF', 'BUB1', 'H19', 'CCND2', 'UFD1', 'SAMD12', 'PCK1', 'CRLS1', 'WWOX', 'SAT1', 'FAS', 'POMT2', 'KIF5A', 'AKT2', 'RELA', 'SLC52A3', 'GATM', 'ADCY10', 'ANKLE2', 'VCP', 'PHC1', 'IFT56', 'PEX7', 'PHOX2A', 'CTNS', 'MATR3', 'CACNA1H', 'PRMT7', 'FTL', 'WDFY3', 'PAFAH1B1', 'DPF2', 'CHMP4B', 'LRP4', 'CARTPT', 'PHIP', 'HS6ST2', 'FOXL2', 'MT-TP', 'MT-ND6', 'MRPS22', 'DYNC2LI1', 'SOX9', 'TMEM132E', 'RECQL4', 'CPT1C', 'CHMP2B', 'ATR', 'GNRHR', 'HSD11B1', 'MYLK2', 'GJB3', 'CFHR1', 'XRCC2', 'PPP1CB', 'IFT52', 'FTH1', 'HBA1', 'MIA3', 'DLL4', 'UBB', 'FKBP10', 'DNAJB11', 'RAD54B', 'TP53RK', 'ZNF668', 'PXK', 'PIGO', 'CDH23', 'ATP5MK', 'KPTN', 'MED13', 'GNAL', 'PEX1', 'ANKS6', 'MUTYH', 'EYA4', 'KLHL10', 'SDHA', 'IRF8', 'MPZ', 'PML', 'MSH4', 'TPM4', 'ATP6V1A', 'MAFB', 'SERPINB6', 'GRIN1', 'DHX16', 'HOXD13', 'CETP', 'DNAL1', 'CATSPER2', 'MMUT', 'SC5D', 'IRF5', 'SLC37A4', 'EPS15L1', 'CLIC2', 'EDEM3', 'MCFD2', 'RNF2', 'SLC39A14', 'SLC6A6', 'CYLD', 'COL11A2', 'ZNF148', 'RNF113A', 'TRMT5', 'THBD', 'ARSL', 'FAT2', 'DNM2', 'ASNS', 'CHRNA4', 'GRN', 'SHH', 'TUBB', 'PAK3', 'RIPOR2', 'HSPB8', 'FLG', 'REEP2', 'F2', 'BANK1', 'GLB1', 'GLRA1', 'SSR4', 'TFG', 'KLHL7', 'SARS1', 'RAD21', 'ZMIZ1', 'GHRL', 'PTPRJ', 'SLC30A8', 'TBX5', 'CBY1', 'C4B', 'HERC2', 'FOXJ1', 'PDE6B', 'ACTA2', 'ZNF526', 'DSTYK', 'EDN1', 'ATRX', 'FREM2', 'SNAP25', 'YY1AP1', 'DHPS', 'ATL3', 'STX4', 'IL36RN', 'METTL27', 'CPLANE1', 'TRIM8', 'CEP63', 'WIPF1', 'SIX2', 'XPC', 'HDAC9', 'CLDN10', 'AFG2B', 'SLC1A3', 'TYR', 'KRT6C', 'NXN', 'ZEB2', 'CNOT1', 'ZSWIM6', 'ARHGEF38', 'LITAF', 'ERCC1', 'MT-TV', 'PTF1A', 'EPB41L1', 'COL9A1', 'CFC1', 'STOX1', 'KIF14', 'FAR1', 'PPP2R1B', 'ACOX1', 'WNT4', 'GAPVD1', 'CRELD1', 'MED11', 'PLAGL1', 'SOD1', 'DNAJB6', 'TENM4', 'CRLF1', 'ACVR1', 'RPGRIP1', 'WDR26', 'INTS11', 'DZIP1', 'HLA-DPA1', 'MMP1', 'PLP1', 'APOL4', 'MT-ATP6', 'ECE1', 'PEX12', 'TKT', 'DNAJC30', 'SOX3', 'TRIP12', 'AGXT', 'KRT13', 'PRDM6', 'MDH2', 'DYNC1H1', 'CWC27', 'NANOS1', 'INPPL1', 'JAK1', 'LMX1B', 'HACE1', 'KLRC4', 'SLC6A5', 'LORICRIN', 'POMGNT1', 'CEP164', 'GHSR', 'TAF4', 'TRPC3', 'USP8', 'CYFIP2', 'TSC2', 'IRF6', 'ALMS1', 'LRP6', 'MMP13', 'ADAMTSL2', 'KDM1A', 'CEP85L', 'NECTIN1', 'B3GALT6', 'HAAO', 'RBM12', 'CLCN1', 'AGRN', 'REST', 'PICALM', 'SPEN', 'PDK3', 'GNAI1', 'WDR4', 'SUPT16H', 'LZTR1', 'UNC45B', 'MYT1L', 'SLC4A10', 'TFE3', 'TIMM8A', 'PDZD7', 'NKX2-1', 'APOB', 'SLC26A5', 'HGD', 'ALG6', 'SCN10A', 'APCDD1', 'SLC16A2', 'KRT86', 'CALM1', 'NUP88', 'NR4A2', 'ATP11A', 'NOL3', 'PLCG2', 'KDF1', 'GP1BB', 'GTF2IRD2', 'UBE3B', 'SCN8A', 'KDM6B', 'GP1BA', 'GJA5', 'HEPACAM', 'BBS7', 'MPLKIP', 'CTSB', 'NDUFA13', 'CACNA1D', 'ATN1', 'PRIM1', 'ELP1', 'PDPN', 'HESX1', 'SLITRK6', 'MEN1', 'SLC6A17', 'PIK3CA', 'SBF2', 'ROM1', 'NOTCH1', 'CDC45', 'NDUFB9', 'PKD1', 'SPART', 'S1PR2', 'XPNPEP3', 'INF2', 'SYK', 'CHEK2', 'FOXI3', 'IREB2', 'NAGA', 'ARL2BP', 'HTT', 'MYOCD', 'ALG10B', 'CCR1', 'RPGRIP1L', 'TRMT1', 'SNTA1', 'PAM16', 'HEATR3', 'DNAH5', 'FBN1', 'CTNNA1', 'JPH3', 'CCM2', 'WNK1', 'GPR156', 'POLD1', 'LMNA', 'NCDN', 'SMARCAL1', 'WDPCP', 'TMEM240', 'NSD2', 'NCAPD3', 'BBIP1', 'FANCI', 'CACNA1S', 'RIGI', 'TBP', 'KRT14', 'KAT5', 'ERCC3', 'CLDN19', 'SLF2', 'TUBGCP2', 'NLRP3', 'MFSD2A', 'UBA1', 'SMARCE1', 'COG5', 'LARS2', 'ADRB1', 'RPL18', 'FOXG1', 'KCNT1', 'NME5', 'CAMK2A', 'DCPS', 'SP7', 'SERPING1', 'GPSM2', 'RORB', 'RPS17', 'DNAJC19', 'KDM4B', 'PKD2', 'EN1', 'NDUFB3', 'PCLO', 'PRPF4', 'ADAMTS13', 'COG4', 'MANF', 'MKS1', 'FGF20', 'CERS3', 'RPL13', 'SCN11A', 'RNF125', 'KRT5', 'CFTR', 'ATP2B1', 'GET3', 'ACVRL1', 'ERAP1', 'RAB11B', 'DCHS1', 'MIR140', 'TRAPPC12', 'LUZP1', 'SPATA7', 'KCNMA1', 'TMEM147', 'SHANK3', 'DNAJC3', 'KMT2E', 'ABCC1', 'CSNK2B', 'CIT', 'KMT2A', 'TUB', 'H4C3', 'LZTFL1', 'AGO1', 'LRP12', 'CYBC1', 'CASR', 'GATA3', 'ABCG8', 'CNOT3', 'MMP23B', 'AFP', 'RASA2', 'H3-3B', 'TNNT1', 'NBN', 'MFN2', 'LRRK2', 'CDC6', 'KCTD1', 'NR3C2', 'GPT2', 'MARS1', 'PITPNM3', 'DIAPH1', 'MIP', 'ETV6', 'PSMC3IP', 'ZMYND11', 'NEFL', 'DPH2', 'RRAGC', 'CDKN1C', 'TMTC4', 'SAA1', 'RAG2', 'SYNE4', 'PORCN', 'VPS33B', 'COL4A3', 'CACNB2', 'DDB2', 'ADAMTS2', 'ALG5', 'TBC1D24', 'PNPLA6', 'MAPKBP1', 'MRPS28', 'BMPR1B', 'PGAP3', 'CAPRIN1', 'PALLD', 'HCN2', 'CTBP1', 'PRCD', 'NOTCH3', 'UBA2', 'TRAPPC9', 'PIGW', 'TGFBI', 'NFIA', 'RNASEH2C', 'AFF2', 'CDH11', 'GLIS2', 'TOP3A', 'BIN1', 'FDPS', 'CASP10', 'MYH3', 'KAT6A', 'MYO18B', 'HRURF', 'ARSB', 'CLCA4', 'KLK11', 'IFT74', 'PLA2G6', 'CHRNB1', 'MVD', 'THSD1', 'LRP1', 'PRDX3', 'CEP295', 'FOXD3', 'FANCE', 'PLCG1', 'PHKA2', 'RABL3', 'FIG4', 'STEAP3', 'SDHC', 'CCDC39', 'SFTPC', 'PDE6H', 'PROC', 'QARS1', 'FOXRED1', 'RDH5', 'CLCN2', 'ITPR3', 'GRHL3', 'PROS1', 'MAT1A', 'NALCN', 'TTI2', 'KCNK4', 'STAT5B', 'SPINK1', 'IL23R', 'ANAPC7', 'WRN', 'RAF1', 'SLC7A9', 'GNB1', 'GNAT1', 'EEF1A2', 'ITCH', 'ARMC9', 'TEAD1', 'ARVCF', 'POLR1A', 'SMARCC2', 'APC', 'DDB1', 'CPA6', 'TP53', 'CPSF1', 'DSC2', 'NR2F1', 'HS2ST1', 'TBXA2R', 'PMM2', 'CCDC22', 'IGHG1', 'ANK1', 'IL1RAPL1', 'ERG', 'MT-TL1', 'ELOVL5', 'NUTM2B-AS1', 'GUCA1A', 'FBXO28', 'SLC39A7', 'PIGK', 'CHEK1', 'THAP1', 'MYO6', 'VSX1', 'POGLUT1', 'GON7', 'KCNN2', 'DYNC2I1', 'XRCC3', 'HNRNPC', 'FUCA1', 'KRT81', 'FZD4', 'IDUA', 'USP45', 'RBMX', 'PNPLA1', 'LRTOMT', 'CCDC78', 'SCN1A', 'SMARCB1', 'KCNJ13', 'PMS1', 'SCARB2', 'CHD1', 'ACSL4', 'HSD17B10', 'REN', 'TRAPPC11', 'USP48', 'PLAU', 'CNGB3', 'EDC3', 'GJC2', 'KCNJ11', 'SH3TC2', 'PTH', 'TFAP2A', 'ASPRV1', 'VPS13B', 'POU4F1', 'CHRNB2', 'COQ6', 'PIK3R2', 'TMCO1', 'VPS37A', 'NFIX', 'DGKE', 'RPL35A', 'CUBN', 'TGDS', 'WNT10A', 'BAP1', 'RPS6KA3', 'MYOF', 'PCDH15', 'RFC1', 'KIF2A', 'NPR2', 'TNRC6A', 'ARL13B', 'FOXL1', 'SEC61A1', 'NFKB2', 'UBR1', 'COG7', 'GABRA2', 'DMD', 'RBM20', 'DPAGT1', 'PPP2CA', 'DRD5', 'IFT43', 'ADRA2A', 'GRIN2B', 'HBA2', 'MAPK8IP3', 'PRDM10', 'F9', 'CACNA1C', 'FANCD2', 'IRS1', 'IGBP1', 'KRT4', 'ASPA', 'GNA11', 'SKIC2', 'HSD11B2', 'ADAR', 'RERE', 'TMEM151A', 'LGI1', 'UBTF', 'SCARF2', 'COL14A1', 'CYB561', 'KCNJ10', 'OPHN1', 'RIPK4', 'GLYCTK', 'TBL2', 'IRX5', 'BMS1', 'TCN2', 'GAA', 'CERKL', 'WT1', 'NDUFAF3', 'HOXD10', 'RECQL', 'AGT', 'FOXH1', 'TCF20', 'SETBP1', 'ATP6V0A1', 'NFIB', 'SLC26A2', 'PRIMPOL', 'PNPLA2', 'GNS', 'RAD51', 'PROM1', 'CEL', 'KCNK3', 'CDKN2A', 'GRIA2', 'TRAPPC14', 'COL13A1', 'ELOVL1', 'MAPK1', 'RIT1', 'UGP2', 'ASXL3', 'CCR6', 'NFE2L2', 'BEAN1', 'CDT1', 'TMEM138', 'PGM2L1', 'AIRE', 'JMJD1C', 'TRAF7', 'CCDC141', 'RBPJ', 'RNASEL', 'CYP2C9', 'SETD1A', 'CACNA2D1', 'SIK1', 'GIPC1', 'TUBB1', 'MYO15A', 'COX14', 'ZNF699', 'ABCA12', 'CES1', 'IGHM', 'BMPR1A', 'LOXHD1', 'ANKFY1', 'MIF', 'BAG3', 'NEK10', 'ALG3', 'STAT6', 'CLCN6', 'PNP', 'COQ2', 'TOGARAM1', 'SLC26A4', 'PACS1', 'SLC5A1', 'TAB2', 'DTNA', 'DNAH1', 'TRAF3', 'SMPX', 'ICOS', 'GABRB3', 'ACO2', 'RPL11', 'SOS2', 'ELOVL4', 'PRKD1', 'SLC6A2', 'IL11RA', 'ANXA11', 'MITF', 'RHBDF2', 'RAP1B', 'NR0B1', 'NUS1', 'POR', 'LDLR', 'NPHS1', 'AKR1D1', 'B4GALT7', 'NHP2', 'ESAM', 'VANGL1', 'SYCP2', 'CD19', 'DGUOK', 'USP53', 'PRRT2', 'ARF1', 'IL2RG', 'CALM2', 'RHAG', 'ANTXR1', 'CHD4', 'DIAPH3', 'PCNT', 'PIKFYVE', 'TP63', 'CDKN1B', 'AGA', 'PRDM5', 'IPW', 'ANG', 'SLC9A3', 'PEX10', 'IMPG1', 'CAPN3', 'GTF2H5', 'PLCD1', 'CELA2A', 'MAP3K7', 'LHX4', 'KMT2B', 'SERPINE1', 'NUP85', 'ACTN4', 'ORC1', 'ERBB3', 'PRPF31', 'PGAP2', 'TG', 'SRRM2', 'SLC25A24', 'DIO1', 'MUC1', 'NCSTN', 'PCYT1A', 'RAX2', 'ROR1', 'ARL3', 'ATP6V0A2', 'NDUFV1', 'PTPRQ', 'IRF1', 'ECHS1', 'IFT88', 'CHSY1', 'LOXL1', 'TNFSF11', 'DGCR2', 'PPARG', 'TLR7', 'THUMPD1', 'FSHR', 'TOM1', 'IL10', 'SLC4A4', 'NEB', 'CRYGB', 'DDX11', 'PHGDH', 'TAFAZZIN', 'KATNB1', 'HUWE1', 'KCNE2', 'UFM1', 'NDUFAF1', 'DRAM2', 'PAICS', 'RUNX2', 'ROR2', 'TICAM1', 'CHRNE', 'VANGL2', 'TWNK', 'EIF3F', 'GUCA1B', 'NEXMIF', 'SPNS2', 'SLC52A1', 'CHMP1A', 'KITLG', 'PTCH2', 'HOXA1', 'APOL2', 'PIK3C2A', 'ASAH1', 'THRB', 'ERCC5', 'C1QBP', 'COQ8A', 'SCN4A', 'CEP55', 'MYH14', 'CHIC2', 'ACAN', 'TGFB2', 'HOGA1', 'KIFBP', 'EBP', 'THRA', 'RPS28', 'IFT122', 'IMPDH2', 'XIAP', 'PC', 'GPD2', 'GH1', 'GAS8', 'DISP1', 'FOXP2', 'WNK4', 'NPAP1', 'MED27', 'STAT2', 'FLT1', 'KCNH2', 'CUL7', 'CTNND2', 'CRYGS', 'FDXR', 'DHODH', 'HABP2', 'NCF4', 'TRMT10A', 'PQBP1', 'DHX38', 'TNFRSF1A', 'ADGRG2', 'FOXI1', 'GFI1', 'NOVA2', 'ODC1', 'CEP57', 'P4HB', 'CLCNKB', 'ADAMTS3', 'HGSNAT', 'PEX16', 'VPS37D', 'LPL', 'REEP1', 'POLR3GL', 'PHEX', 'VPS35', 'EFEMP2', 'MMP19', 'DSG1', 'NDUFAF8', 'COL25A1', 'BUD23', 'AMTN', 'BMPR2', 'CTC1', 'GTPBP2', 'NDUFA11', 'C9orf72', 'FLT4', 'KAT6B', 'MAB21L2', 'PPCS', 'TUBB4A', 'USF3', 'MCOLN1', 'BNC1', 'ZIC1', 'SLC2A9', 'STIM1', 'JARID2', 'BMPER', 'ASL', 'TBX1', 'SLC12A1', 'DACT1', 'MATN3', 'CFI', 'TMEM163', 'HAL', 'TSC1', 'PLCB4', 'EFNB1', 'OGG1', 'ASPN', 'PABPN1', 'LRAT', 'EEF2', 'GALK1', 'CLCN5', 'HS6ST1', 'EPRS1', 'DENND5A', 'NPHP1', 'NPM1', 'SBDS', 'LSM11', 'MCM5', 'PRKAG2', 'TRAF3IP1', 'UBR7', 'YWHAG', 'AGO2', 'CBFB', 'RRM1', 'OXGR1', 'LRPPRC', 'FGF8', 'GAB1', 'ALKBH8', 'GMNN', 'ATRIP', 'GBE1', 'PRPF8', 'CTSD', 'SERPINC1', 'ATP5F1E', 'NDUFS3', 'FANCB', 'POMT1', 'TPM2', 'DEAF1', 'EGFR', 'COX16', 'NLGN1', 'PAX7', 'VKORC1', 'ATP1A1', 'POU1F1', 'RMRP', 'BLK', 'WBP2', 'USH1G', 'LAMC2', 'NTNG2', 'KRT6B', 'ELP4', 'GPD1L', 'CHKA', 'BCS1L', 'RIC1', 'STRC', 'EVC', 'TCF7L2', 'SMG9', 'SARS2', 'FUS', 'SCLT1', 'DLL3', 'MAD1L1', 'MTMR14', 'PTH1R', 'SLC34A3', 'KISS1', 'TET2', 'SAG', 'KCNQ3', 'OPA3', 'NARS1', 'HMX1', 'ARHGAP29', 'DNAAF2', 'PSAP', 'POLA1', 'NARS2', 'BBS5', 'IGF2', 'CENPF', 'TSR2', 'DUOXA2', 'SFTPA2', 'CHD5', 'UBAP1', 'EMC1', 'MKRN3', 'ZDHHC9', 'CENPJ', 'AIPL1', 'CARD11', 'PDCD10', 'ANKRD11', 'SLC11A1', 'RBBP8', 'GPRC5B', 'BRPF1', 'CCDC40', 'TMEM67', 'MAK', 'PDE6A', 'NKAP', 'NDUFA9', 'TET3', 'GABRA5', 'NDUFS7', 'FGA', 'BARD1', 'HMCN1', 'TBXT', 'COL6A1', 'CNBP', 'COX7B', 'SF3B4', 'KIRREL1', 'CAP2', 'MED25', 'FDFT1', 'LARS1', 'PITX2', 'SMAD4', 'ZNF407', 'PRKCZ', 'MPI', 'CAD', 'MPDZ', 'PDE6G', 'G6PC3', 'TRAF3IP2', 'ODAD2', 'SLC17A9', 'CDH15', 'WNK3', 'GPC4', 'NCF1', 'F10', 'SPIDR', 'ADCY5', 'PHF21A', 'CAMKMT', 'PTDSS1', 'SSBP1', 'NACC1', 'MADD', 'TLL1', 'CCDC88C', 'ANO1', 'SLC35D1', 'SNORD115-1', 'NDST1', 'NOG', 'C1QTNF5', 'MOCOS', 'TRPV6', 'MVK', 'MAP2K1', 'ETFDH', 'SMARCD2', 'SF3B2', 'PHOX2B', 'LPIN2', 'GRM7', 'SETD1B', 'GDF3', 'ARHGEF18', 'CASQ2', 'EDNRA', 'PLVAP', 'PAX1', 'NOP10', 'CEP135', 'ALX4', 'PGM1', 'TBX2', 'UBE3A', 'TUBA4A', 'FZR1', 'UBE2T', 'WRAP53', 'SLC17A8', 'CD109', 'CD46', 'BBS4', 'KRT74', 'ABCB4', 'BRWD3', 'PI4K2A', 'CEP250', 'LRP2', 'SUFU', 'CABP2', 'CITED2', 'JAG1', 'CR2', 'HNRNPU', 'ZIC3', 'RPS24', 'CHRND', 'HDC', 'IMPDH1', 'RSPH3', 'TRIO', 'LMBRD1', 'COL9A2', 'DTYMK', 'SRP72', 'IDH1', 'CLCN7', 'CFAP221', 'SLC35A2', 'NSUN6', 'MBTPS1', 'SLC3A1', 'PFN1', 'AIFM1', 'AP1S1', 'PAX3', 'RINT1', 'SMCHD1', 'PPP1R17', 'CADM3', 'TUBGCP6', 'POLR1B', 'EIF2AK3', 'RELN', 'IFIH1', 'SYCP3', 'OPN1LW', 'JAZF1', 'AP4E1', 'PTPN22', 'TINF2', 'GBA1', 'XRCC4', 'PDGFRL', 'KCNB1', 'COLEC10', 'SLC6A14', 'CLTC', 'TRMU', 'SCAF4', 'LIG3', 'AFG3L2', 'BAG5', 'CYP3A4', 'AP3B1', 'NGLY1', 'MB', 'TGM6', 'PLCE1', 'LIPN', 'SLC25A20', 'LGR4', 'HAGH', 'PLIN4', 'SLC29A3', 'SGPL1', 'GNAI3', 'FBXW7', 'SPTAN1', 'LMOD3', 'KCNK18', 'INS', 'RDX', 'STK11', 'PUS3', 'NRL', 'SOCS1', 'COL10A1', 'DNAJC21', 'ADK', 'LAMB2', 'RAG1', 'ATF6', 'TPH2', 'LAMA5', 'SLC6A8', 'PWRN1', 'DKK1', 'DYM', 'NCAPG2', 'C9', 'GAS2L2', 'GAL', 'ESR2', 'PDE8B', 'F12', 'SLX4', 'MT-TS1', 'SPR', 'SIN3B', 'RPS15A', 'RBM8A', 'HIVEP2', 'CACNA2D4', 'RNASEH1', 'GALE', 'FKBP6', 'EIF4A2', 'IKZF5', 'FOXP1', 'MYH8', 'UMOD', 'AQP4', 'CLEC7A', 'ERCC2', 'DNAAF6', 'LIMK1', 'ADAM10', 'OCRL', 'CFHR3', 'ZNF292', 'YAP1', 'FITM2', 'SLC44A4', 'PRPS1', 'PEX5', 'MSTO1', 'U2AF2', 'TTLL5', 'RTL1', 'MSRB3', 'CASP8', 'SLC10A7', 'WARS2', 'GPR101', 'TAF1', 'ESPN', 'TPM1', 'COG8', 'SLC26A9', 'SMARCC1', 'CEACAM16', 'PTEN', 'CTCF', 'ACTG2', 'ZEB1', 'DCDC2', 'NFS1', 'MSH3', 'MT-TI', 'GRIA3', 'CNTNAP1', 'CYP11B2', 'TPM3', 'AFF3', 'LIPC', 'VAMP7', 'TMEM165', 'FBXL4', 'KRT3', 'NDUFS8', 'PRKACA', 'SDR9C7', 'ANXA5', 'COL27A1', 'DNM1L', 'SERPINF1', 'ALOXE3', 'SERPIND1', 'DUSP6', 'TCTN3', 'MYLK', 'JPH2', 'NQO2', 'NDUFA1', 'CDC14A', 'AFF4', 'GALNT2', 'RAPGEF2', 'PRKACB', 'PAH', 'RAB34', 'CTSA', 'PDE3A', 'UBE3C', 'CPLX1', 'PEX19', 'DLX4', 'CRYAA', 'CLIP2', 'NAA15', 'KCNC3', 'UHRF1', 'KL', 'CCDC103', 'PPM1D', 'STXBP1', 'TLR2', 'ABCB6', 'HTR2A', 'PTPN12', 'KLHL40', 'CCDC134', 'SPECC1L', 'PDX1', 'SOX4', 'NDUFA6', 'PIBF1', 'CUX2', 'SPRED1', 'RTN2', 'SCNN1A', 'MAP3K20', 'VPS45', 'BTNL2', 'B4GALT1', 'TUBA1A', 'SPTLC2', 'SLC25A4', 'HMGA1', 'TNFRSF11B', 'IDH2', 'KYNU', 'TALDO1', 'TFAP2B', 'TBX15', 'BBS12', 'ZNF462', 'SGMS2', 'SPRY4', 'SH3GL1', 'DLC1', 'SPI1', 'MAP3K1', 'BLM', 'NEK9', 'CRYAB', 'SPTSSA', 'NTRK2', 'CRYBB1', 'OSMR', 'RPS27', 'PIGB', 'F5', 'DRD3', 'SPTBN4', 'FHL1', 'YWHAE', 'MAPKAPK5', 'TBX4', 'ARL2', 'FRG1', 'SEC23B', 'SLC6A1', 'TMEM70', 'IKBKB', 'LPP', 'FLNA', 'ABCC9', 'KCNT2', 'HNMT', 'HPS1', 'KDSR', 'ENG', 'PPFIBP1', 'SUMF1', 'A2ML1', 'TBR1', 'CFAP410', 'EGLN1', 'KDM5C', 'DHDDS', 'FOXF1', 'ARID1B', 'POLRMT', 'ATOH1', 'GABBR2', 'NOP56', 'PDE1C', 'TNFRSF13C', 'KMT2C', 'PI4KA', 'FSCN2', 'CHD7', 'VAPB', 'EIF4H', 'WASHC5', 'KCNC1', 'LDB3', 'GJB1', 'SH3PXD2B', 'HMMR', 'NHLH2', 'BRCC3', 'GCLC', 'CHAT', 'TBCE', 'OSBPL2', 'PDGFRB', 'AEBP1', 'CAT', 'CPE', 'PITX1', 'DOCK6', 'EYS', 'KRT71', 'STXBP2', 'CCNF', 'TTC5', 'SRD5A3', 'AHDC1', 'EIF5A', 'PIGA', 'HELLPAR', 'CISD2', 'MRPS7', 'LMX1A', 'ABCG5', 'CSPP1', 'PROK2', 'B4GAT1', 'HLA-B', 'VPS11', 'DNAAF11', 'LARGE1', 'CELSR1', 'EFL1', 'MEFV', 'AXIN2', 'SOS1', 'LAMB1', 'HSPD1', 'RRAS2', 'PROKR2', 'MT-CO1', 'SASS6', 'C1QA', 'ABHD5', 'ADPRS', 'STX16', 'FAT4', 'NUP133', 'RNF139', 'ACTL6B', 'MAB21L1', 'PER3', 'FMR1', 'MYOZ2', 'SNRNP200', 'XDH', 'LFNG', 'KIT', 'MAP1B', 'SLC39A5', 'DHTKD1', 'BFSP1', 'AFG2A', 'STIL', 'NPHP3', 'ZBTB7A', 'EIF4A3', 'PRORP', 'NR2F2', 'SLC5A7', 'GNAO1', 'C12orf57', 'GCK', 'ADCY1', 'RHO', 'EIF4G1', 'RAD54L', 'TNFAIP3', 'LHFPL5', 'MTRR', 'AP1G1', 'HDAC8', 'TRPA1', 'PRPH2', 'MYH11', 'GTF2IRD1', 'PANK4', 'OTX2', 'POU3F4', 'ANOS1', 'ARHGAP26', 'EDN3', 'FLI1', 'AGRP', 'IGF1', 'RPS10', 'COPA', 'CHD3', 'PWAR1', 'TMEM94', 'MIB1', 'RALGAPA1', 'KIF21A', 'CEP78', 'TEK', 'UROD', 'PITX3', 'TRIP11', 'ODAD4', 'ALDH4A1', 'VEGFC', 'EPHA2', 'SPP1', 'COL18A1', 'ODAD3', 'BMP2', 'TCF12', 'CRY1', 'KCNA1', 'PTPRO', 'GRIK2', 'OPN1MW', 'ZSWIM7', 'IFT140', 'SPEF2', 'VWF', 'SCN9A', 'EPCAM', 'ESR1', 'MGP', 'CRYM', 'TULP1', 'MAP2K2', 'SKIC3', 'NUMA1', 'HCCS', 'ACBD5', 'SLC41A1', 'TMEM270', 'PMP2', 'UNC80', 'SPAST', 'TMEM43', 'ITGA6', 'PRKG1', 'MC4R', 'FLII', 'ATP5F1A', 'TBL1XR1', 'PRKN', 'CD79B', 'TRPM4', 'SCN2B', 'MUSK', 'SMC3', 'HSPB3', 'ADAMTSL1', 'TNNT3', 'ZPR1', 'PURA', 'SEC24C', 'VPS53', 'ZNF687', 'VWA8', 'SLC25A10', 'CLRN2', 'PPP2R5D', 'SLC16A1', 'GJB4', 'CREB3L3', 'ATP6V1E1', 'NSMF', 'HLA-G', 'TBK1', 'MAPRE2', 'FGF13', 'STX1B', 'ALG9', 'GTF2I', 'CHCHD10', 'MYSM1', 'TRIM28', 'EHHADH', 'CENPE', 'RSPO2', 'NEDD4L', 'MTNR1B', 'RPS7', 'BFSP2', 'SLC25A1', 'ARSA', 'HNRNPA2B1', 'STX3', 'INTU', 'TBC1D8B', 'CLRN1', 'MYH6', 'APOL1', 'SCD5', 'ELF4', 'DNAH11', 'COL17A1', 'TMC1', 'TWIST1', 'HARS1', 'HYDIN', 'OPTN', 'REV3L', 'BHLHA9', 'RNF213', 'TRPV4', 'MYL3', 'ITGA2', 'GMPPB', 'TANGO2', 'GTF2E2', 'NF2', 'SH2B3', 'PLS1', 'SEM1', 'SMAD9', 'COL11A1', 'DNAAF1', 'TMPRSS3', 'BDP1', 'MNX1', 'LHX3', 'SDC3', 'NIPBL', 'CEP83', 'CRYBA4', 'SMARCD1', 'MAST3', 'SP6', 'DDX41', 'MTHFR', 'GALC', 'BBS2', 'CHI3L1', 'NUP188', 'SLC16A12', 'TSPAN12', 'ASB10', 'PRKCD', 'BAX', 'SELENOI', 'MID1', 'DIS3L2', 'KEAP1', 'KMT5B', 'ZP3', 'TSHZ1', 'RAB18', 'KDM5B', 'PAK1', 'PLA2G2A', 'SERPINH1', 'KCNH1', 'PTCH1', 'SGCD', 'SLC2A2', 'GJA3', 'FGF10', 'CEP41', 'HMGA2', 'C19orf12', 'ALG2', 'ATIC', 'OTUD5', 'CACNG2', 'CILK1', 'CTNNB1', 'DCLRE1C', 'APP', 'BICD2', 'PIGG', 'SLC5A5', 'ITGAM', 'SERPINI1', 'TRAPPC4', 'MYRF', 'RFX7', 'SERPINF2', 'YY1', 'C3', 'LAMA3', 'WLS', 'DLST', 'IL17F', 'IGF1R', 'ARFGEF1', 'FIP1L1', 'FASLG', 'SPRY2', 'GEMIN4', 'JPH1', 'ATAD3A', 'PDLIM4', 'FOCAD', 'AVP', 'MARCHF6', 'IFT80', 'EVC2', 'HPRT1', 'NABP1', 'EXT2', 'TNNC2', 'ADGRG1', 'MRPL3', 'IDH3B', 'CFAP298', 'APPL1', 'RPL15', 'OSGEP', 'CAV3', 'GPC6', 'TBX22', 'RAD51C', 'DGCR6', 'KANK2', 'POU4F3', 'GJB2', 'DSG2', 'CYP2A6', 'PDCD6IP', 'HMBS', 'KIF15', 'GALNT3', 'ABHD12', 'AIP', 'SOX5', 'DUX4L1', 'GNAS-AS1', 'SRPX2', 'COBLL1', 'ERF', 'SOX2', 'KRT1', 'OTULIN', 'MSH6', 'RAB23', 'WDR73', 'GNAS', 'TNNI3', 'MN1', 'ZBTB20', 'ATP6V0A4', 'IL12B', 'INTS1', 'RPS19', 'RPL35', 'MAGED2', 'SCN2A', 'TXNDC15', 'ACE', 'NRCAM', 'CTNNA3', 'ERCC4', 'BMP4', 'CDH1', 'CFH', 'SNRPB', 'SMARCAD1', 'TNIP1', 'ANK2', 'B3GLCT', 'PDE11A', 'KIF26A', 'ZNF711', 'MPO', 'EPB41', 'GDF6', 'MERTK', 'DHX30', 'RRAGD', 'FKTN', 'SIM1', 'EXOC7', 'B9D1', 'PGAP1', 'ACVR2B', 'UNC13D', 'TWIST2', 'SQSTM1', 'ALAD', 'OAS1', 'ALG11', 'PBRM1', 'AP1B1', 'WNT10B', 'PSMC3', 'MAN2B1', 'STS', 'RPL27', 'EPS8', 'CC2D2A', 'WASF1', 'PSMB8', 'TTR', 'MECP2', 'FGFR3', 'IFNGR1', 'GREM2', 'CLPB', 'TUBB2A', 'DNA2', 'ZMYND10', 'CLDN16', 'NADK2', 'FN1', 'FANCC', 'KRT6A', 'COL3A1', 'UBAC2', 'SAMD9L', 'SCP2', 'GIPC3', 'PPP1R21', 'JUP', 'STAMBP', 'GSDME', 'DRC1', 'DHCR7', 'ADAM9', 'KANSL1', 'ITGB3', 'SCO2', 'PPM1B', 'PCNA', 'WNT7B', 'CCNK', 'RHOBTB2', 'RLBP1', 'IVD', 'YARS1', 'KIF7', 'RRM2B', 'NUBPL', 'CLDN2', 'ADAT3', 'TAPT1', 'CHRNG', 'DDX3X', 'ARSG', 'NFKB1', 'ZFHX4', 'ATXN1', 'RAB28', 'LIG1', 'KRT16', 'SCN3A', 'COCH', 'NDUFS6', 'MCPH1', 'CD3G', 'TMEM218', 'MMACHC', 'HS3ST6', 'SH3BP2', 'SYNGAP1', 'KARS1', 'PLIN1', 'KNSTRN', 'TK2', 'SOX17', 'IPO8', 'HBG2', 'GLMN', 'LCAT', 'TNC', 'EPOR', 'MYO1E', 'MAGEL2', 'VEZF1', 'TSPEAR', 'DZIP1L', 'AVIL', 'ATP2B2', 'POFUT1', 'BUB1B', 'GCM2', 'ARID1A', 'KRT12', 'ARNT2', 'IYD', 'CHRNA7', 'COL4A2', 'ABCA4', 'MRPS2', 'ZAP70', 'MTHFD1', 'PERP', 'DNM1', 'ORC4', 'PIGP', 'ASXL1', 'BAZ1B', 'MT-TN', 'CACNA1E', 'SLITRK1', 'GANAB', 'MYL4', 'EIF2AK2', 'SLC34A1', 'BRCA2', 'ZFYVE27', 'SYNE1', 'ROBO1', 'PLD3', 'SOST', 'AGBL5', 'ATP1A3', 'CACNA1B', 'PCK2', 'HIC1', 'ADSL', 'INPP5E', 'NPTX1', 'CAMTA1', 'SLC1A4', 'SRC', 'FOXC1', 'PGM3', 'GRB10', 'MARVELD2', 'NR5A1', 'SCGB3A2', 'ALDH1A2', 'MSX2', 'ZBTB18', 'CEP290', 'PPP1R15B', 'TOE1', 'CA2', 'TGFBR2', 'COX10', 'AK2', 'SLC7A7', 'IFITM5', 'SUOX', 'KCNQ1', 'BPTF', 'MT-TC', 'CRYGC', 'MCIDAS', 'COL6A3', 'KIF1B', 'SMC1A', 'MYH7', 'WNT9B', 'LMAN1', 'SNRPN', 'IRAK1', 'MEF2C', 'MECR', 'ASPM', 'LRRC32', 'SPINK5', 'ACD', 'PRDM16', 'PYGM', 'MLH3', 'ALG8', 'ANKH', 'MYOD1', 'MLX', 'TTC12', 'BLNK', 'ARHGAP24', 'GRXCR2', 'NEXN', 'EMILIN1', 'NSRP1', 'UQCRH', 'KCNQ5', 'UNC119', 'NRTN', 'KIAA1549', 'SHPK', 'UCP3', 'KLHL41', 'ARHGEF10', 'MBD4', 'H3-3A', 'ACTN2', 'TRMT10C', 'CRX', 'AP1S2', 'EPHA10', 'MAN2C1', 'NDUFAF4', 'CCDC8', 'GATA4', 'RDH11', 'PYCR2', 'NDUFS2', 'P2RX2', 'SMARCA2', 'RAP1GDS1', 'RNU4ATAC', 'NDP', 'FAM161A', 'FHOD3', 'DDX6', 'COQ8B', 'MOCS1', 'USP7', 'PIGQ', 'CANT1', 'PMP22', 'CDSN', 'TIMP3', 'AHR', 'NUP205', 'ETS1', 'ORAI1', 'PLEC', 'RAC1', 'FARS2', 'BMP1', 'TNFSF4', 'ZNF513', 'EXOC2', 'CORIN', 'RTEL1', 'DNASE1L3', 'HCN4', 'GRIN2D', 'CD81', 'SDHD', 'RP2', 'KLF11', 'PPP2R2B', 'GOSR2', 'DLX3', 'ALDH2', 'GPR161', 'ETFB', 'CARS1', 'NPPA', 'GBF1', 'SIX5', 'FRA10AC1', 'MDM4', 'SH2B1', 'FKBP14', 'SRGAP1', 'SEMA3C', 'PDSS2', 'RD3', 'LRSAM1', 'LTBP3', 'LTBP1', 'KCNN3', 'MBTPS2', 'ARL6IP6', 'MTRFR', 'TUBA3D', 'EXOSC9', 'TRPS1', 'HK1', 'BMP15', 'HYLS1', 'ATP2A2', 'LMOD2', 'ALG12', 'FTO', 'IMPG2', 'ELMOD3', 'ALPL', 'STAT4', 'SLC9A1', 'SNAI2', 'CIB2', 'TNPO3', 'WAC', 'CCND1', 'RIMS1', 'L2HGDH', 'PIEZO1', 'MYO9A', 'STAG1', 'FIBP', 'RPL26', 'EP300', 'GUCY2C', 'C4A', 'TOR1A', 'NTRK1', 'NOTCH2', 'ITM2B', 'RSPH4A', 'PEX2', 'MT-CO2', 'TRRAP', 'PRSS2', 'TNPO2', 'TTC21B', 'SDCCAG8', 'DVL1', 'TNRC6B', 'SLC25A11', 'PDGFRA', 'LRRC8A', 'WDR19', 'DNAJC5', 'HIRA', 'PEX13', 'COG1', 'C1R', 'SLC2A10', 'XYLT2', 'ACTB', 'SNRPE', 'AMMECR1', 'STX5', 'SERAC1', 'CAMK2G', 'SOHLH1', 'DNMT3A', 'KCNJ16', 'CDK8', 'DCC', 'DCAF17', 'CDK5RAP2', 'DCTN1', 'CHST3', 'RPSA', 'SLC32A1', 'GJB6', 'EDARADD', 'GDAP1', 'CHRNA3', 'CUL3', 'PEPD', 'LHX1', 'NOS1AP', 'VCL', 'TRAPPC10', 'C1S', 'MLXIPL', 'ATXN8', 'KCNQ1OT1', 'FCGR2A', 'MAN1B1', 'ADGRE2', 'CCDC47', 'ZNFX1', 'CDK10', 'EPAS1', 'NMNAT1', 'NBEA', 'BCO1', 'LAMA4', 'DPH1', 'PLAAT3', 'FZD5', 'TBCK', 'B3GALNT2', 'CIC', 'NPRL3', 'SLC5A2', 'EED', 'CEBPA', 'ERI1', 'TBCD', 'NKX2-6', 'EFEMP1', 'KCNK9', 'DYNC2I2', 'COL5A1', 'DAAM2', 'UMPS', 'PSMD12', 'DPYSL5', 'TMEM260', 'SYT2', 'DGCR8', 'KISS1R', 'SFTPA1', 'PKLR', 'GNB4', 'RDH12', 'RNU7-1', 'GRHL2', 'SOX11', 'OPA1', 'CLPX', 'QRSL1', 'ADA2', 'STRADA', 'ELAC2', 'FHL2', 'PRDX1', 'PUM1', 'FLRT3', 'SMAD6', 'PRKDC', 'ANLN', 'AQP5', 'RPL8', 'NIPA2', 'FGFR2', 'LMBRD2', 'CASP2', 'DOCK7', 'CACNA1F', 'STARD7', 'KCNH5', 'SLC26A8', 'TCOF1', 'USH1C', 'HNRNPA1', 'IL17RC', 'KCNE5', 'FBXW4', 'TMEM126A', 'KNG1', 'PMPCB', 'FGF9', 'DUOX2', 'CFAP300', 'GDF2', 'ZBTB16', 'PBX1', 'SOX6', 'HCK', 'OGT', 'CSNK1D', 'FZD2', 'CTNND1', 'NR0B2', 'IRS2', 'GSN', 'PTPN11', 'PRKAR1A', 'HRG', 'ADH1C', 'TRAIP', 'FGF17', 'FANCA', 'CBL', 'ATXN2', 'MICAL1', 'STING1', 'LOX', 'ABCD1', 'TTBK2', 'HNF1A', 'APOA2', 'PLAG1', 'VCAN', 'C2CD3', 'CXCR4', 'COMT', 'NEK8', 'PRPF3', 'COL4A1', 'AMER1', 'RPS20', 'COL12A1', 'PHF6', 'CNGA3', 'PDSS1', 'SLC2A1', 'TBX6', 'MCM6', 'RP1L1', 'MAST1', 'HCN1', 'RNF13', 'ERLIN2', 'GDF11', 'HTRA1', 'PPP1R12A', 'ALPK1', 'SET', 'OAT', 'FOXE3', 'COL1A2', 'NELFA', 'SLC30A2', 'CERT1', 'SNCAIP', 'TBC1D20', 'COL4A5', 'GFER', 'ZC4H2', 'NF1', 'PRX', 'SMC5', 'DCN', 'JAK2', 'MLH1', 'PIDD1', 'RSPRY1', 'TMEM63A', 'WHRN', 'TUBB4B', 'SEMA3E', 'KCNJ18', 'MYH9', 'RAI1']\n"
     ]
    }
   ],
   "source": [
    "# get the gene symbols associated with the added parent HP ids\n",
    "genes_associated_parents = []\n",
    "for hp_id in HP_ids_embed_parents:\n",
    "    if hp_id in hpo_gene_dict:\n",
    "        genes_associated_parents.extend(hpo_gene_dict[hp_id])\n",
    "genes_associated_parents = list(set(genes_associated_parents))\n",
    "print(\"Genes extracted after adding parent IDs\")\n",
    "print(\"-------------------------------------------------------------------------------------------------------------\")\n",
    "print(f\"The total number of genes associated with the extracted HPO IDs and their parent IDs are : {len(genes_associated_parents)}\")\n",
    "print(\"-------------------------------------------------------------------------------------------------------------\")\n",
    "print(genes_associated_parents)"
   ]
  },
  {
   "cell_type": "markdown",
   "metadata": {},
   "source": [
    "### Genes extacted after embedding normalisation + additional of parent ids + ACMG 81 genes addition"
   ]
  },
  {
   "cell_type": "code",
   "execution_count": 46,
   "metadata": {},
   "outputs": [
    {
     "name": "stdout",
     "output_type": "stream",
     "text": [
      "Final list of genes after 3 optimizations: embeddings normalisation+parent ids+ACMG 81 genes\n",
      "------------------------------------------------------------------------------------------------------------------------\n",
      "The total number of genes associated with the extracted HPO IDs, their parent IDs, and the ACMG 81 genes are : 3659\n",
      "------------------------------------------------------------------------------------------------------------------------\n",
      "['KCNA2', 'MFSD8', 'SPARC', 'TRIM44', 'BLVRA', 'ALDOA', 'DEPDC5', 'SI', 'GJA8', 'XPR1', 'EGR2', 'OFD1', 'YME1L1', 'TMEM107', 'FBXO11', 'NDUFS4', 'POMGNT2', 'FRMD4A', 'PDZD8', 'CREB3L1', 'RNF220', 'LEMD2', 'MYL9', 'SARDH', 'UPF3B', 'STX11', 'IRF3', 'GFI1B', 'MAPT', 'POLR1D', 'AUTS2', 'SDHB', 'MINAR2', 'PER2', 'STX1A', 'GCH1', 'NAA10', 'ATP2C1', 'GATAD1', 'ABCC6', 'DISC2', 'SPTBN1', 'ARHGAP31', 'NUP214', 'SPINT2', 'BLTP1', 'RYR2', 'UGDH', 'MET', 'COL2A1', 'NDUFB10', 'PRSS1', 'NRIP1', 'PANX1', 'CHD2', 'ZNF408', 'SMOC1', 'B9D2', 'C1GALT1C1', 'ILDR1', 'CSF3R', 'MYO3A', 'HNF1B', 'VAMP1', 'COL8A2', 'GPR35', 'HBG1', 'KRT17', 'TMIE', 'COG3', 'PRG4', 'MCTP2', 'NAF1', 'CACNB4', 'PMVK', 'DDR2', 'CEP152', 'ZNF644', 'TNNC1', 'BEST1', 'TRIP13', 'HRAS', 'PHACTR1', 'PDHA1', 'TIE1', 'DICER1', 'TUBGCP4', 'VARS1', 'THPO', 'MT-TT', 'CEP19', 'CYCS', 'SPTA1', 'KIF5C', 'RPL31', 'CRYBA2', 'AMPD2', 'DOK7', 'SLC36A2', 'KLF13', 'NUP107', 'SLC1A1', 'NR2E3', 'GZF1', 'KLHL3', 'GFRA1', 'ADRB3', 'NAA20', 'HGF', 'RPL3L', 'MCC', 'DOCK11', 'RTTN', 'DSE', 'TUBA8', 'ITGA3', 'ACP5', 'RB1', 'ANO3', 'TACR3', 'KCNAB2', 'BRD4', 'SIX3', 'SLC12A2', 'CDCA7', 'GLA', 'CCL11', 'ZFHX3', 'UBE2L3', 'PYCR1', 'GLUL', 'PAK2', 'TLR3', 'CST3', 'TARDBP', 'RAC2', 'GUSB', 'ZMPSTE24', 'CLPP', 'NOS3', 'CTU2', 'PIGS', 'AP2M1', 'GHR', 'GATA1', 'SPG7', 'CCDC22', 'SEMA3A', 'WARS1', 'SYT1', 'MBD5', 'SATB2', 'TM4SF20', 'MAPKAPK3', 'HDAC6', 'WFS1', 'SPAG1', 'NDUFV2', 'ADGRL1', 'DNASE2', 'WDR35', 'ATPAF2', 'MT-TH', 'TLK2', 'POMC', 'PKHD1', 'NDRG1', 'ATP1A2', 'CCDC65', 'PRKAR1B', 'FLT3', 'NDUFAF2', 'SLC4A1', 'LCA5', 'POU3F3', 'TNF', 'TANC2', 'CCDC32', 'ARPC4', 'PAX2', 'AARS1', 'FTSJ1', 'HPS6', 'KCNA5', 'CDKL5', 'BSND', 'GMPPA', 'SLC39A8', 'GATA6', 'CNNM2', 'OTOF', 'KIAA0586', 'ANGPT1', 'CSGALNACT1', 'IGLL1', 'MSL3', 'GATA2', 'RNU12', 'NEK1', 'CCDC50', 'SEMA3D', 'CCNQ', 'MEIS2', 'OBSL1', 'XPA', 'PDCD1', 'TRIM32', 'FLNC', 'PCDHGC4', 'FKRP', 'DLK1', 'TBX3', 'FAM20A', 'ATXN8OS', 'CRYBA1', 'CEACAM3', 'RETN', 'SUCLA2', 'EYA1', 'PMS2', 'BTK', 'GPX4', 'SIX1', 'KAT8', 'RMND1', 'MRPS14', 'GNAI2', 'MARS2', 'SLC30A9', 'RPL21', 'SPTBN2', 'MEG3', 'CALR', 'DST', 'MAX', 'SMAD3', 'DPP6', 'TMEM126B', 'DLX6', 'TUBG1', 'EXTL3', 'LIFR', 'MIR204', 'CRYGD', 'IKZF1', 'RPA1', 'GRM1', 'B3GAT3', 'ERCC8', 'NIPA1', 'SYN2', 'GNRH1', 'POLE', 'ANTXR2', 'ZBTB24', 'FEZF1', 'VHL', 'GAS1', 'TMEM53', 'NHERF1', 'RNASEH2A', 'KCNJ5', 'NSF', 'KIF22', 'CASK', 'GDF5', 'SAMD9', 'FGFRL1', 'SNCA', 'TCF3', 'RNASET2', 'PRCC', 'COLEC11', 'DDX59', 'NEUROG1', 'MTX2', 'TAOK1', 'KNL1', 'DNMT3B', 'THOC2', 'RREB1', 'PEX3', 'ANKRD1', 'LIG4', 'IQCB1', 'THOC1', 'ATG7', 'MYBPC1', 'LRIG2', 'SRCAP', 'ATL1', 'CRPPA', 'CYP7B1', 'KDM3B', 'GLUD1', 'GBA2', 'MYOC', 'PAX4', 'FRMD5', 'FCGR3B', 'DONSON', 'SERPINA1', 'CUX1', 'OTUD6B', 'HPSE2', 'OBSCN', 'TBL1Y', 'TERT', 'RORA', 'DKC1', 'ATP6V1B1', 'REEP6', 'TRPM3', 'MAF', 'PRF1', 'VPS33A', 'TCTN2', 'KATNIP', 'MT-CO3', 'SNORA31', 'MTSS2', 'ABCA1', 'YRDC', 'MPEG1', 'RSPH9', 'MYMK', 'PI4KB', 'HSPG2', 'MYH2', 'CDK13', 'SPTB', 'DIABLO', 'HOXA2', 'ANKRD17', 'MYL11', 'F11', 'SCYL2', 'LAMB3', 'STAT3', 'GSC', 'ALX1', 'SLC18A3', 'PPP3CA', 'IL7R', 'TGFBR1', 'ATP6V0C', 'BPNT2', 'CFB', 'WNT5A', 'HOXA13', 'ENAM', 'TBC1D23', 'FBXO38', 'SNCB', 'RP1', 'PIGN', 'COQ7', 'DES', 'CDH2', 'CAMK2B', 'AKAP9', 'CDC42', 'CDK19', 'CDKN2B', 'NDUFS1', 'GLI1', 'ABCC8', 'NDUFB11', 'IFNG', 'GABRG2', 'UFC1', 'KCND3', 'FGF14', 'GGPS1', 'NSDHL', 'DNAAF5', 'KCNJ6', 'MYMX', 'MED12', 'TXNL4A', 'ALOX5', 'ALG13', 'ATP5F1D', 'GDF1', 'COG6', 'CACNA1A', 'IKZF3', 'BACH2', 'ATXN10', 'RNF170', 'MYD88', 'WDR81', 'DSP', 'MT-CYB', 'PSEN1', 'PACS2', 'ACER3', 'PISD', 'MPL', 'TYMS', 'MST1R', 'FUT8', 'OTC', 'ACTA1', 'NAGLU', 'DLG4', 'TLCD3B', 'RBP3', 'PROP1', 'BCKDK', 'MCAT', 'ESCO2', 'DNAJB13', 'RGR', 'RPGR', 'KCNQ2', 'FBXW11', 'FAM111A', 'ZNF750', 'COL1A1', 'CPOX', 'ANKRD26', 'SEMA4A', 'GABRB1', 'ITGA8', 'CNGA1', 'PTRH2', 'SIAH1', 'KRT10', 'RBP4', 'PSMC1', 'SCN3B', 'MOCS2', 'TNNT2', 'CD96', 'TECTA', 'NEU1', 'ROBO2', 'PDE10A', 'FLNB', 'ERCC6', 'MT-TE', 'CRYBB2', 'ELMO2', 'CFAP74', 'NDNF', 'PJVK', 'KRIT1', 'TXNRD2', 'MEF2A', 'AP3D1', 'KBTBD13', 'VDR', 'ATP6AP1', 'TMEM127', 'PIK3R1', 'H4C11', 'GJA1', 'GUCY2D', 'TRIOBP', 'CHAMP1', 'SEMA4D', 'DSPP', 'TGM1', 'PRPF6', 'RAC3', 'RPL10', 'USB1', 'HHAT', 'FGF23', 'DCAF8', 'PGK1', 'USH2A', 'AP2S1', 'EXOSC8', 'SMAD2', 'GABRA1', 'HAX1', 'DAB1', 'MT-TK', 'CRB1', 'OPN1SW', 'FOXP3', 'DUX4', 'TRDN', 'CRKL', 'CSNK2A1', 'IFRD1', 'INAVA', 'TCF4', 'LMOD1', 'TCIRG1', 'COL4A6', 'LBR', 'DARS2', 'CA4', 'HMGB3', 'SPOP', 'RILPL1', 'TERC', 'DPYD', 'FOXN1', 'METTL5', 'LARP7', 'RPL9', 'PCARE', 'GPRASP2', 'TMEM106B', 'PKP1', 'MYCN', 'NPHS2', 'MUC7', 'KCNC2', 'NLRP12', 'COPB2', 'IL6ST', 'TIA1', 'ROBO3', 'PRDM12', 'COL6A2', 'CACNA1G', 'RP9', 'WNT7A', 'PRRX1', 'HARS2', 'TRPC6', 'LEMD3', 'LMBR1', 'SNORD116-1', 'QRICH1', 'MT-ND1', 'LRP5', 'TELO2', 'BCAP31', 'SATB1', 'NADSYN1', 'FGF3', 'SLC12A5', 'SRY', 'NEUROD1', 'ENPP1', 'ATP6AP2', 'STAG2', 'COL5A2', 'TLR4', 'ZNF469', 'KIAA0753', 'GATA5', 'LMAN2L', 'MID2', 'EDNRB', 'CCBE1', 'NODAL', 'SEPTIN9', 'DOLK', 'PDYN', 'CDON', 'TPRN', 'HLA-DQB1', 'SAMHD1', 'POLR2A', 'ACTC1', 'CSRP3', 'TTN', 'ZCCHC8', 'NANS', 'RAB3GAP1', 'NKX2-5', 'VAMP2', 'SASH1', 'DRG1', 'MKKS', 'GSTM3', 'GNPTAB', 'LDLRAP1', 'PHYH', 'SCN5A', 'ATP7A', 'PHB1', 'PIK3CD', 'POMK', 'ETFA', 'NIN', 'UNC45A', 'PUF60', 'SNX14', 'SHOX', 'VPS35L', 'UQCRC1', 'ADAMTS18', 'AGBL1', 'HLA-DRB1', 'SEPTIN12', 'TAF13', 'HERC1', 'ST3GAL5', 'PEX14', 'LAGE3', 'SLC19A2', 'CDKN1A', 'CDC42BPB', 'HBB', 'USP9X', 'TUBB8', 'PFKM', 'TAC3', 'VPS4A', 'NSD1', 'NDUFAF6', 'FBLN1', 'COL7A1', 'CREBBP', 'ERBB2', 'SLC6A4', 'MTAP', 'CTLA4', 'HNRNPR', 'GRK1', 'GRHPR', 'PPP1R3A', 'AHI1', 'DLX5', 'MANBA', 'DRD4', 'POGZ', 'TIMELESS', 'PHKG2', 'MYPN', 'CYP19A1', 'SLC40A1', 'CHST14', 'ARL6', 'KMT2D', 'BUB3', 'B2M', 'FXYD2', 'CYP24A1', 'ARHGDIA', 'SERPINA6', 'MINPP1', 'GRXCR1', 'FAN1', 'TRNT1', 'FGFR1', 'DNMT1', 'RPE65', 'MT-ND3', 'SIX6', 'KRAS', 'DNAH9', 'FANCL', 'TNNI2', 'DYRK1B', 'ANO5', 'NLRP1', 'AAGAB', 'SCN1B', 'NUP93', 'GREB1L', 'ABCA7', 'HNRNPH1', 'SPEG', 'SCN4B', 'PDGFB', 'EMP2', 'TNNI3K', 'KIAA0319L', 'MEGF8', 'RFT1', 'NEFH', 'GDNF', 'FAM149B1', 'ZNF592', 'LMNB1', 'HSD17B4', 'SLC22A18', 'SLC34A2', 'PIGL', 'DLL1', 'PNPT1', 'CLCN3', 'CUL4B', 'ERAL1', 'CYP11B1', 'SEC31A', 'TOPORS', 'ASXL2', 'ROBO4', 'ALOX12B', 'MIR184', 'SLC6A9', 'GK', 'KCNE3', 'FBN2', 'CD79A', 'APRT', 'ITGB4', 'PDE6D', 'PSENEN', 'KCNJ1', 'CDHR1', 'ZMYM2', 'HNF4A', 'APOA5', 'WDR62', 'BCL11B', 'MT-TS2', 'EFTUD2', 'PYGL', 'MYBPC3', 'BCR', 'OTOG', 'HOXA11', 'DLG5', 'ADA', 'IGF2BP2', 'LPIN1', 'GNB2', 'PGAM2', 'FCGR2B', 'RYR1', 'SUZ12', 'BTRC', 'KIDINS220', 'SMPD4', 'CAPN5', 'FAM20C', 'PRKCG', 'RFC2', 'NEUROD2', 'PPP2R3C', 'SULT2B1', 'EPHX2', 'CELF2', 'CARD14', 'GDF15', 'TUBB2B', 'RAB7A', 'INVS', 'PUS7', 'STAC3', 'GRIA1', 'TGIF1', 'MCM7', 'TBC1D7', 'TBX20', 'CNOT2', 'GRIN2A', 'EIF2AK1', 'EXT1', 'MME', 'MCM2', 'KPNA3', 'CRIPTO', 'GABRB2', 'POU6F2', 'XYLT1', 'PSAT1', 'POMP', 'KIZ', 'NHS', 'ACY1', 'KLHL24', 'HPD', 'EFHC1', 'SLC17A5', 'PRKCSH', 'RFWD3', 'GLIS3', 'TIMMDC1', 'SLCO2A1', 'IL13', 'NAXD', 'RET', 'PIGU', 'TASP1', 'H4C5', 'TPO', 'WDR11', 'RUNX1', 'ALG1', 'CEP104', 'LETM1', 'RARB', 'ARID2', 'SLC20A2', 'TMEM216', 'POLR1C', 'LSS', 'BBS1', 'ARPC5', 'SMG8', 'BRIP1', 'PLCH1', 'TREX1', 'NFKBIA', 'MAP3K8', 'PAX8', 'UCHL1', 'IFT27', 'TUBB3', 'SALL1', 'TRPV3', 'FAH', 'WASHC4', 'POLR3H', 'DAG1', 'ESRRB', 'POC1B', 'ZNF423', 'EDAR', 'AHSG', 'RSPH1', 'DNAI1', 'MED13L', 'SLFN14', 'PTHLH', 'CDK4', 'NOBOX', 'ABL1', 'CLDN14', 'PCSK9', 'ARMC5', 'MIEF1', 'TMEM231', 'EBF3', 'MT-ND4', 'EIF2S3', 'PRPH', 'EXOSC2', 'TCTN1', 'SETD2', 'BCOR', 'UQCC2', 'GRAP', 'SLC33A1', 'GNAQ', 'RTN4R', 'DMPK', 'MGME1', 'MORC2', 'SLC12A6', 'FANCF', 'MT-ATP8', 'NDUFAF5', 'STT3A', 'APOE', 'PKP2', 'TNFRSF11A', 'PLXND1', 'COMP', 'TUBB6', 'POLG', 'CRTAP', 'LYZ', 'RAPSN', 'ACTN1', 'FAM111B', 'ODAD1', 'MED12L', 'RPL5', 'KRT83', 'SREBF1', 'FGF12', 'GABRA3', 'EPO', 'TTC8', 'SLC35C1', 'CHRM3', 'AQP2', 'DLG1', 'AP1S3', 'SKI', 'RNF135', 'RAB3GAP2', 'ZFP57', 'MT-RNR1', 'MESP2', 'GPC3', 'SNAP29', 'ATP5F1B', 'SNF8', 'LGI4', 'MESD', 'POC1A', 'GATC', 'LMNB2', 'SMARCA4', 'MIR96', 'SIN3A', 'STRA6', 'ESS2', 'ATXN3', 'PLXNA1', 'ADAMTS15', 'SCNN1B', 'DPH5', 'BNC2', 'TRIM71', 'POLR3F', 'RANBP2', 'WNT3', 'ESRP1', 'HFE', 'PTCD3', 'DYRK1A', 'ACTG1', 'AMN', 'CDK6', 'RARA', 'RNASEH2B', 'SCNM1', 'STK36', 'OVOL2', 'AKT1', 'CCNO', 'UBIAD1', 'CRB2', 'IRF2BP2', 'GLI2', 'ZIC2', 'NSUN2', 'BBS9', 'CD164', 'BRCA1', 'FRAS1', 'HSF4', 'TGFB3', 'HECW2', 'CHRNA2', 'SLC12A3', 'MICOS13', 'CFAP418', 'HTR1A', 'POLG2', 'OSTM1', 'PDE4D', 'SRP54', 'ARSK', 'UBE2A', 'GABRD', 'SPTLC1', 'JAM3', 'PPOX', 'MSX1', 'WAS', 'KDM6A', 'ATM', 'SPIN4', 'CASQ1', 'SUCLG1', 'IDS', 'ERMARD', 'SLC25A22', 'SMO', 'PPIP5K2', 'SETD5', 'SLC4A3', 'EPG5', 'IL31RA', 'PEX6', 'TTI1', 'ATXN7', 'HOMER2', 'MACF1', 'MECOM', 'TMPO', 'PTPRF', 'IQSEC2', 'GPHN', 'TYMP', 'EPS8L2', 'GLI3', 'VIPAS39', 'PSMB1', 'CCN2', 'CTSK', 'NTN1', 'COA8', 'RXYLT1', 'MDM2', 'MEOX1', 'DBR1', 'HOXB1', 'HCRT', 'HTRA2', 'ZFHX2', 'INSR', 'SEC63', 'NUP160', 'GLS', 'PSEN2', 'MT-TW', 'POLR3B', 'VIM', 'AGTR1', 'MST1', 'KCNE1', 'MBL2', 'MRPS34', 'CLIC5', 'PIEZO2', 'OGDHL', 'SLC22A12', 'ITGA2B', 'HNRNPK', 'GLE1', 'GPKOW', 'HLA-DPB1', 'AURKA', 'CASZ1', 'MT-ND2', 'VPS51', 'SEMA5A', 'AAAS', 'ATP8B1', 'SMS', 'HSPB1', 'TRPM7', 'PEX11B', 'EPS8L3', 'SLC52A2', 'WDR37', 'SNX10', 'COL4A4', 'BMP6', 'SLC26A1', 'PNKD', 'CD2AP', 'VAC14', 'HMOX1', 'CFAP43', 'THOC6', 'MASP1', 'APC2', 'MAD2L2', 'COX11', 'TEFM', 'ITPR1', 'PLN', 'DYNC2H1', 'POLR3A', 'GARS1', 'CLDN11', 'DMP1', 'AGPAT2', 'GAD1', 'NEK2', 'BTD', 'PIGV', 'ARCN1', 'MYL2', 'RUSC2', 'HECTD4', 'F8', 'AGGF1', 'MT-ND5', 'GFAP', 'PLD1', 'FGD1', 'ZNHIT3', 'CLCF1', 'CRYBB3', 'TMEM237', 'LTBP4', 'SON', 'IL17RA', 'H1-4', 'MICU1', 'CLCNKA', 'TAF1A', 'FRMPD4', 'CLDN9', 'CAPN15', 'PRNP', 'SEMA6B', 'ALDH18A1', 'GRIP1', 'HDAC4', 'KRT2', 'RALA', 'EZH2', 'CLEC3B', 'KLF1', 'MRAS', 'DHCR24', 'EHMT1', 'CPT1A', 'SURF1', 'FH', 'HES7', 'HELLS', 'CARD8', 'PKDCC', 'PCGF2', 'ZFPM2', 'FLCN', 'ADGRG6', 'ASCL1', 'PTPN1', 'PLOD1', 'NME8', 'THSD4', 'KLLN', 'SCAPER', 'ANGPT2', 'PREPL', 'SOX10', 'USP18', 'KCNQ4', 'MAPK8IP1', 'TARS1', 'BSCL2', 'PAX6', 'STAT1', 'PRLR', 'IARS2', 'SETX', 'HAND2', 'RPS23', 'GATB', 'ADNP', 'GIGYF2', 'MAFA', 'STEEP1', 'LAS1L', 'CHD8', 'SCNN1G', 'IL6', 'PLOD3', 'HYMAI', 'ORC6', 'PRKG2', 'ELANE', 'RIPK1', 'PLK4', 'MT-TF', 'ADGRV1', 'CEP120', 'ZMYM3', 'IKBKG', 'GALNS', 'MOG', 'NUP37', 'CDKN2C', 'IVNS1ABP', 'TNFRSF13B', 'ATP7B', 'EPHB4', 'BRF1', 'PAX9', 'DNAAF3', 'STUB1', 'CAV1', 'ATP5MC3', 'UBAP2L', 'PLAA', 'MAGI2', 'CCDC28B', 'G6PC1', 'SLC4A2', 'ASH1L', 'SYNE2', 'CHCHD2', 'BBS10', 'DIP2B', 'CARS2', 'PHKB', 'NPRL2', 'IDH3A', 'DCTN4', 'DNASE1', 'TMEM98', 'NOTCH2NLC', 'NLRC4', 'MPDU1', 'RBM10', 'MTOR', 'TTC19', 'IL17RD', 'GATAD2B', 'ITGB6', 'RIPPLY2', 'PALB2', 'IL12A', 'SGCE', 'OTOA', 'FBLN5', 'AASS', 'BCL11A', 'TNXB', 'DNAI2', 'KDR', 'PLEKHM1', 'HSPA9', 'MYO7A', 'BRAF', 'CSF1R', 'PIGT', 'KCTD17', 'SGSH', 'NPHP4', 'CACNA1I', 'MPZL2', 'SDHAF2', 'CHUK', 'RPS26', 'FANCM', 'RB1CC1', 'ALX3', 'UBE4B', 'DNAAF4', 'AVPR2', 'NR3C1', 'UGT1A1', 'TSHR', 'WBP11', 'GRIA4', 'FXN', 'BICC1', 'INSL3', 'KIF11', 'IARS1', 'AKT3', 'IFT81', 'IFT172', 'CHRNA1', 'F13A1', 'ALB', 'PIGY', 'OTOGL', 'FCGR2C', 'KCNJ2', 'DAOA', 'KIF23', 'GCDH', 'SLC4A11', 'TMEM38B', 'PARN', 'PEX26', 'SLC25A12', 'CEACAM6', 'CD151', 'POT1', 'DVL3', 'NRAS', 'P4HA2', 'OPLAH', 'APOA1', 'CTH', 'COL9A3', 'ALDOB', 'BDNF', 'PNKP', 'MRPS16', 'CALM3', 'MGAT2', 'SLC9A6', 'DMXL2', 'TENM3', 'FUZ', 'SALL4', 'MOGS', 'H4C9', 'KIF3B', 'LONP1', 'FOXC2', 'PDE6C', 'CHN1', 'CYP4F22', 'KCNN4', 'SOX18', 'MRPL12', 'MYOT', 'PLG', 'NDE1', 'UFSP2', 'NOD2', 'ELN', 'RPS29', 'ATP6V1B2', 'RNF43', 'PPP2R1A', 'CALCR', 'ERBB4', 'CPT2', 'ASCC3', 'SHOC2', 'LDHA', 'CNGB1', 'TPRKB', 'FANCG', 'TCAP', 'CDC73', 'MLLT10', 'DHX37', 'NIPAL4', 'PRODH', 'TBX18', 'IRF2BPL', 'MYO5B', 'IL12A-AS1', 'MFAP5', 'KIF1A', 'HNRNPDL', 'RRAS', 'CTRC', 'BICRA', 'FBP2', 'TGFB1', 'PRUNE1', 'ARX', 'OCLN', 'PRTN3', 'GP9', 'MT-TQ', 'LRRC56', 'FOXE1', 'PSTPIP1', 'MUC5B', 'VPS16', 'TULP3', 'YEATS2', 'SLC7A14', 'RASA1', 'TRIM37', 'GNE', 'SLC1A2', 'TDO2', 'SPRED2', 'MSH2', 'FREM1', 'RAB5IF', 'BUB1', 'H19', 'CCND2', 'UFD1', 'SAMD12', 'PCK1', 'CRLS1', 'WWOX', 'SAT1', 'FAS', 'POMT2', 'KIF5A', 'AKT2', 'RELA', 'SLC52A3', 'GATM', 'ADCY10', 'ANKLE2', 'VCP', 'PHC1', 'IFT56', 'PEX7', 'PHOX2A', 'CTNS', 'MATR3', 'CACNA1H', 'PRMT7', 'FTL', 'WDFY3', 'PAFAH1B1', 'DPF2', 'CHMP4B', 'LRP4', 'CARTPT', 'PHIP', 'HS6ST2', 'FOXL2', 'MT-TP', 'MT-ND6', 'MRPS22', 'DYNC2LI1', 'SOX9', 'TMEM132E', 'RECQL4', 'CPT1C', 'CHMP2B', 'ATR', 'GNRHR', 'HSD11B1', 'MYLK2', 'GJB3', 'CFHR1', 'XRCC2', 'PPP1CB', 'IFT52', 'FTH1', 'HBA1', 'MIA3', 'DLL4', 'UBB', 'FKBP10', 'DNAJB11', 'RAD54B', 'TP53RK', 'ZNF668', 'PXK', 'PIGO', 'CDH23', 'ATP5MK', 'KPTN', 'MED13', 'GNAL', 'PEX1', 'ANKS6', 'MUTYH', 'EYA4', 'KLHL10', 'SDHA', 'IRF8', 'MPZ', 'PML', 'MSH4', 'TPM4', 'ATP6V1A', 'MAFB', 'SERPINB6', 'GRIN1', 'DHX16', 'HOXD13', 'CETP', 'DNAL1', 'CATSPER2', 'MMUT', 'SC5D', 'IRF5', 'SLC37A4', 'EPS15L1', 'CLIC2', 'EDEM3', 'MCFD2', 'RNF2', 'SLC39A14', 'SLC6A6', 'CYLD', 'COL11A2', 'ZNF148', 'RNF113A', 'TRMT5', 'THBD', 'ARSL', 'FAT2', 'DNM2', 'ASNS', 'CHRNA4', 'GRN', 'SHH', 'TUBB', 'PAK3', 'RIPOR2', 'HSPB8', 'FLG', 'REEP2', 'F2', 'BANK1', 'GLB1', 'GLRA1', 'SSR4', 'TFG', 'KLHL7', 'SARS1', 'RAD21', 'ZMIZ1', 'GHRL', 'PTPRJ', 'SLC30A8', 'TBX5', 'CBY1', 'C4B', 'HERC2', 'FOXJ1', 'PDE6B', 'ACTA2', 'ZNF526', 'DSTYK', 'EDN1', 'ATRX', 'FREM2', 'SNAP25', 'YY1AP1', 'DHPS', 'ATL3', 'STX4', 'IL36RN', 'METTL27', 'CPLANE1', 'TRIM8', 'CEP63', 'WIPF1', 'SIX2', 'XPC', 'HDAC9', 'CLDN10', 'AFG2B', 'SLC1A3', 'TYR', 'KRT6C', 'NXN', 'ZEB2', 'CNOT1', 'ZSWIM6', 'ARHGEF38', 'LITAF', 'ERCC1', 'MT-TV', 'PTF1A', 'EPB41L1', 'COL9A1', 'CFC1', 'STOX1', 'KIF14', 'FAR1', 'PPP2R1B', 'ACOX1', 'WNT4', 'GAPVD1', 'CRELD1', 'MED11', 'PLAGL1', 'SOD1', 'DNAJB6', 'TENM4', 'CRLF1', 'ACVR1', 'RPGRIP1', 'WDR26', 'INTS11', 'DZIP1', 'HLA-DPA1', 'MMP1', 'PLP1', 'APOL4', 'MT-ATP6', 'ECE1', 'PEX12', 'TKT', 'DNAJC30', 'SOX3', 'TRIP12', 'AGXT', 'KRT13', 'PRDM6', 'MDH2', 'DYNC1H1', 'CWC27', 'NANOS1', 'INPPL1', 'JAK1', 'LMX1B', 'HACE1', 'KLRC4', 'SLC6A5', 'LORICRIN', 'POMGNT1', 'CEP164', 'GHSR', 'TAF4', 'TRPC3', 'USP8', 'CYFIP2', 'TSC2', 'IRF6', 'ALMS1', 'LRP6', 'MMP13', 'ADAMTSL2', 'KDM1A', 'CEP85L', 'NECTIN1', 'B3GALT6', 'HAAO', 'RBM12', 'CLCN1', 'AGRN', 'REST', 'PICALM', 'SPEN', 'PDK3', 'GNAI1', 'WDR4', 'SUPT16H', 'LZTR1', 'UNC45B', 'MYT1L', 'SLC4A10', 'TFE3', 'TIMM8A', 'PDZD7', 'NKX2-1', 'APOB', 'SLC26A5', 'HGD', 'ALG6', 'SCN10A', 'APCDD1', 'SLC16A2', 'KRT86', 'CALM1', 'NUP88', 'NR4A2', 'ATP11A', 'NOL3', 'PLCG2', 'KDF1', 'GP1BB', 'GTF2IRD2', 'SCN8A', 'KDM6B', 'GP1BA', 'GJA5', 'HEPACAM', 'BBS7', 'MPLKIP', 'CTSB', 'NDUFA13', 'CACNA1D', 'ATN1', 'PRIM1', 'ELP1', 'PDPN', 'HESX1', 'SLITRK6', 'MEN1', 'SLC6A17', 'PIK3CA', 'SBF2', 'ROM1', 'NOTCH1', 'CDC45', 'NDUFB9', 'PKD1', 'SPART', 'S1PR2', 'XPNPEP3', 'INF2', 'SYK', 'CHEK2', 'FOXI3', 'IREB2', 'NAGA', 'ARL2BP', 'HTT', 'MYOCD', 'ALG10B', 'CCR1', 'RPGRIP1L', 'TRMT1', 'SNTA1', 'PAM16', 'HEATR3', 'DNAH5', 'FBN1', 'CTNNA1', 'JPH3', 'CCM2', 'WNK1', 'GPR156', 'POLD1', 'LMNA', 'NCDN', 'SMARCAL1', 'WDPCP', 'TMEM240', 'NSD2', 'NCAPD3', 'BBIP1', 'FANCI', 'CACNA1S', 'RIGI', 'TBP', 'KRT14', 'KAT5', 'ERCC3', 'CLDN19', 'SLF2', 'TUBGCP2', 'NLRP3', 'MFSD2A', 'UBA1', 'SMARCE1', 'COG5', 'LARS2', 'ADRB1', 'RPL18', 'FOXG1', 'KCNT1', 'NME5', 'CAMK2A', 'DCPS', 'SP7', 'SERPING1', 'GPSM2', 'RORB', 'RPS17', 'DNAJC19', 'KDM4B', 'PKD2', 'EN1', 'NDUFB3', 'PCLO', 'PRPF4', 'ADAMTS13', 'COG4', 'MANF', 'MKS1', 'FGF20', 'CERS3', 'RPL13', 'SCN11A', 'RNF125', 'KRT5', 'CFTR', 'ATP2B1', 'GET3', 'ACVRL1', 'ERAP1', 'RAB11B', 'DCHS1', 'MIR140', 'TRAPPC12', 'LUZP1', 'SPATA7', 'KCNMA1', 'TMEM147', 'SHANK3', 'DNAJC3', 'KMT2E', 'ABCC1', 'CSNK2B', 'CIT', 'KMT2A', 'TUB', 'H4C3', 'LZTFL1', 'AGO1', 'LRP12', 'CYBC1', 'CASR', 'GATA3', 'ABCG8', 'CNOT3', 'MMP23B', 'AFP', 'RASA2', 'H3-3B', 'TNNT1', 'NBN', 'MFN2', 'LRRK2', 'CDC6', 'KCTD1', 'NR3C2', 'GPT2', 'MARS1', 'PITPNM3', 'DIAPH1', 'MIP', 'ETV6', 'PSMC3IP', 'ZMYND11', 'NEFL', 'DPH2', 'RRAGC', 'CDKN1C', 'TMTC4', 'SAA1', 'RAG2', 'SYNE4', 'PORCN', 'VPS33B', 'COL4A3', 'CACNB2', 'DDB2', 'ADAMTS2', 'ALG5', 'TBC1D24', 'PNPLA6', 'MAPKBP1', 'MRPS28', 'BMPR1B', 'PGAP3', 'CAPRIN1', 'PALLD', 'HCN2', 'CTBP1', 'PRCD', 'NOTCH3', 'UBA2', 'TRAPPC9', 'PIGW', 'TGFBI', 'NFIA', 'RNASEH2C', 'AFF2', 'CDH11', 'GLIS2', 'TOP3A', 'BIN1', 'FDPS', 'CASP10', 'MYH3', 'KAT6A', 'MYO18B', 'HRURF', 'ARSB', 'CLCA4', 'KLK11', 'IFT74', 'PLA2G6', 'CHRNB1', 'MVD', 'THSD1', 'LRP1', 'PRDX3', 'CEP295', 'FOXD3', 'FANCE', 'PLCG1', 'PHKA2', 'RABL3', 'FIG4', 'STEAP3', 'SDHC', 'CCDC39', 'SFTPC', 'PDE6H', 'PROC', 'QARS1', 'FOXRED1', 'RDH5', 'CLCN2', 'ITPR3', 'GRHL3', 'PROS1', 'MAT1A', 'NALCN', 'TTI2', 'KCNK4', 'STAT5B', 'SPINK1', 'IL23R', 'ANAPC7', 'WRN', 'RAF1', 'SLC7A9', 'GNB1', 'GNAT1', 'EEF1A2', 'ITCH', 'ARMC9', 'TEAD1', 'ARVCF', 'POLR1A', 'SMARCC2', 'APC', 'UBE3B', 'DDB1', 'CPA6', 'TP53', 'CPSF1', 'DSC2', 'NR2F1', 'HS2ST1', 'TBXA2R', 'PMM2', 'IGHG1', 'ANK1', 'IL1RAPL1', 'ERG', 'MT-TL1', 'ELOVL5', 'NUTM2B-AS1', 'GUCA1A', 'FBXO28', 'SLC39A7', 'PIGK', 'CHEK1', 'THAP1', 'MYO6', 'VSX1', 'POGLUT1', 'GON7', 'KCNN2', 'DYNC2I1', 'XRCC3', 'HNRNPC', 'FUCA1', 'KRT81', 'FZD4', 'IDUA', 'USP45', 'RBMX', 'PNPLA1', 'LRTOMT', 'CCDC78', 'SCN1A', 'SMARCB1', 'KCNJ13', 'PMS1', 'SCARB2', 'CHD1', 'ACSL4', 'HSD17B10', 'REN', 'TRAPPC11', 'USP48', 'PLAU', 'CNGB3', 'EDC3', 'GJC2', 'KCNJ11', 'SH3TC2', 'PTH', 'TFAP2A', 'ASPRV1', 'VPS13B', 'POU4F1', 'CHRNB2', 'COQ6', 'PIK3R2', 'TMCO1', 'VPS37A', 'NFIX', 'DGKE', 'RPL35A', 'CUBN', 'TGDS', 'WNT10A', 'BAP1', 'RPS6KA3', 'MYOF', 'PCDH15', 'RFC1', 'KIF2A', 'NPR2', 'TNRC6A', 'ARL13B', 'FOXL1', 'SEC61A1', 'NFKB2', 'UBR1', 'COG7', 'GABRA2', 'DMD', 'RBM20', 'DPAGT1', 'PPP2CA', 'DRD5', 'IFT43', 'ADRA2A', 'GRIN2B', 'HBA2', 'MAPK8IP3', 'PRDM10', 'F9', 'CACNA1C', 'FANCD2', 'IRS1', 'IGBP1', 'KRT4', 'ASPA', 'GNA11', 'SKIC2', 'HSD11B2', 'ADAR', 'RERE', 'TMEM151A', 'LGI1', 'UBTF', 'SCARF2', 'COL14A1', 'CYB561', 'KCNJ10', 'OPHN1', 'RIPK4', 'GLYCTK', 'TBL2', 'IRX5', 'BMS1', 'TCN2', 'GAA', 'CERKL', 'WT1', 'NDUFAF3', 'HOXD10', 'RECQL', 'AGT', 'FOXH1', 'TCF20', 'SETBP1', 'ATP6V0A1', 'NFIB', 'SLC26A2', 'PRIMPOL', 'PNPLA2', 'GNS', 'RAD51', 'PROM1', 'CEL', 'KCNK3', 'CDKN2A', 'GRIA2', 'TRAPPC14', 'COL13A1', 'ELOVL1', 'MAPK1', 'RIT1', 'UGP2', 'ASXL3', 'CCR6', 'NFE2L2', 'BEAN1', 'CDT1', 'TMEM138', 'PGM2L1', 'AIRE', 'JMJD1C', 'TRAF7', 'CCDC141', 'RBPJ', 'RNASEL', 'CYP2C9', 'SETD1A', 'CACNA2D1', 'SIK1', 'GIPC1', 'TUBB1', 'MYO15A', 'COX14', 'ZNF699', 'ABCA12', 'CES1', 'IGHM', 'BMPR1A', 'LOXHD1', 'ANKFY1', 'MIF', 'BAG3', 'NEK10', 'ALG3', 'STAT6', 'CLCN6', 'PNP', 'COQ2', 'TOGARAM1', 'SLC26A4', 'PACS1', 'SLC5A1', 'TAB2', 'DTNA', 'DNAH1', 'TRAF3', 'SMPX', 'ICOS', 'GABRB3', 'ACO2', 'RPL11', 'SOS2', 'ELOVL4', 'PRKD1', 'SLC6A2', 'IL11RA', 'ANXA11', 'MITF', 'RHBDF2', 'RAP1B', 'NR0B1', 'NUS1', 'POR', 'LDLR', 'NPHS1', 'AKR1D1', 'B4GALT7', 'NHP2', 'ESAM', 'VANGL1', 'SYCP2', 'CD19', 'DGUOK', 'USP53', 'PRRT2', 'ARF1', 'IL2RG', 'CALM2', 'RHAG', 'ANTXR1', 'CHD4', 'DIAPH3', 'PCNT', 'PIKFYVE', 'TP63', 'CDKN1B', 'AGA', 'PRDM5', 'IPW', 'ANG', 'SLC9A3', 'PEX10', 'IMPG1', 'CAPN3', 'GTF2H5', 'PLCD1', 'CELA2A', 'MAP3K7', 'LHX4', 'KMT2B', 'SERPINE1', 'NUP85', 'ACTN4', 'ORC1', 'ERBB3', 'PRPF31', 'PGAP2', 'TG', 'SRRM2', 'SLC25A24', 'DIO1', 'MUC1', 'NCSTN', 'PCYT1A', 'RAX2', 'ROR1', 'ARL3', 'ATP6V0A2', 'NDUFV1', 'PTPRQ', 'IRF1', 'ECHS1', 'IFT88', 'CHSY1', 'LOXL1', 'TNFSF11', 'DGCR2', 'PPARG', 'TLR7', 'THUMPD1', 'FSHR', 'TOM1', 'IL10', 'SLC4A4', 'NEB', 'CRYGB', 'DDX11', 'PHGDH', 'TAFAZZIN', 'KATNB1', 'HUWE1', 'KCNE2', 'UFM1', 'NDUFAF1', 'DRAM2', 'PAICS', 'RUNX2', 'ROR2', 'TICAM1', 'CHRNE', 'VANGL2', 'TWNK', 'EIF3F', 'GUCA1B', 'NEXMIF', 'SPNS2', 'SLC52A1', 'CHMP1A', 'KITLG', 'PTCH2', 'HOXA1', 'APOL2', 'PIK3C2A', 'ASAH1', 'THRB', 'ERCC5', 'C1QBP', 'COQ8A', 'SCN4A', 'CEP55', 'MYH14', 'CHIC2', 'ACAN', 'TGFB2', 'HOGA1', 'KIFBP', 'EBP', 'THRA', 'RPS28', 'IFT122', 'IMPDH2', 'XIAP', 'PC', 'GPD2', 'GH1', 'GAS8', 'DISP1', 'FOXP2', 'WNK4', 'NPAP1', 'MED27', 'STAT2', 'FLT1', 'KCNH2', 'CUL7', 'CTNND2', 'CRYGS', 'FDXR', 'DHODH', 'HABP2', 'NCF4', 'TRMT10A', 'PQBP1', 'DHX38', 'TNFRSF1A', 'ADGRG2', 'FOXI1', 'GFI1', 'NOVA2', 'ODC1', 'CEP57', 'P4HB', 'CLCNKB', 'ADAMTS3', 'HGSNAT', 'PEX16', 'VPS37D', 'LPL', 'REEP1', 'POLR3GL', 'PHEX', 'VPS35', 'EFEMP2', 'MMP19', 'DSG1', 'NDUFAF8', 'COL25A1', 'BUD23', 'AMTN', 'BMPR2', 'CTC1', 'GTPBP2', 'NDUFA11', 'C9orf72', 'FLT4', 'KAT6B', 'MAB21L2', 'PPCS', 'TUBB4A', 'USF3', 'MCOLN1', 'BNC1', 'ZIC1', 'SLC2A9', 'STIM1', 'JARID2', 'BMPER', 'ASL', 'TBX1', 'SLC12A1', 'DACT1', 'MATN3', 'CFI', 'TMEM163', 'HAL', 'TSC1', 'PLCB4', 'EFNB1', 'OGG1', 'ASPN', 'PABPN1', 'LRAT', 'EEF2', 'GALK1', 'CLCN5', 'HS6ST1', 'EPRS1', 'DENND5A', 'NPHP1', 'NPM1', 'SBDS', 'LSM11', 'MCM5', 'PRKAG2', 'TRAF3IP1', 'UBR7', 'YWHAG', 'AGO2', 'CBFB', 'RRM1', 'OXGR1', 'LRPPRC', 'FGF8', 'GAB1', 'ALKBH8', 'GMNN', 'ATRIP', 'GBE1', 'PRPF8', 'CTSD', 'SERPINC1', 'ATP5F1E', 'NDUFS3', 'FANCB', 'POMT1', 'TPM2', 'DEAF1', 'EGFR', 'COX16', 'NLGN1', 'PAX7', 'VKORC1', 'ATP1A1', 'POU1F1', 'RMRP', 'BLK', 'WBP2', 'USH1G', 'LAMC2', 'NTNG2', 'KRT6B', 'ELP4', 'GPD1L', 'CHKA', 'BCS1L', 'RIC1', 'STRC', 'EVC', 'TCF7L2', 'SMG9', 'SARS2', 'FUS', 'SCLT1', 'DLL3', 'MAD1L1', 'MTMR14', 'PTH1R', 'SLC34A3', 'KISS1', 'TET2', 'SAG', 'KCNQ3', 'OPA3', 'NARS1', 'HMX1', 'ARHGAP29', 'DNAAF2', 'PSAP', 'POLA1', 'NARS2', 'BBS5', 'IGF2', 'CENPF', 'TSR2', 'DUOXA2', 'SFTPA2', 'CHD5', 'UBAP1', 'EMC1', 'MKRN3', 'ZDHHC9', 'CENPJ', 'AIPL1', 'CARD11', 'PDCD10', 'ANKRD11', 'SLC11A1', 'RBBP8', 'GPRC5B', 'BRPF1', 'CCDC40', 'TMEM67', 'MAK', 'PDE6A', 'NKAP', 'NDUFA9', 'TET3', 'GABRA5', 'NDUFS7', 'FGA', 'BARD1', 'HMCN1', 'TBXT', 'COL6A1', 'CNBP', 'COX7B', 'SF3B4', 'KIRREL1', 'CAP2', 'MED25', 'FDFT1', 'LARS1', 'PITX2', 'SMAD4', 'ZNF407', 'PRKCZ', 'MPI', 'CAD', 'MPDZ', 'PDE6G', 'G6PC3', 'TRAF3IP2', 'ODAD2', 'SLC17A9', 'CDH15', 'WNK3', 'GPC4', 'NCF1', 'F10', 'SPIDR', 'ADCY5', 'PHF21A', 'CAMKMT', 'PTDSS1', 'SSBP1', 'NACC1', 'MADD', 'TLL1', 'CCDC88C', 'ANO1', 'SLC35D1', 'SNORD115-1', 'NDST1', 'NOG', 'C1QTNF5', 'MOCOS', 'TRPV6', 'MVK', 'MAP2K1', 'ETFDH', 'SMARCD2', 'SF3B2', 'PHOX2B', 'LPIN2', 'GRM7', 'SETD1B', 'GDF3', 'ARHGEF18', 'CASQ2', 'EDNRA', 'PLVAP', 'PAX1', 'NOP10', 'CEP135', 'ALX4', 'PGM1', 'TBX2', 'UBE3A', 'TUBA4A', 'FZR1', 'UBE2T', 'WRAP53', 'SLC17A8', 'CD109', 'CD46', 'BBS4', 'KRT74', 'ABCB4', 'BRWD3', 'PI4K2A', 'CEP250', 'LRP2', 'SUFU', 'CABP2', 'CITED2', 'JAG1', 'CR2', 'HNRNPU', 'ZIC3', 'RPS24', 'CHRND', 'HDC', 'IMPDH1', 'RSPH3', 'TRIO', 'LMBRD1', 'COL9A2', 'DTYMK', 'SRP72', 'IDH1', 'CLCN7', 'CFAP221', 'SLC35A2', 'NSUN6', 'MBTPS1', 'SLC3A1', 'PFN1', 'AIFM1', 'AP1S1', 'PAX3', 'RINT1', 'SMCHD1', 'PPP1R17', 'CADM3', 'TUBGCP6', 'POLR1B', 'EIF2AK3', 'RELN', 'IFIH1', 'SYCP3', 'OPN1LW', 'JAZF1', 'AP4E1', 'PTPN22', 'TINF2', 'GBA1', 'XRCC4', 'PDGFRL', 'KCNB1', 'COLEC10', 'SLC6A14', 'CLTC', 'TRMU', 'SCAF4', 'LIG3', 'AFG3L2', 'BAG5', 'CYP3A4', 'AP3B1', 'NGLY1', 'MB', 'TGM6', 'PLCE1', 'LIPN', 'SLC25A20', 'LGR4', 'HAGH', 'PLIN4', 'SLC29A3', 'SGPL1', 'GNAI3', 'FBXW7', 'SPTAN1', 'LMOD3', 'KCNK18', 'INS', 'RDX', 'STK11', 'PUS3', 'NRL', 'SOCS1', 'COL10A1', 'DNAJC21', 'ADK', 'LAMB2', 'RAG1', 'ATF6', 'TPH2', 'LAMA5', 'SLC6A8', 'PWRN1', 'DKK1', 'DYM', 'NCAPG2', 'C9', 'GAS2L2', 'GAL', 'ESR2', 'PDE8B', 'F12', 'SLX4', 'MT-TS1', 'SPR', 'SIN3B', 'RPS15A', 'RBM8A', 'HIVEP2', 'CACNA2D4', 'RNASEH1', 'GALE', 'FKBP6', 'EIF4A2', 'IKZF5', 'FOXP1', 'MYH8', 'UMOD', 'AQP4', 'CLEC7A', 'ERCC2', 'DNAAF6', 'LIMK1', 'ADAM10', 'OCRL', 'CFHR3', 'ZNF292', 'YAP1', 'FITM2', 'SLC44A4', 'PRPS1', 'PEX5', 'MSTO1', 'U2AF2', 'TTLL5', 'RTL1', 'MSRB3', 'CASP8', 'SLC10A7', 'WARS2', 'GPR101', 'TAF1', 'ESPN', 'TPM1', 'COG8', 'SLC26A9', 'SMARCC1', 'CEACAM16', 'PTEN', 'CTCF', 'ACTG2', 'ZEB1', 'DCDC2', 'NFS1', 'MSH3', 'MT-TI', 'GRIA3', 'CNTNAP1', 'CYP11B2', 'TPM3', 'AFF3', 'LIPC', 'VAMP7', 'TMEM165', 'FBXL4', 'KRT3', 'NDUFS8', 'PRKACA', 'SDR9C7', 'ANXA5', 'COL27A1', 'DNM1L', 'SERPINF1', 'ALOXE3', 'SERPIND1', 'DUSP6', 'TCTN3', 'MYLK', 'JPH2', 'NQO2', 'NDUFA1', 'CDC14A', 'AFF4', 'GALNT2', 'RAPGEF2', 'PRKACB', 'PAH', 'RAB34', 'CTSA', 'PDE3A', 'UBE3C', 'CPLX1', 'PEX19', 'DLX4', 'CRYAA', 'CLIP2', 'NAA15', 'KCNC3', 'UHRF1', 'KL', 'CCDC103', 'PPM1D', 'STXBP1', 'TLR2', 'ABCB6', 'HTR2A', 'PTPN12', 'KLHL40', 'CCDC134', 'SPECC1L', 'PDX1', 'SOX4', 'NDUFA6', 'PIBF1', 'CUX2', 'SPRED1', 'RTN2', 'SCNN1A', 'MAP3K20', 'VPS45', 'BTNL2', 'B4GALT1', 'TUBA1A', 'SPTLC2', 'SLC25A4', 'HMGA1', 'TNFRSF11B', 'IDH2', 'KYNU', 'TALDO1', 'TFAP2B', 'TBX15', 'BBS12', 'ZNF462', 'SGMS2', 'SPRY4', 'SH3GL1', 'DLC1', 'SPI1', 'MAP3K1', 'BLM', 'NEK9', 'CRYAB', 'SPTSSA', 'NTRK2', 'CRYBB1', 'OSMR', 'RPS27', 'PIGB', 'F5', 'DRD3', 'SPTBN4', 'FHL1', 'YWHAE', 'MAPKAPK5', 'TBX4', 'ARL2', 'FRG1', 'SEC23B', 'SLC6A1', 'TMEM70', 'IKBKB', 'LPP', 'FLNA', 'ABCC9', 'KCNT2', 'HNMT', 'HPS1', 'KDSR', 'ENG', 'PPFIBP1', 'SUMF1', 'A2ML1', 'TBR1', 'CFAP410', 'EGLN1', 'KDM5C', 'DHDDS', 'FOXF1', 'ARID1B', 'POLRMT', 'ATOH1', 'GABBR2', 'NOP56', 'PDE1C', 'TNFRSF13C', 'KMT2C', 'PI4KA', 'FSCN2', 'CHD7', 'VAPB', 'EIF4H', 'WASHC5', 'KCNC1', 'LDB3', 'GJB1', 'SH3PXD2B', 'HMMR', 'NHLH2', 'BRCC3', 'GCLC', 'CHAT', 'TBCE', 'OSBPL2', 'PDGFRB', 'AEBP1', 'CAT', 'CPE', 'PITX1', 'DOCK6', 'EYS', 'KRT71', 'STXBP2', 'CCNF', 'TTC5', 'SRD5A3', 'AHDC1', 'EIF5A', 'PIGA', 'HELLPAR', 'CISD2', 'MRPS7', 'LMX1A', 'ABCG5', 'CSPP1', 'PROK2', 'B4GAT1', 'HLA-B', 'VPS11', 'DNAAF11', 'LARGE1', 'CELSR1', 'EFL1', 'MEFV', 'AXIN2', 'SOS1', 'LAMB1', 'HSPD1', 'RRAS2', 'PROKR2', 'MT-CO1', 'SASS6', 'C1QA', 'ABHD5', 'ADPRS', 'STX16', 'FAT4', 'NUP133', 'RNF139', 'ACTL6B', 'MAB21L1', 'PER3', 'FMR1', 'MYOZ2', 'SNRNP200', 'XDH', 'LFNG', 'KIT', 'MAP1B', 'SLC39A5', 'DHTKD1', 'BFSP1', 'AFG2A', 'STIL', 'NPHP3', 'ZBTB7A', 'EIF4A3', 'PRORP', 'NR2F2', 'SLC5A7', 'GNAO1', 'C12orf57', 'GCK', 'ADCY1', 'RHO', 'EIF4G1', 'RAD54L', 'TNFAIP3', 'LHFPL5', 'MTRR', 'AP1G1', 'HDAC8', 'TRPA1', 'PRPH2', 'MYH11', 'GTF2IRD1', 'PANK4', 'OTX2', 'POU3F4', 'ANOS1', 'ARHGAP26', 'EDN3', 'FLI1', 'AGRP', 'IGF1', 'RPS10', 'COPA', 'CHD3', 'PWAR1', 'TMEM94', 'MIB1', 'RALGAPA1', 'KIF21A', 'CEP78', 'TEK', 'UROD', 'PITX3', 'TRIP11', 'ODAD4', 'ALDH4A1', 'VEGFC', 'EPHA2', 'SPP1', 'COL18A1', 'ODAD3', 'BMP2', 'TCF12', 'CRY1', 'KCNA1', 'PTPRO', 'GRIK2', 'OPN1MW', 'ZSWIM7', 'IFT140', 'SPEF2', 'VWF', 'SCN9A', 'EPCAM', 'ESR1', 'MGP', 'CRYM', 'TULP1', 'MAP2K2', 'SKIC3', 'NUMA1', 'HCCS', 'ACBD5', 'SLC41A1', 'TMEM270', 'PMP2', 'UNC80', 'SPAST', 'TMEM43', 'ITGA6', 'PRKG1', 'MC4R', 'FLII', 'ATP5F1A', 'TBL1XR1', 'PRKN', 'CD79B', 'TRPM4', 'SCN2B', 'MUSK', 'SMC3', 'HSPB3', 'ADAMTSL1', 'TNNT3', 'ZPR1', 'PURA', 'SEC24C', 'VPS53', 'ZNF687', 'VWA8', 'SLC25A10', 'CLRN2', 'PPP2R5D', 'SLC16A1', 'GJB4', 'CREB3L3', 'ATP6V1E1', 'NSMF', 'HLA-G', 'TBK1', 'MAPRE2', 'FGF13', 'STX1B', 'ALG9', 'GTF2I', 'CHCHD10', 'MYSM1', 'TRIM28', 'EHHADH', 'CENPE', 'RSPO2', 'NEDD4L', 'MTNR1B', 'RPS7', 'BFSP2', 'SLC25A1', 'ARSA', 'HNRNPA2B1', 'STX3', 'INTU', 'TBC1D8B', 'CLRN1', 'MYH6', 'APOL1', 'SCD5', 'ELF4', 'DNAH11', 'COL17A1', 'TMC1', 'TWIST1', 'HARS1', 'HYDIN', 'OPTN', 'REV3L', 'BHLHA9', 'RNF213', 'TRPV4', 'MYL3', 'ITGA2', 'GMPPB', 'TANGO2', 'GTF2E2', 'NF2', 'SH2B3', 'PLS1', 'SEM1', 'SMAD9', 'COL11A1', 'DNAAF1', 'TMPRSS3', 'BDP1', 'MNX1', 'LHX3', 'SDC3', 'NIPBL', 'CEP83', 'CRYBA4', 'SMARCD1', 'MAST3', 'SP6', 'DDX41', 'MTHFR', 'GALC', 'BBS2', 'CHI3L1', 'NUP188', 'SLC16A12', 'TSPAN12', 'ASB10', 'PRKCD', 'BAX', 'SELENOI', 'MID1', 'DIS3L2', 'KEAP1', 'KMT5B', 'ZP3', 'TSHZ1', 'RAB18', 'KDM5B', 'PAK1', 'PLA2G2A', 'SERPINH1', 'KCNH1', 'PTCH1', 'SGCD', 'SLC2A2', 'GJA3', 'FGF10', 'CEP41', 'HMGA2', 'C19orf12', 'ALG2', 'ATIC', 'OTUD5', 'CACNG2', 'CILK1', 'CTNNB1', 'DCLRE1C', 'APP', 'BICD2', 'PIGG', 'SLC5A5', 'ITGAM', 'SERPINI1', 'TRAPPC4', 'MYRF', 'RFX7', 'SERPINF2', 'YY1', 'C3', 'LAMA3', 'WLS', 'DLST', 'IL17F', 'IGF1R', 'ARFGEF1', 'FIP1L1', 'FASLG', 'SPRY2', 'GEMIN4', 'JPH1', 'ATAD3A', 'PDLIM4', 'FOCAD', 'AVP', 'MARCHF6', 'IFT80', 'EVC2', 'HPRT1', 'NABP1', 'EXT2', 'TNNC2', 'ADGRG1', 'MRPL3', 'IDH3B', 'CFAP298', 'APPL1', 'RPL15', 'OSGEP', 'CAV3', 'GPC6', 'TBX22', 'RAD51C', 'DGCR6', 'KANK2', 'POU4F3', 'GJB2', 'DSG2', 'CYP2A6', 'PDCD6IP', 'HMBS', 'KIF15', 'GALNT3', 'ABHD12', 'AIP', 'SOX5', 'DUX4L1', 'GNAS-AS1', 'SRPX2', 'COBLL1', 'ERF', 'SOX2', 'KRT1', 'OTULIN', 'MSH6', 'RAB23', 'WDR73', 'GNAS', 'TNNI3', 'MN1', 'ZBTB20', 'ATP6V0A4', 'IL12B', 'INTS1', 'RPS19', 'RPL35', 'MAGED2', 'SCN2A', 'TXNDC15', 'ACE', 'NRCAM', 'CTNNA3', 'ERCC4', 'BMP4', 'CDH1', 'CFH', 'SNRPB', 'SMARCAD1', 'TNIP1', 'ANK2', 'B3GLCT', 'PDE11A', 'KIF26A', 'ZNF711', 'MPO', 'EPB41', 'GDF6', 'MERTK', 'DHX30', 'RRAGD', 'FKTN', 'SIM1', 'EXOC7', 'B9D1', 'PGAP1', 'ACVR2B', 'UNC13D', 'TWIST2', 'SQSTM1', 'ALAD', 'OAS1', 'ALG11', 'PBRM1', 'AP1B1', 'WNT10B', 'PSMC3', 'MAN2B1', 'STS', 'RPL27', 'EPS8', 'CC2D2A', 'WASF1', 'PSMB8', 'TTR', 'MECP2', 'FGFR3', 'IFNGR1', 'GREM2', 'CLPB', 'TUBB2A', 'DNA2', 'ZMYND10', 'CLDN16', 'NADK2', 'FN1', 'FANCC', 'KRT6A', 'COL3A1', 'UBAC2', 'SAMD9L', 'SCP2', 'GIPC3', 'PPP1R21', 'JUP', 'STAMBP', 'GSDME', 'DRC1', 'DHCR7', 'ADAM9', 'KANSL1', 'ITGB3', 'SCO2', 'PPM1B', 'PCNA', 'WNT7B', 'CCNK', 'RHOBTB2', 'RLBP1', 'IVD', 'YARS1', 'KIF7', 'RRM2B', 'NUBPL', 'CLDN2', 'ADAT3', 'TAPT1', 'CHRNG', 'DDX3X', 'ARSG', 'NFKB1', 'ZFHX4', 'ATXN1', 'RAB28', 'LIG1', 'KRT16', 'SCN3A', 'COCH', 'NDUFS6', 'MCPH1', 'CD3G', 'TMEM218', 'MMACHC', 'HS3ST6', 'SH3BP2', 'SYNGAP1', 'KARS1', 'PLIN1', 'KNSTRN', 'TK2', 'SOX17', 'IPO8', 'HBG2', 'GLMN', 'LCAT', 'TNC', 'EPOR', 'MYO1E', 'MAGEL2', 'VEZF1', 'TSPEAR', 'DZIP1L', 'AVIL', 'ATP2B2', 'POFUT1', 'BUB1B', 'GCM2', 'ARID1A', 'KRT12', 'ARNT2', 'IYD', 'CHRNA7', 'COL4A2', 'ABCA4', 'MRPS2', 'ZAP70', 'MTHFD1', 'PERP', 'DNM1', 'ORC4', 'PIGP', 'ASXL1', 'BAZ1B', 'MT-TN', 'CACNA1E', 'SLITRK1', 'GANAB', 'MYL4', 'EIF2AK2', 'SLC34A1', 'BRCA2', 'ZFYVE27', 'SYNE1', 'ROBO1', 'PLD3', 'SOST', 'AGBL5', 'ATP1A3', 'CACNA1B', 'PCK2', 'HIC1', 'ADSL', 'INPP5E', 'NPTX1', 'CAMTA1', 'SLC1A4', 'SRC', 'FOXC1', 'PGM3', 'GRB10', 'MARVELD2', 'NR5A1', 'SCGB3A2', 'ALDH1A2', 'MSX2', 'ZBTB18', 'CEP290', 'PPP1R15B', 'TOE1', 'CA2', 'TGFBR2', 'COX10', 'AK2', 'SLC7A7', 'IFITM5', 'SUOX', 'KCNQ1', 'BPTF', 'MT-TC', 'CRYGC', 'MCIDAS', 'COL6A3', 'KIF1B', 'SMC1A', 'MYH7', 'WNT9B', 'LMAN1', 'SNRPN', 'IRAK1', 'MEF2C', 'MECR', 'ASPM', 'LRRC32', 'SPINK5', 'ACD', 'PRDM16', 'PYGM', 'MLH3', 'ALG8', 'ANKH', 'MYOD1', 'MLX', 'TTC12', 'BLNK', 'ARHGAP24', 'GRXCR2', 'NEXN', 'EMILIN1', 'NSRP1', 'UQCRH', 'KCNQ5', 'UNC119', 'NRTN', 'KIAA1549', 'SHPK', 'UCP3', 'KLHL41', 'ARHGEF10', 'MBD4', 'H3-3A', 'ACTN2', 'TRMT10C', 'CRX', 'AP1S2', 'EPHA10', 'MAN2C1', 'NDUFAF4', 'CCDC8', 'GATA4', 'RDH11', 'PYCR2', 'NDUFS2', 'P2RX2', 'SMARCA2', 'RAP1GDS1', 'RNU4ATAC', 'NDP', 'FAM161A', 'FHOD3', 'DDX6', 'COQ8B', 'MOCS1', 'USP7', 'PIGQ', 'CANT1', 'PMP22', 'CDSN', 'TIMP3', 'AHR', 'NUP205', 'ETS1', 'ORAI1', 'PLEC', 'RAC1', 'FARS2', 'BMP1', 'TNFSF4', 'ZNF513', 'EXOC2', 'CORIN', 'RTEL1', 'DNASE1L3', 'HCN4', 'GRIN2D', 'CD81', 'SDHD', 'RP2', 'KLF11', 'PPP2R2B', 'GOSR2', 'DLX3', 'ALDH2', 'GPR161', 'ETFB', 'CARS1', 'NPPA', 'GBF1', 'SIX5', 'FRA10AC1', 'MDM4', 'SH2B1', 'FKBP14', 'SRGAP1', 'SEMA3C', 'PDSS2', 'RD3', 'LRSAM1', 'LTBP3', 'LTBP1', 'KCNN3', 'MBTPS2', 'ARL6IP6', 'MTRFR', 'TUBA3D', 'EXOSC9', 'TRPS1', 'HK1', 'BMP15', 'HYLS1', 'ATP2A2', 'LMOD2', 'ALG12', 'FTO', 'IMPG2', 'ELMOD3', 'ALPL', 'STAT4', 'SLC9A1', 'SNAI2', 'CIB2', 'TNPO3', 'WAC', 'CCND1', 'RIMS1', 'L2HGDH', 'PIEZO1', 'MYO9A', 'STAG1', 'FIBP', 'RPL26', 'EP300', 'GUCY2C', 'C4A', 'TOR1A', 'NTRK1', 'NOTCH2', 'ITM2B', 'RSPH4A', 'PEX2', 'MT-CO2', 'TRRAP', 'PRSS2', 'TNPO2', 'TTC21B', 'SDCCAG8', 'DVL1', 'TNRC6B', 'SLC25A11', 'PDGFRA', 'LRRC8A', 'WDR19', 'DNAJC5', 'HIRA', 'PEX13', 'COG1', 'C1R', 'SLC2A10', 'XYLT2', 'ACTB', 'SNRPE', 'AMMECR1', 'STX5', 'SERAC1', 'CAMK2G', 'SOHLH1', 'DNMT3A', 'KCNJ16', 'CDK8', 'DCC', 'DCAF17', 'CDK5RAP2', 'DCTN1', 'CHST3', 'RPSA', 'SLC32A1', 'GJB6', 'EDARADD', 'GDAP1', 'CHRNA3', 'CUL3', 'PEPD', 'LHX1', 'NOS1AP', 'VCL', 'TRAPPC10', 'C1S', 'MLXIPL', 'ATXN8', 'KCNQ1OT1', 'FCGR2A', 'MAN1B1', 'ADGRE2', 'CCDC47', 'ZNFX1', 'CDK10', 'EPAS1', 'NMNAT1', 'NBEA', 'BCO1', 'LAMA4', 'DPH1', 'PLAAT3', 'FZD5', 'TBCK', 'B3GALNT2', 'CIC', 'NPRL3', 'SLC5A2', 'EED', 'CEBPA', 'ERI1', 'TBCD', 'NKX2-6', 'EFEMP1', 'KCNK9', 'DYNC2I2', 'COL5A1', 'DAAM2', 'UMPS', 'PSMD12', 'DPYSL5', 'TMEM260', 'SYT2', 'DGCR8', 'KISS1R', 'SFTPA1', 'PKLR', 'GNB4', 'RDH12', 'RNU7-1', 'GRHL2', 'SOX11', 'OPA1', 'CLPX', 'QRSL1', 'ADA2', 'STRADA', 'ELAC2', 'FHL2', 'PRDX1', 'PUM1', 'FLRT3', 'SMAD6', 'PRKDC', 'ANLN', 'AQP5', 'RPL8', 'NIPA2', 'FGFR2', 'LMBRD2', 'CASP2', 'DOCK7', 'CACNA1F', 'STARD7', 'KCNH5', 'SLC26A8', 'TCOF1', 'USH1C', 'HNRNPA1', 'IL17RC', 'KCNE5', 'FBXW4', 'TMEM126A', 'KNG1', 'PMPCB', 'FGF9', 'DUOX2', 'CFAP300', 'GDF2', 'ZBTB16', 'PBX1', 'SOX6', 'HCK', 'OGT', 'CSNK1D', 'FZD2', 'CTNND1', 'NR0B2', 'IRS2', 'GSN', 'PTPN11', 'PRKAR1A', 'HRG', 'ADH1C', 'TRAIP', 'FGF17', 'FANCA', 'CBL', 'ATXN2', 'MICAL1', 'STING1', 'LOX', 'ABCD1', 'TTBK2', 'HNF1A', 'APOA2', 'PLAG1', 'VCAN', 'C2CD3', 'CXCR4', 'COMT', 'NEK8', 'PRPF3', 'COL4A1', 'AMER1', 'RPS20', 'COL12A1', 'PHF6', 'CNGA3', 'PDSS1', 'SLC2A1', 'TBX6', 'MCM6', 'RP1L1', 'MAST1', 'HCN1', 'RNF13', 'ERLIN2', 'GDF11', 'HTRA1', 'PPP1R12A', 'ALPK1', 'SET', 'OAT', 'FOXE3', 'COL1A2', 'NELFA', 'SLC30A2', 'CERT1', 'SNCAIP', 'TBC1D20', 'COL4A5', 'GFER', 'ZC4H2', 'NF1', 'PRX', 'SMC5', 'DCN', 'JAK2', 'MLH1', 'PIDD1', 'RSPRY1', 'TMEM63A', 'WHRN', 'TUBB4B', 'SEMA3E', 'KCNJ18', 'MYH9', 'RAI1']\n"
     ]
    }
   ],
   "source": [
    "# Adding the ACMG 81 genes to the list of genes\n",
    "final_genes = genes_associated_parents + genes\n",
    "final_genes = list(set(final_genes))\n",
    "print(\"Final list of genes after 3 optimizations: embeddings normalisation+parent ids+ACMG 81 genes\")\n",
    "print(\"------------------------------------------------------------------------------------------------------------------------\")\n",
    "print(f\"The total number of genes associated with the extracted HPO IDs, their parent IDs, and the ACMG 81 genes are : {len(final_genes)}\")\n",
    "print(\"------------------------------------------------------------------------------------------------------------------------\")\n",
    "print(final_genes)\n"
   ]
  }
 ],
 "metadata": {
  "kernelspec": {
   "display_name": "base",
   "language": "python",
   "name": "python3"
  },
  "language_info": {
   "codemirror_mode": {
    "name": "ipython",
    "version": 3
   },
   "file_extension": ".py",
   "mimetype": "text/x-python",
   "name": "python",
   "nbconvert_exporter": "python",
   "pygments_lexer": "ipython3",
   "version": "3.11.5"
  }
 },
 "nbformat": 4,
 "nbformat_minor": 2
}
