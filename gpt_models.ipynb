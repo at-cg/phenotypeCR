{
 "cells": [
  {
   "cell_type": "markdown",
   "metadata": {},
   "source": [
    "Import Libraries"
   ]
  },
  {
   "cell_type": "code",
   "execution_count": 1,
   "metadata": {},
   "outputs": [],
   "source": [
    "import numpy as np\n",
    "import json\n",
    "import matplotlib.pyplot as plt\n",
    "import pandas as pd\n",
    "from openai import OpenAI\n",
    "import pandas as pd\n",
    "import re"
   ]
  },
  {
   "cell_type": "code",
   "execution_count": 2,
   "metadata": {},
   "outputs": [],
   "source": [
    "def response_zeroshot(model_id,client, clinical_note):\n",
    "    prompt = f\"\"\"\n",
    "    You are an expert in extracting phenotype terms and their corresponding HPO IDs from clinical notes. Your task is to identify all relevant phenotype terms mentioned in the given clinical note and map them to their correct HPO IDs.\n",
    "\n",
    "    Output the results in this format:\n",
    "    <phenotype term> | <HPO ID>\n",
    "    \n",
    "    Input Clinical Note:\n",
    "    {clinical_note}\n",
    "    \n",
    "    Output:\n",
    "    \"\"\"\n",
    "    \n",
    "    # Send the request to GPT-4\n",
    "    response = client.chat.completions.create(\n",
    "    model=model_id,\n",
    "    messages=[\n",
    "        {\n",
    "            \"role\": \"system\",\n",
    "            \"content\": \"You are an AI assistant specialized in extracting medical phenotypes, syndromes, diseases and mapping them to HPO IDs.\"\n",
    "        },\n",
    "        {\n",
    "            \"role\": \"user\",\n",
    "            \"content\": prompt\n",
    "        }\n",
    "    ]\n",
    ")\n",
    "      # Extract and print the output\n",
    "    output = response.choices[0].message.content\n",
    "    def post_process(output):\n",
    "        # Split the output into lines\n",
    "        lines = output.strip().split(\"\\n\")\n",
    "        \n",
    "        # Extract the HPO terms and IDs\n",
    "        hpo_names,ids=[],[]\n",
    "        for line in lines:\n",
    "            if \"|\" in line:\n",
    "                name, hpo_id = line.split(\"|\")\n",
    "                hpo_names.append(name.strip())\n",
    "                ids.append(hpo_id.strip())\n",
    "        return hpo_names,ids\n",
    "    A,B=post_process(output)\n",
    "    return A,B    # return names and ids\n",
    "\n",
    "def response_finetuning(model_id,client,query):\n",
    "    response = client.chat.completions.create(\n",
    "            model=model_id,  # Replace with your fine-tuned model ID\n",
    "            messages=[\n",
    "                {\n",
    "                    \"role\": \"system\",\n",
    "                    \"content\": \"You are an assistant specialized in extracting phenotype terms and their corresponding HPO IDs from clinical notes.\"\n",
    "                },\n",
    "                {\n",
    "                    \"role\": \"user\",\n",
    "                    \"content\": f\"Extract relevant phenotype terms and their HPO IDs from the following clinical note:\\n{query}\"\n",
    "                }\n",
    "            ]\n",
    "        )\n",
    "    x= response.choices[0].message.content\n",
    "    def parse_gpt_output(text):\n",
    "        text = text.strip()\n",
    "        terms = text.split(\",\")  # Split by commas for predictions\n",
    "        parsed = []\n",
    "        ids=[]\n",
    "        for term in terms:\n",
    "            term = term.strip()\n",
    "            if \"(\" in term and \")\" in term:\n",
    "                # Split only on the first \"(\" to avoid unpacking issues\n",
    "                name,_ = term.split(\"(\", 1)\n",
    "                id_ = term.split(\"(\")[1].split(\")\")[0]\n",
    "                parsed.append(name.strip().lower())\n",
    "                ids.append(id_)\n",
    "        ids=[id.replace('_', ':') for id in ids]\n",
    "        return parsed,ids\n",
    "    A,B=parse_gpt_output(x)\n",
    "    return A,B\n",
    "\n",
    "\n",
    "\n",
    "def cosine_similarity(v1, v2):\n",
    "    return np.dot(v1, v2) / (np.linalg.norm(v1) * np.linalg.norm(v2))\n",
    "\n",
    "def get_top_k_similarities(embeddings, query, k):\n",
    "    similarities = np.array([cosine_similarity(query, embedding) for embedding in embeddings])\n",
    "    top_k_indices = similarities.argsort()[-k:][::-1]\n",
    "    return top_k_indices, similarities[top_k_indices]\n"
   ]
  },
  {
   "cell_type": "code",
   "execution_count": 4,
   "metadata": {},
   "outputs": [
    {
     "name": "stdout",
     "output_type": "stream",
     "text": [
      "hp to genes dictionary created\n",
      "hpo dictionary created\n",
      "embeddings loaded\n",
      "child parent dictionary created\n"
     ]
    }
   ],
   "source": [
    "h2g=pd.read_csv('2024/phenotype_to_genes.txt',sep='\\t')\n",
    "# Select specific columns from the DataFrame\n",
    "h2g = h2g[['hpo_id', 'gene_symbol']]\n",
    "h2g= h2g.drop_duplicates(subset=['hpo_id', 'gene_symbol'])\n",
    "# create a dictionary with hpo_id as key and it was associated with many gene symbols, so append it as list of strings\n",
    "hpo_gene_dict = {}\n",
    "for i in range(len(h2g)):\n",
    "    if h2g['hpo_id'].iloc[i] in hpo_gene_dict:\n",
    "        hpo_gene_dict[h2g['hpo_id'].iloc[i]].append(h2g['gene_symbol'].iloc[i])\n",
    "    else:\n",
    "        hpo_gene_dict[h2g['hpo_id'].iloc[i]] = [h2g['gene_symbol'].iloc[i]]\n",
    "\n",
    "print(\"hp to genes dictionary created\")\n",
    "\n",
    "hpo_dict = {}\n",
    "with open(\"2024/hpo_dict.txt\") as f:\n",
    "    for line in f:\n",
    "        (key, val) = line.split(\":H\")\n",
    "        # remove newline character  \n",
    "        val = val.rstrip()\n",
    "        hpo_dict[key] = \"H\"+val\n",
    "\n",
    "print(\"hpo dictionary created\")\n",
    "\n",
    "# Load the embeddings\n",
    "\n",
    "df=pd.read_csv('2024/HPO_embeddings_40k.csv')\n",
    "db= df.to_numpy()\n",
    "print(\"embeddings loaded\")\n",
    "\n",
    "# child parent dict\n",
    "child_parent_dict = {}\n",
    "with open(\"2024/child_parent_dict_merged.json\") as f:\n",
    "    child_parent_dict = json.load(f)\n",
    "\n",
    "print(\"child parent dictionary created\")\n"
   ]
  },
  {
   "cell_type": "code",
   "execution_count": 9,
   "metadata": {},
   "outputs": [],
   "source": [
    "import numpy as np\n",
    "\n",
    "def process_embeddings(content, db, hpo_dict, client):\n",
    "    \"\"\"\n",
    "    Process content to compute embeddings, find top 1 similar rows in db, and map to HPO terms and IDs.\n",
    "    \n",
    "    Args:\n",
    "    - content: List of lists of text labels.\n",
    "    - db: Database of embeddings for similarity comparison.\n",
    "    - hpo_dict: Dictionary mapping HPO terms to IDs.\n",
    "    - client: API client for generating embeddings.\n",
    "    \n",
    "    Returns:\n",
    "    - Sep: List of lists of unique HPO terms and IDs, grouped by the number of terms in each sublist of content.\n",
    "    \"\"\"\n",
    "    # Step 1: Calculate total number of terms and initialize embedding array\n",
    "    total_terms = sum(len(i) for i in content)\n",
    "    embeddings_20 = np.zeros((total_terms, 1536))\n",
    "\n",
    "    # Step 2: Generate embeddings for each term\n",
    "    z = 0\n",
    "    for i in range(len(content)):\n",
    "        for term in content[i]:\n",
    "            response = client.embeddings.create(\n",
    "                input=term,\n",
    "                model=\"text-embedding-3-small\"\n",
    "            )\n",
    "            embeddings_20[z] = response.data[0].embedding\n",
    "            z += 1\n",
    "            if z % 500 == 0:\n",
    "                print(f\"Processed {z} embeddings\")\n",
    "\n",
    "    # Step 3: Find top 1 similar rows in db\n",
    "    top_1_indices = []\n",
    "    for i in range(total_terms):\n",
    "        top_1_indices.append(get_top_k_similarities(db, embeddings_20[i], 1)[0][0])\n",
    "        if i % 50 == 0:\n",
    "            print(f\"Processed similarity for row {i}\")\n",
    "\n",
    "    # Step 4: Retrieve HPO terms and IDs\n",
    "    hpo_terms = [\n",
    "        f\"{list(hpo_dict.keys())[index]} {list(hpo_dict.values())[index]}\"\n",
    "        for index in top_1_indices\n",
    "    ]\n",
    "\n",
    "    # Step 5: Split HPO terms into sublists based on the number of terms in content\n",
    "    no_ids = [len(i) for i in content]\n",
    "    Sep = []\n",
    "    start = 0\n",
    "    for num_terms in no_ids:\n",
    "        Sep.append(list(set(hpo_terms[start:start + num_terms])))\n",
    "        start += num_terms\n",
    "\n",
    "    return Sep\n",
    "\n",
    "def load_val_data(val_data_path):\n",
    "    # Load validation data\n",
    "    with open(val_data_path, \"r\") as f:\n",
    "        val_data = json.load(f)\n",
    "\n",
    "    val_eval_data = []  \n",
    "    for i in val_data:\n",
    "        val_eval_data.append(i[\"output\"])\n",
    "    return val_data,val_eval_data\n",
    "\n",
    "\n"
   ]
  },
  {
   "cell_type": "markdown",
   "metadata": {},
   "source": [
    "### Choose the model:\n",
    "\n",
    "#### ---------------------------------------Finetuned models---------------------------------------\n",
    "1) GPT4o-mini-2024-07-18 : ft:gpt-4o-mini-2024-07-18:iisc-bangalore::AYf5TC9S\n",
    "2) GPT4o-2024-08-06      : ft:gpt-4o-2024-08-06:iisc-bangalore::AZ03ME6y\n",
    "\n",
    "#### ------------------------------------Base models for zeroshot----------------------------------\n",
    "\n",
    "3) GPT4o-mini-2024-07-18 : gpt-4o-mini-2024-07-18\n",
    "4) GPT4o-2024-08-06      : gpt-4o-2024-08-06\n"
   ]
  },
  {
   "cell_type": "code",
   "execution_count": 6,
   "metadata": {},
   "outputs": [],
   "source": [
    "# openai api key\n",
    "client = OpenAI(api_key=\"XXXXXXXXXXXXXXXXXXXXXXXXXXXXXXXXXXXXXXX\")"
   ]
  },
  {
   "cell_type": "code",
   "execution_count": 45,
   "metadata": {},
   "outputs": [
    {
     "name": "stdout",
     "output_type": "stream",
     "text": [
      "Data loaded\n",
      "=====================================\n",
      "[{'input': 'Nevoid basal cell carcinoma syndrome (NBCCS) is rare in black persons. We describe an 11-year-old black boy with NBCCS who presented with exotropia and a painful, expanding, cystic mass in the left posterior alveolar ridge. Further examination revealed odontogenic keratocysts with palmar and plantar pitting. Less than 5% of reported patients with NBCCS are black. To our knowledge, this is the first report of a black patient with NBCCS presenting with exotropia and an impacted molar displaced into the orbit by an odontogenic keratocyst.', 'output': ' basal cell carcinoma | HP_0002671\\n exotropia | HP_0000577\\n cystic mass in the left posterior alveolar ridge | HP_0006477\\n odontogenic keratocysts | HP_0010603\\n palmar and plantar pitting | HP_0010612\\n END'}]\n"
     ]
    }
   ],
   "source": [
    "# Load the data\n",
    "sample_data=\"/test/sample.json\"\n",
    "val_data,_ =load_val_data(sample_data)\n",
    "print(\"Data loaded\")\n",
    "print(\"=====================================\")\n",
    "print(val_data)\n"
   ]
  },
  {
   "cell_type": "code",
   "execution_count": 46,
   "metadata": {},
   "outputs": [
    {
     "name": "stdout",
     "output_type": "stream",
     "text": [
      "phenotypes extracted from clinical text\n",
      "[['basal cell carcinoma', 'exotropia', 'cystic mass in the left posterior alveolar ridge', 'odontogenic keratocysts', 'palmar and plantar pitting']]\n",
      "The corresponding HPO IDs are:\n",
      "[['HP:0002671', 'HP:0000577', 'HP:0006477', 'HP:0010603', 'HP:0010612']]\n"
     ]
    }
   ],
   "source": [
    "spans,HP_ids=[],[]\n",
    "\n",
    "for i in val_data:\n",
    "    span,ids=response_finetuning(\"ft:gpt-4o-mini-2024-07-18:iisc-bangalore::AYf5TC9S\",client,i[\"input\"])\n",
    "    # span,ids =response_zeroshot(\"gpt-4o-mini-2024-07-18\",client,sample_data)\n",
    "    spans.append(span)\n",
    "    HP_ids.append(ids)\n",
    "print(\"phenotypes extracted from clinical text\")\n",
    "print(spans)\n",
    "print(\"The corresponding HPO IDs are:\")\n",
    "print(HP_ids)"
   ]
  },
  {
   "cell_type": "markdown",
   "metadata": {},
   "source": [
    "Normalization using embeddings"
   ]
  },
  {
   "cell_type": "code",
   "execution_count": 19,
   "metadata": {},
   "outputs": [
    {
     "name": "stdout",
     "output_type": "stream",
     "text": [
      "Processed similarity for row 0\n"
     ]
    },
    {
     "data": {
      "text/plain": [
       "[['odontogenic keratocysts of the jaw HP:0010603',\n",
       "  'exotropia HP:0000577',\n",
       "  'alveolar ridge overgrowth HP:0009085',\n",
       "  'palmar pits HP:0010610',\n",
       "  'basal cell carcinoma HP:0002671']]"
      ]
     },
     "execution_count": 19,
     "metadata": {},
     "output_type": "execute_result"
    }
   ],
   "source": [
    "embed_spans=process_embeddings(spans, db, hpo_dict, client)               # pass lists of list of spans for multiple clinical notes\n",
    "embed_spans"
   ]
  },
  {
   "cell_type": "code",
   "execution_count": 20,
   "metadata": {},
   "outputs": [
    {
     "name": "stdout",
     "output_type": "stream",
     "text": [
      "['HP:0010603', 'HP:0000577', 'HP:0009085', 'HP:0010610', 'HP:0002671']\n"
     ]
    }
   ],
   "source": [
    "# extract HP ids after embeddings normalisation\n",
    "HP_ids_embed=re.findall(r'HP:\\d+',str(embed_spans[0]) )\n",
    "print(HP_ids_embed)"
   ]
  },
  {
   "cell_type": "markdown",
   "metadata": {},
   "source": [
    "ACMG 81 GENES"
   ]
  },
  {
   "cell_type": "code",
   "execution_count": 21,
   "metadata": {},
   "outputs": [],
   "source": [
    "genes = [\n",
    "    \"APC\", \"RET\", \"BRCA1\", \"BRCA2\", \"PALB2\", \"SDHD\", \"SDHAF2\", \"SDHC\", \"SDHB\", \n",
    "    \"MAX\", \"TMEM127\", \"BMPR1A\", \"SMAD4\", \"TP53\", \"MLH1\", \"MSH2\", \"MSH6\", \"PMS2\", \n",
    "    \"MEN1\", \"MUTYH\", \"NF2\", \"FBN1\", \"TGFBR1\", \"TGFBR2\", \"SMAD3\", \"ACTA2\", \"MYH11\", \n",
    "    \"PKP2\", \"DSP\", \"DSC2\", \"TMEM43\", \"DSG2\", \"RYR2\", \"CASQ2\", \"TRDN\", \"BAG3\", \n",
    "    \"DES\", \"RBM20\", \"TNNC1\", \"TNNT2\", \"LMNA\", \"FLNC\", \"TTN\", \"CALM1\", \"CALM2\", \n",
    "    \"CALM3\", \"COL3A1\", \"LDLR\", \"APOB\", \"PCSK9\", \"MYH7\", \"MYBPC3\", \"TNNI3\", \n",
    "    \"TPM1\", \"MYL3\", \"ACTC1\", \"PRKAG2\", \"MYL2\", \"KCNQ1\", \"KCNH2\", \"SCN5A\", \"BTD\", \n",
    "    \"GLA\", \"OTC\", \"GAA\", \"STK11\", \"HFE\", \"ACVRL1\", \"ENG\", \"RYR1\", \"CACNA1S\", \n",
    "    \"HNF1A\", \"RPE65\", \"ATP7B\", \"TTR\", \"PTEN\", \"RB1\", \"TSC1\", \"TSC2\", \"VHL\", \"WT1\"\n",
    "]\n"
   ]
  },
  {
   "cell_type": "markdown",
   "metadata": {},
   "source": [
    "### Genes extracted after embedding normalisation"
   ]
  },
  {
   "cell_type": "code",
   "execution_count": 22,
   "metadata": {},
   "outputs": [
    {
     "name": "stdout",
     "output_type": "stream",
     "text": [
      "Genes extracted after embedding normalisation\n",
      "-------------------------------------------------------------------------------------------\n",
      "The total number of genes associated with the extracted HPO IDs are : 181\n",
      "-------------------------------------------------------------------------------------------\n",
      "['PCDHGC4', 'CACNA1A', 'WNT10A', 'BCOR', 'RMRP', 'CRB1', 'FBN1', 'P4HTM', 'ERCC3', 'SPATA7', 'ANKH', 'PTCH2', 'UBAP2L', 'XPC', 'TMC6', 'APC', 'POGZ', 'SIAH1', 'LYRM7', 'POLD1', 'KEAP1', 'ALDH3A2', 'RNF2', 'ADGRG1', 'SOX5', 'PHOX2A', 'ATP1A2', 'KRAS', 'PTCH1', 'ERCC5', 'OFD1', 'POLRMT', 'SLC6A8', 'RBM10', 'PTRH2', 'MYF5', 'ADD3', 'FOXE1', 'CIB1', 'RP1L1', 'WDR4', 'SLC35A2', 'HRAS', 'TYMS', 'CD96', 'MLH1', 'FAS', 'THOC2', 'FTO', 'EXOC8', 'NTRK1', 'SC5D', 'SNRPN', 'GALNT2', 'GNB1', 'PGM2L1', 'FGFR2', 'SLC32A1', 'PMS2', 'ATRX', 'BCORL1', 'PRPS1', 'PMS1', 'SMO', 'ATP2A2', 'CBS', 'AAGAB', 'PAX6', 'RERE', 'MSH2', 'ATP1A3', 'DYRK1A', 'ADNP', 'RPL10', 'POGLUT1', 'CHEK2', 'SLC25A46', 'EPCAM', 'FGFR3', 'TUBB3', 'MRPS34', 'TUBB2B', 'BRCA2', 'ATM', 'COL17A1', 'TBX1', 'COL4A1', 'DICER1', 'PSENEN', 'BMPR1A', 'NTHL1', 'TAF2', 'WDR11', 'CASP10', 'DDB2', 'MUTYH', 'MMP1', 'FASLG', 'POLE', 'BLOC1S3', 'U2AF2', 'CRIPT', 'ZC4H2', 'RASA1', 'SUFU', 'CDKL5', 'NMNAT1', 'SLC1A3', 'TBX15', 'LCA5', 'SLC17A5', 'TYR', 'TGFBR2', 'EIF4A2', 'NGLY1', 'CRELD1', 'SON', 'SALL2', 'SH3BP2', 'DPAGT1', 'FBXW11', 'SEMA4A', 'TRPM3', 'RPS20', 'RECQL4', 'PIK3CA', 'WT1', 'UFSP2', 'TMEM67', 'ADARB1', 'DNMBP', 'MSH6', 'KIF21A', 'CYLD', 'COL25A1', 'PYCR2', 'DPH5', 'PYROXD1', 'OCA2', 'TGFBR1', 'SMAD3', 'POFUT1', 'NR2F1', 'WDR45', 'LRAT', 'GNB2', 'FGF10', 'ANAPC1', 'WARS2', 'MC1R', 'LMNA', 'PIGA', 'CACNA1F', 'DHCR24', 'KDM1A', 'SCO2', 'AIMP1', 'POLH', 'ERCC4', 'RPS19', 'NRAS', 'H4C5', 'ARPC4', 'BRF1', 'ERCC2', 'PUF60', 'ACADSB', 'UBE3A', 'CDC42', 'COL7A1', 'KDM6B', 'COL14A1', 'KRT5', 'LRMDA', 'MADD', 'TUBA1A', 'NONO', 'HADHA', 'RPE65', 'EFNB1', 'HNRNPH2']\n"
     ]
    }
   ],
   "source": [
    "# get the gene symbols associated with the extracted HP ids\n",
    "genes_associated = []\n",
    "for hp_id in HP_ids_embed:\n",
    "    if hp_id in hpo_gene_dict:\n",
    "        genes_associated.extend(hpo_gene_dict[hp_id])\n",
    "genes_associated = list(set(genes_associated))\n",
    "print(\"Genes extracted after embedding normalisation\")\n",
    "print(\"-------------------------------------------------------------------------------------------\")\n",
    "print(f\"The total number of genes associated with the extracted HPO IDs are : {len(genes_associated)}\")\n",
    "print(\"-------------------------------------------------------------------------------------------\")\n",
    "print(genes_associated)"
   ]
  },
  {
   "cell_type": "markdown",
   "metadata": {},
   "source": [
    "### Genes extacted after embedding normalisation + additional of parent ids"
   ]
  },
  {
   "cell_type": "code",
   "execution_count": 23,
   "metadata": {},
   "outputs": [
    {
     "name": "stdout",
     "output_type": "stream",
     "text": [
      "HP ids after addition of parent ids: ['HP:0010603', 'HP:0100612', 'HP:0000577', 'HP:0020049', 'HP:0009085', 'HP:0006477', 'HP:0010610', 'HP:0040211', 'HP:0002671', 'HP:0008069']\n"
     ]
    }
   ],
   "source": [
    "# Adding parent IDs to the extracted HPO IDs\n",
    "HP_ids_embed_parents = []\n",
    "for hp_id in HP_ids_embed:\n",
    "    HP_ids_embed_parents.append(hp_id)\n",
    "    if hp_id in child_parent_dict:\n",
    "        HP_ids_embed_parents.append(child_parent_dict[hp_id])\n",
    "print(f\"HP ids after addition of parent ids: {HP_ids_embed_parents}\")"
   ]
  },
  {
   "cell_type": "code",
   "execution_count": 24,
   "metadata": {},
   "outputs": [
    {
     "name": "stdout",
     "output_type": "stream",
     "text": [
      "Genes extracted after adding parent IDs\n",
      "-------------------------------------------------------------------------------------------------------------\n",
      "The total number of genes associated with the extracted HPO IDs and their parent IDs are : 690\n",
      "-------------------------------------------------------------------------------------------------------------\n",
      "['MYOD1', 'SLC25A12', 'KRT17', 'WNT10A', 'BCOR', 'PEX10', 'ITGB4', 'CSTA', 'SMARCAD1', 'SMC5', 'PEX19', 'XPC', 'PTCH2', 'UBAP2L', 'FLG', 'APC', 'IL6', 'POGZ', 'EZH2', 'LYRM7', 'GJB4', 'RAF1', 'SMARCE1', 'SEC23B', 'PEPD', 'ADGRG1', 'SLC39A13', 'DPYD', 'RAB11B', 'MCTP2', 'TRAF7', 'CAST', 'NUP107', 'NIPBL', 'GJB2', 'OFD1', 'FCN3', 'SLC6A8', 'NF2', 'MSH3', 'RBM10', 'MYF5', 'SMPD4', 'BAP1', 'ADD3', 'FOXE1', 'CIB1', 'AQP5', 'KRT6C', 'MT-TS1', 'CD96', 'FAS', 'NLRP1', 'RIPK4', 'TPM2', 'KRT16', 'PGM2L1', 'WDR37', 'CST6', 'SULT2B1', 'CEP57', 'PRPS1', 'PMS1', 'WAC', 'SLC45A2', 'CBS', 'AAGAB', 'RHOH', 'PARN', 'RERE', 'LSS', 'RTL1', 'MBTPS2', 'MUSK', 'MTOR', 'UBE3B', 'RPL10', 'PIK3R1', 'PIEZO1', 'RPS6KA3', 'KAT6B', 'FGFR3', 'TUBB3', 'CSNK2A1', 'IL7', 'CXCR4', 'BRCA2', 'TERT', 'KRT9', 'TBX1', 'PSENEN', 'SASH1', 'MEGF8', 'MCOLN1', 'NAA20', 'CASP10', 'HPGD', 'ZNF469', 'NOG', 'TMEM216', 'FASLG', 'POLE', 'MTFMT', 'CTBP1', 'BMPR1B', 'SDHD', 'SNAI2', 'MED12', 'LMX1B', 'RNH1', 'KANK2', 'TP53', 'TMC8', 'ZC4H2', 'VPS33A', 'RAD21', 'SLC1A3', 'BLM', 'DSC2', 'KIAA0753', 'AFF4', 'LBR', 'HDAC4', 'ABCA12', 'ATR', 'PIK3CA', 'RPS20', 'WT1', 'GATA1', 'SLX4', 'KIF21A', 'GTF2H5', 'GTF2E2', 'CTSB', 'SPRED2', 'VPS13B', 'G6PC3', 'DPH5', 'DST', 'STAT1', 'FGF9', 'LRAT', 'TGM5', 'ING1', 'MEN1', 'PEX16', 'CTNNB1', 'KDM1A', 'SCO2', 'PEX11B', 'DOK7', 'POLH', 'SLC17A9', 'ROR2', 'FGF3', 'EIF4A3', 'PERP', 'TWIST1', 'SDHC', 'GPR35', 'PIEZO2', 'ZNF462', 'COL7A1', 'DSG1', 'FLNA', 'TSEN34', 'KRT5', 'SLC25A24', 'COQ6', 'AARS1', 'NONO', 'ASXL1', 'LAMA3', 'CYP4F22', 'CERS3', 'CCBE1', 'LRMDA', 'PDGFRB', 'STAT4', 'GNAS', 'FIG4', 'DCLRE1C', 'RMRP', 'CTSC', 'ECM1', 'HMX1', 'PLEC', 'GLYCTK', 'ANKH', 'DPH1', 'MVD', 'STAG1', 'NECTIN4', 'IKBKG', 'SLC39A7', 'TSEN2', 'WRAP53', 'SOX5', 'TELO2', 'ADAMTSL1', 'CDKN1B', 'GNS', 'GRIN1', 'SMARCA2', 'KRAS', 'PTRH2', 'DOCK6', 'RAPSN', 'MRAS', 'SASH3', 'TNNI2', 'SEC61A1', 'TYMS', 'CEP55', 'CCNQ', 'MLH1', 'THOC2', 'TARS1', 'NTRK1', 'PPP3CA', 'EBF3', 'KDF1', 'FGFR2', 'UROS', 'SLC32A1', 'FOXP1', 'PMS2', 'RNU4ATAC', 'BCORL1', 'GJA5', 'USF3', 'ATP2A2', 'CKAP2L', 'KLLN', 'PAX6', 'KRT2', 'LRP1', 'GJB3', 'DYRK1A', 'ZNF292', 'KRT83', 'CDKN2A', 'GJA8', 'COG1', 'UBR1', 'CPLANE1', 'NAA10', 'CHEK2', 'GATA2', 'TRPS1', 'NSDHL', 'PRKAR1A', 'MEF2C', 'STS', 'PORCN', 'SEPSECS', 'COL4A1', 'DICER1', 'BMPR1A', 'NTHL1', 'ITPR1', 'WDR11', 'MITF', 'MAP2K2', 'SLC18A3', 'TAF6', 'MUTYH', 'CD79B', 'TOM1', 'SPRTN', 'IFT43', 'FGD1', 'SMC1A', 'DPH2', 'NEXMIF', 'ALK', 'DLX4', 'CRIPT', 'VPS51', 'JUP', 'KRT85', 'FERMT1', 'AAAS', 'IGF1', 'TP63', 'TBX15', 'B4GALT7', 'AIP', 'FH', 'SLC17A5', 'TSEN54', 'TGFBR2', 'NGLY1', 'NUP88', 'NHP2', 'WRN', 'NEDD4L', 'SERPINB7', 'DDX11', 'FBXW11', 'TGM1', 'AUTS2', 'CDH11', 'FBXO11', 'LTBP4', 'IGHM', 'ADARB1', 'DNMBP', 'MSH6', 'TMEM231', 'MAD1L1', 'KCNK9', 'ATP6V0A2', 'CSGALNACT1', 'PYROXD1', 'TGFBR1', 'TOPORS', 'PDHA1', 'PNPLA6', 'B3GLCT', 'TERC', 'CFTR', 'NPM1', 'GJA1', 'TAF4', 'FGF10', 'PEX12', 'POMP', 'TCF4', 'ALDH6A1', 'CHST14', 'TRPV3', 'NRAS', 'ARPC4', 'ARID1B', 'TRIO', 'BRF1', 'SPECC1L', 'ACADSB', 'CPLX1', 'KDM6B', 'GNA14', 'KDM4B', 'RTEL1', 'NBAS', 'GPR101', 'LYST', 'MADD', 'SMAD2', 'STK4', 'FTO', 'XPA', 'TUFT1', 'CACNA1A', 'FAM149B1', 'ARL3', 'P4HTM', 'ASXL3', 'SPATA7', 'BRD4', 'TMC6', 'KRT6A', 'PEX26', 'STXBP1', 'PEX1', 'SMARCB1', 'COL1A1', 'POLD1', 'KRT10', 'H4C9', 'RNF2', 'LIFR', 'GRIA1', 'PTEN', 'CILK1', 'ATP1A2', 'KRT6B', 'PTCH1', 'ERCC5', 'AP1B1', 'PEX2', 'AFG2A', 'NSD2', 'ALX3', 'FLT4', 'RP1L1', 'PLOD1', 'HRAS', 'OCRL', 'PRDM10', 'C1S', 'IGLL1', 'NXN', 'ATP6V1B2', 'GALNT2', 'GNB1', 'TRIM37', 'CHST3', 'SOX18', 'ATP13A2', 'TBL1XR1', 'KLHL24', 'CREBBP', 'PPP1R13L', 'SMO', 'TOE1', 'MSH2', 'SMC3', 'CD28', 'IFNG', 'PLCD1', 'TRAPPC11', 'TRPM4', 'KRT14', 'RNF113A', 'AFF3', 'PLAA', 'SLC25A46', 'TMEM147', 'PDE6D', 'EPCAM', 'AP3D1', 'PTPRF', 'NIPAL4', 'KRT74', 'YY1', 'COL17A1', 'FGFRL1', 'ITCH', 'SPI1', 'ZEB2', 'TAF2', 'DDB2', 'MAP3K7', 'TPP2', 'IFT57', 'MAP2K1', 'PIGL', 'IRF6', 'CD79A', 'BLOC1S3', 'KDSR', 'PPP2CA', 'BLNK', 'MYH3', 'BMP4', 'HCCS', 'SDHB', 'LZTR1', 'CDKL5', 'PEX14', 'KATNB1', 'PKDCC', 'GNPTAB', 'ELANE', 'SH3BP2', 'DPAGT1', 'SEMA4A', 'TRPM3', 'SET', 'TMEM67', 'IFT27', 'ZMYM2', 'TNFRSF1B', 'VAC14', 'PLOD3', 'KCNN3', 'EXTL3', 'RSPO1', 'SETBP1', 'OCA2', 'POFUT1', 'XYLT1', 'MRPS2', 'KIT', 'TBC1D24', 'WDR45', 'PPP2R3C', 'DHCR7', 'GDF5', 'EP300', 'NDUFB11', 'VPS33B', 'RHBDF2', 'DOCK8', 'MC1R', 'TRIM8', 'ENPP1', 'CTC1', 'DKC1', 'COX7B', 'PKP1', 'CACNA1F', 'TSC2', 'TCTN3', 'DLK1', 'RPS23', 'HSPG2', 'MVK', 'DEPDC5', 'ERCC2', 'PUF60', 'GJB6', 'UBE3A', 'CDC42', 'COL14A1', 'CARS1', 'LAMC2', 'ESCO2', 'RIT1', 'KLK11', 'HADHA', 'RPE65', 'NECTIN1', 'PEX5', 'CTCF', 'CDK10', 'FGFR1', 'PCDHGC4', 'IVNS1ABP', 'CRB1', 'FBN1', 'CDK4', 'LORICRIN', 'POLR1A', 'ERCC3', 'GMPPA', 'FBXO28', 'TNFRSF4', 'SIAH1', 'ASXL2', 'KEAP1', 'ALDH3A2', 'BHLHA9', 'PDGFB', 'RNF31', 'CD4', 'PEX3', 'PHOX2A', 'HDAC8', 'TSC1', 'TNFRSF10B', 'BICD2', 'EXT1', 'NOTCH3', 'POLRMT', 'SERPINA12', 'OTUD5', 'TASP1', 'KCNH1', 'UFC1', 'WDR4', 'SLC35A2', 'CTLA4', 'SMOC1', 'LRRC8A', 'EXOC8', 'SC5D', 'SNRPN', 'ACVRL1', 'SPTBN1', 'EHMT1', 'SDR9C7', 'COG6', 'PACS1', 'KRT1', 'TSEN15', 'ATRX', 'RIN2', 'USB1', 'CDC42BPB', 'DHX30', 'ATP1A3', 'KMT2D', 'KIF7', 'FLCN', 'MTRFR', 'ADNP', 'SLURP1', 'POGLUT1', 'NUTM1', 'PNPLA1', 'BRAF', 'ANGPT2', 'SH3PXD2B', 'MRPS34', 'MST1', 'TUBB2B', 'ATM', 'SPRED1', 'JARID2', 'GPR143', 'CLCN7', 'TGDS', 'TCF12', 'CARMIL2', 'ARX', 'STK11', 'CDK19', 'MMP1', 'MED25', 'LONP1', 'MSL3', 'SRD5A3', 'C1R', 'U2AF2', 'TNNT3', 'CHD7', 'NALCN', 'IFT122', 'RASA1', 'SUFU', 'CARD14', 'LAMB3', 'MEG3', 'NMNAT1', 'TFAP2A', 'TBX4', 'EVC', 'LCA5', 'H3-3A', 'TYR', 'HPDL', 'GRHL2', 'EIF4A2', 'CRELD1', 'SON', 'TBX5', 'DSP', 'TAT', 'NAF1', 'SALL2', 'LETM1', 'LTBP1', 'TCF3', 'RECQL4', 'DSE', 'TINF2', 'UFSP2', 'SHOC2', 'PEX13', 'SEMA4D', 'ALOX12B', 'CYLD', 'COX14', 'GJC2', 'COL25A1', 'ANKRD11', 'ATP6V1A', 'ADAMTS15', 'PYCR2', 'NF1', 'DIS3L2', 'SMS', 'SMAD3', 'HACE1', 'PDE11A', 'NR2F1', 'PIGS', 'SLCO2A1', 'AKT1', 'GNB2', 'FDPS', 'GLE1', 'CDSN', 'NUP188', 'ALOXE3', 'MAP1B', 'ANAPC1', 'WARS2', 'LMNA', 'STIM1', 'PIGA', 'DHCR24', 'ERCC4', 'AIMP1', 'EVC2', 'RPS19', 'H4C5', 'MTX2', 'SNAP29', 'HNRNPK', 'MPLKIP', 'KDM6A', 'TUBA1A', 'UBR7', 'EFNB1', 'HNRNPH2', 'NOP10', 'PEX6']\n"
     ]
    }
   ],
   "source": [
    "# get the gene symbols associated with the added parent HP ids\n",
    "genes_associated_parents = []\n",
    "for hp_id in HP_ids_embed_parents:\n",
    "    if hp_id in hpo_gene_dict:\n",
    "        genes_associated_parents.extend(hpo_gene_dict[hp_id])\n",
    "genes_associated_parents = list(set(genes_associated_parents))\n",
    "print(\"Genes extracted after adding parent IDs\")\n",
    "print(\"-------------------------------------------------------------------------------------------------------------\")\n",
    "print(f\"The total number of genes associated with the extracted HPO IDs and their parent IDs are : {len(genes_associated_parents)}\")\n",
    "print(\"-------------------------------------------------------------------------------------------------------------\")\n",
    "print(genes_associated_parents)"
   ]
  },
  {
   "cell_type": "markdown",
   "metadata": {},
   "source": [
    "### Genes extacted after embedding normalisation + additional of parent ids + ACMG 81 genes addition"
   ]
  },
  {
   "cell_type": "code",
   "execution_count": 25,
   "metadata": {},
   "outputs": [
    {
     "name": "stdout",
     "output_type": "stream",
     "text": [
      "Final list of genes after 3 optimizations: embeddings normalisation+parent ids+ACMG 81 genes\n",
      "------------------------------------------------------------------------------------------------------------------------\n",
      "The total number of genes associated with the extracted HPO IDs, their parent IDs, and the ACMG 81 genes are : 743\n",
      "------------------------------------------------------------------------------------------------------------------------\n",
      "['MYOD1', 'SLC25A12', 'KRT17', 'WNT10A', 'BCOR', 'PEX10', 'ITGB4', 'RB1', 'CSTA', 'SMARCAD1', 'SMC5', 'PEX19', 'XPC', 'UBAP2L', 'PTCH2', 'FLG', 'APC', 'IL6', 'POGZ', 'EZH2', 'LYRM7', 'TPM1', 'GJB4', 'RAF1', 'SMARCE1', 'SEC23B', 'PEPD', 'ADGRG1', 'SLC39A13', 'DPYD', 'RAB11B', 'MCTP2', 'TRAF7', 'CAST', 'NUP107', 'NIPBL', 'GJB2', 'OFD1', 'FCN3', 'SLC6A8', 'MSH3', 'RBM10', 'MYF5', 'SMPD4', 'BAP1', 'ADD3', 'FOXE1', 'CIB1', 'AQP5', 'KCNQ1', 'KRT6C', 'MT-TS1', 'CD96', 'FAS', 'NLRP1', 'RIPK4', 'TPM2', 'KRT16', 'PGM2L1', 'WDR37', 'CST6', 'SULT2B1', 'CEP57', 'PRPS1', 'PMS1', 'WAC', 'SLC45A2', 'CBS', 'TNNT2', 'AAGAB', 'RHOH', 'PARN', 'RERE', 'LSS', 'RTL1', 'MBTPS2', 'MUSK', 'MTOR', 'UBE3B', 'RPL10', 'PIK3R1', 'PIEZO1', 'RPS6KA3', 'KAT6B', 'FGFR3', 'TUBB3', 'CSNK2A1', 'IL7', 'CXCR4', 'GAA', 'BRCA2', 'TERT', 'KRT9', 'TBX1', 'PSENEN', 'SASH1', 'MEGF8', 'MCOLN1', 'NAA20', 'PRKAG2', 'CASP10', 'HPGD', 'ZNF469', 'NOG', 'TMEM216', 'FASLG', 'POLE', 'MTFMT', 'CTBP1', 'BMPR1B', 'SDHD', 'SNAI2', 'MED12', 'LMX1B', 'RNH1', 'KANK2', 'TP53', 'TMC8', 'ZC4H2', 'VPS33A', 'RAD21', 'SLC1A3', 'BLM', 'DSC2', 'KIAA0753', 'AFF4', 'LBR', 'HDAC4', 'PALB2', 'ABCA12', 'ATR', 'PIK3CA', 'RPS20', 'FLNC', 'WT1', 'GATA1', 'SLX4', 'KIF21A', 'GTF2H5', 'GTF2E2', 'CTSB', 'SPRED2', 'VPS13B', 'G6PC3', 'DPH5', 'DST', 'STAT1', 'HFE', 'FGF9', 'LRAT', 'TGM5', 'BTD', 'ING1', 'OTC', 'MEN1', 'PEX16', 'CTNNB1', 'KDM1A', 'SCO2', 'PEX11B', 'DOK7', 'POLH', 'SLC17A9', 'ROR2', 'FGF3', 'EIF4A3', 'PERP', 'TWIST1', 'SDHC', 'GPR35', 'PIEZO2', 'ZNF462', 'COL7A1', 'DSG1', 'FLNA', 'TSEN34', 'KRT5', 'SLC25A24', 'COQ6', 'AARS1', 'NONO', 'ASXL1', 'LAMA3', 'CYP4F22', 'CERS3', 'CCBE1', 'LRMDA', 'PDGFRB', 'STAT4', 'GNAS', 'FIG4', 'DCLRE1C', 'RMRP', 'CTSC', 'ECM1', 'HMX1', 'PLEC', 'GLYCTK', 'ANKH', 'DPH1', 'MVD', 'STAG1', 'NECTIN4', 'TMEM43', 'IKBKG', 'SLC39A7', 'TSEN2', 'WRAP53', 'SOX5', 'TELO2', 'ADAMTSL1', 'CALM3', 'CDKN1B', 'GNS', 'GRIN1', 'SMARCA2', 'KRAS', 'PTRH2', 'DOCK6', 'RAPSN', 'MRAS', 'SASH3', 'TNNI2', 'SEC61A1', 'TYMS', 'CEP55', 'CCNQ', 'MLH1', 'THOC2', 'RYR2', 'TARS1', 'NTRK1', 'MYH11', 'PPP3CA', 'EBF3', 'KDF1', 'FGFR2', 'UROS', 'SLC32A1', 'FOXP1', 'PMS2', 'RNU4ATAC', 'BCORL1', 'GJA5', 'USF3', 'MYL2', 'ATP2A2', 'CKAP2L', 'KLLN', 'PAX6', 'KRT2', 'LRP1', 'TTR', 'GJB3', 'DYRK1A', 'ZNF292', 'KRT83', 'CDKN2A', 'GJA8', 'COG1', 'SDHAF2', 'UBR1', 'CPLANE1', 'NAA10', 'CHEK2', 'GATA2', 'TRPS1', 'NSDHL', 'PRKAR1A', 'MEF2C', 'STS', 'PORCN', 'SEPSECS', 'COL4A1', 'DICER1', 'BMPR1A', 'NTHL1', 'ITPR1', 'WDR11', 'MITF', 'MAP2K2', 'SLC18A3', 'TAF6', 'MUTYH', 'CD79B', 'TOM1', 'SPRTN', 'IFT43', 'FGD1', 'SMC1A', 'GLA', 'DPH2', 'NEXMIF', 'ALK', 'DLX4', 'CRIPT', 'VPS51', 'JUP', 'KRT85', 'FERMT1', 'SCN5A', 'AAAS', 'IGF1', 'TP63', 'TBX15', 'ENG', 'B4GALT7', 'TRDN', 'AIP', 'FH', 'SLC17A5', 'TSEN54', 'TGFBR2', 'NGLY1', 'NUP88', 'NHP2', 'WRN', 'NEDD4L', 'SERPINB7', 'DDX11', 'FBXW11', 'TGM1', 'AUTS2', 'PCSK9', 'CDH11', 'FBXO11', 'LTBP4', 'IGHM', 'ADARB1', 'DNMBP', 'MSH6', 'TMEM231', 'CALM1', 'MAD1L1', 'KCNK9', 'ATP6V0A2', 'CSGALNACT1', 'PYROXD1', 'TGFBR1', 'TOPORS', 'PDHA1', 'PNPLA6', 'B3GLCT', 'TERC', 'CFTR', 'NPM1', 'GJA1', 'TAF4', 'FGF10', 'PEX12', 'POMP', 'TCF4', 'ALDH6A1', 'CHST14', 'TRPV3', 'NRAS', 'ARPC4', 'ARID1B', 'TRIO', 'BRF1', 'COL3A1', 'SPECC1L', 'ACADSB', 'CPLX1', 'KDM6B', 'GNA14', 'KDM4B', 'RTEL1', 'NBAS', 'GPR101', 'LYST', 'MADD', 'SMAD2', 'STK4', 'FTO', 'XPA', 'TUFT1', 'CACNA1A', 'FAM149B1', 'ARL3', 'TTN', 'P4HTM', 'ASXL3', 'SPATA7', 'BRD4', 'TNNI3', 'TMC6', 'KRT6A', 'PEX26', 'STXBP1', 'PEX1', 'SMARCB1', 'COL1A1', 'BAG3', 'POLD1', 'KRT10', 'H4C9', 'RNF2', 'LIFR', 'GRIA1', 'PTEN', 'CILK1', 'ATP1A2', 'KRT6B', 'PTCH1', 'ERCC5', 'AP1B1', 'PEX2', 'AFG2A', 'NSD2', 'ALX3', 'FLT4', 'RBM20', 'RP1L1', 'PLOD1', 'MAX', 'HRAS', 'OCRL', 'PRDM10', 'ATP7B', 'C1S', 'IGLL1', 'NXN', 'ATP6V1B2', 'GALNT2', 'GNB1', 'TRIM37', 'CHST3', 'SOX18', 'KCNH2', 'ATP13A2', 'TBL1XR1', 'KLHL24', 'CREBBP', 'PPP1R13L', 'SMO', 'TOE1', 'MSH2', 'SMC3', 'CD28', 'IFNG', 'PLCD1', 'TRAPPC11', 'TRPM4', 'KRT14', 'RNF113A', 'AFF3', 'PLAA', 'SLC25A46', 'TMEM147', 'PDE6D', 'EPCAM', 'AP3D1', 'PTPRF', 'NIPAL4', 'KRT74', 'YY1', 'COL17A1', 'FGFRL1', 'ITCH', 'SPI1', 'ZEB2', 'TAF2', 'DDB2', 'MAP3K7', 'TPP2', 'IFT57', 'MAP2K1', 'PIGL', 'IRF6', 'CD79A', 'BLOC1S3', 'KDSR', 'PPP2CA', 'BLNK', 'MYH3', 'BMP4', 'HCCS', 'SDHB', 'LZTR1', 'CDKL5', 'PEX14', 'KATNB1', 'PKDCC', 'GNPTAB', 'RYR1', 'ELANE', 'SH3BP2', 'DPAGT1', 'SEMA4A', 'TRPM3', 'SET', 'MYH7', 'TMEM67', 'IFT27', 'ZMYM2', 'TNFRSF1B', 'VAC14', 'PLOD3', 'KCNN3', 'EXTL3', 'TNNC1', 'RSPO1', 'SETBP1', 'OCA2', 'POFUT1', 'XYLT1', 'MRPS2', 'KIT', 'TBC1D24', 'WDR45', 'PPP2R3C', 'DHCR7', 'GDF5', 'EP300', 'APOB', 'NDUFB11', 'VPS33B', 'CALM2', 'RHBDF2', 'DOCK8', 'MC1R', 'TRIM8', 'ENPP1', 'CTC1', 'DKC1', 'COX7B', 'PKP1', 'CACNA1F', 'TSC2', 'TCTN3', 'DLK1', 'RPS23', 'HSPG2', 'MVK', 'CACNA1S', 'DEPDC5', 'ERCC2', 'PUF60', 'GJB6', 'UBE3A', 'CDC42', 'COL14A1', 'CARS1', 'LAMC2', 'ESCO2', 'RIT1', 'KLK11', 'HNF1A', 'HADHA', 'RPE65', 'NECTIN1', 'PEX5', 'CTCF', 'CDK10', 'FGFR1', 'PCDHGC4', 'IVNS1ABP', 'CRB1', 'FBN1', 'CDK4', 'LORICRIN', 'POLR1A', 'ERCC3', 'GMPPA', 'FBXO28', 'TNFRSF4', 'SIAH1', 'ASXL2', 'KEAP1', 'ALDH3A2', 'BHLHA9', 'PDGFB', 'RNF31', 'CD4', 'PEX3', 'PHOX2A', 'SMAD4', 'HDAC8', 'TSC1', 'TNFRSF10B', 'BICD2', 'EXT1', 'NOTCH3', 'POLRMT', 'SERPINA12', 'OTUD5', 'TASP1', 'KCNH1', 'UFC1', 'WDR4', 'SLC35A2', 'CTLA4', 'SMOC1', 'LRRC8A', 'EXOC8', 'SC5D', 'SNRPN', 'ACVRL1', 'SPTBN1', 'EHMT1', 'SDR9C7', 'CASQ2', 'COG6', 'PACS1', 'KRT1', 'TSEN15', 'ATRX', 'RIN2', 'USB1', 'CDC42BPB', 'DHX30', 'DSG2', 'ATP1A3', 'KMT2D', 'KIF7', 'FLCN', 'MTRFR', 'BRCA1', 'DES', 'ADNP', 'SLURP1', 'POGLUT1', 'NUTM1', 'PNPLA1', 'BRAF', 'ANGPT2', 'SH3PXD2B', 'MRPS34', 'MST1', 'TUBB2B', 'ATM', 'SPRED1', 'JARID2', 'GPR143', 'CLCN7', 'TGDS', 'TCF12', 'CARMIL2', 'ARX', 'STK11', 'CDK19', 'MMP1', 'MED25', 'LONP1', 'MSL3', 'SRD5A3', 'C1R', 'U2AF2', 'TNNT3', 'CHD7', 'NALCN', 'IFT122', 'RASA1', 'SUFU', 'CARD14', 'LAMB3', 'MEG3', 'NMNAT1', 'TFAP2A', 'TBX4', 'EVC', 'LCA5', 'VHL', 'H3-3A', 'TYR', 'HPDL', 'GRHL2', 'RET', 'EIF4A2', 'CRELD1', 'SON', 'TBX5', 'DSP', 'TAT', 'NAF1', 'SALL2', 'LETM1', 'MYBPC3', 'LTBP1', 'EFNB1', 'TCF3', 'RECQL4', 'DSE', 'TINF2', 'UFSP2', 'SHOC2', 'PEX13', 'TMEM127', 'SEMA4D', 'ALOX12B', 'CYLD', 'COX14', 'ACTC1', 'GJC2', 'COL25A1', 'ANKRD11', 'ATP6V1A', 'ADAMTS15', 'PYCR2', 'NF1', 'DIS3L2', 'SMS', 'SMAD3', 'HACE1', 'PDE11A', 'NR2F1', 'PIGS', 'SLCO2A1', 'AKT1', 'ACTA2', 'MYL3', 'GNB2', 'FDPS', 'GLE1', 'CDSN', 'NUP188', 'ALOXE3', 'MAP1B', 'ANAPC1', 'WARS2', 'LMNA', 'STIM1', 'PIGA', 'DHCR24', 'ERCC4', 'AIMP1', 'EVC2', 'RPS19', 'H4C5', 'LDLR', 'MTX2', 'SNAP29', 'HNRNPK', 'MPLKIP', 'KDM6A', 'PKP2', 'TUBA1A', 'UBR7', 'NF2', 'HNRNPH2', 'NOP10', 'PEX6']\n"
     ]
    }
   ],
   "source": [
    "# Adding the ACMG 81 genes to the list of genes\n",
    "final_genes = genes_associated_parents + genes\n",
    "final_genes = list(set(final_genes))\n",
    "print(\"Final list of genes after 3 optimizations: embeddings normalisation+parent ids+ACMG 81 genes\")\n",
    "print(\"------------------------------------------------------------------------------------------------------------------------\")\n",
    "print(f\"The total number of genes associated with the extracted HPO IDs, their parent IDs, and the ACMG 81 genes are : {len(final_genes)}\")\n",
    "print(\"------------------------------------------------------------------------------------------------------------------------\")\n",
    "print(final_genes)\n"
   ]
  },
  {
   "cell_type": "markdown",
   "metadata": {},
   "source": [
    "### BioMED_NER"
   ]
  },
  {
   "cell_type": "code",
   "execution_count": 37,
   "metadata": {},
   "outputs": [],
   "source": [
    "def merge_consecutive_entities(entities, text):\n",
    "    entities = sorted(entities, key=lambda x: x['start'])\n",
    "    merged_entities = []\n",
    "    current_entity = None\n",
    "\n",
    "    for entity in entities:\n",
    "        if current_entity is None:\n",
    "            current_entity = entity\n",
    "        elif (\n",
    "            entity['entity_group'] == current_entity['entity_group'] and\n",
    "            (entity['start'] <= current_entity['end'])\n",
    "        ):\n",
    "            # Merge based on start and end positions in the text\n",
    "            current_entity['end'] = max(current_entity['end'], entity['end'])\n",
    "            current_entity['word'] = text[current_entity['start']:current_entity['end']]\n",
    "            current_entity['score'] = (current_entity['score'] + entity['score']) / 2  \n",
    "        else:\n",
    "            merged_entities.append(current_entity)\n",
    "            current_entity = entity\n",
    "    if current_entity:\n",
    "        merged_entities.append(current_entity)\n",
    "\n",
    "    return merged_entities\n"
   ]
  },
  {
   "cell_type": "markdown",
   "metadata": {},
   "source": [
    "we defined some set of rules to extract phenotypes from clinical text"
   ]
  },
  {
   "cell_type": "code",
   "execution_count": 27,
   "metadata": {},
   "outputs": [],
   "source": [
    "def get_spans(output):\n",
    "    x = []\n",
    "    i = 0\n",
    "    while i < len(output):\n",
    "        temp = \"\"\n",
    "        if i + 1 < len(output) and output[i]['entity_group'] == 'Detailed_description' and output[i + 1]['entity_group'] == 'Disease_disorder':\n",
    "            temp = output[i]['word'] + \" \" + output[i + 1]['word']\n",
    "            x.append(temp)\n",
    "            i += 2  # Skip the next element as it is already processed\n",
    "            continue\n",
    "        if i + 1 < len(output) and output[i]['entity_group'] == 'Detailed_description' and output[i + 1]['entity_group'] == 'Sign_symptom':\n",
    "            temp = output[i]['word'] + \" \" + output[i + 1]['word']\n",
    "            x.append(temp)\n",
    "            i += 2  # Skip the next element as it is already processed\n",
    "            continue\n",
    "        if i+1< len(output) and output[i]['entity_group'] == 'Biological_structure' and output[i+1]['entity_group'] == 'Sign_symptom':\n",
    "            temp = output[i]['word'] + \" \" + output[i+1]['word']\n",
    "            x.append(temp)\n",
    "            i += 2\n",
    "            continue\n",
    "        if output[i]['entity_group'] == 'SIGN_SYMPTOM':\n",
    "            x.append(output[i]['word'])\n",
    "        if output[i]['entity_group'] == 'Disease_disorder':\n",
    "            x.append(output[i]['word'])\n",
    "        i += 1\n",
    "    return x"
   ]
  },
  {
   "cell_type": "code",
   "execution_count": 28,
   "metadata": {},
   "outputs": [
    {
     "name": "stderr",
     "output_type": "stream",
     "text": [
      "2025-01-30 20:52:26.588815: I tensorflow/core/util/port.cc:113] oneDNN custom operations are on. You may see slightly different numerical results due to floating-point round-off errors from different computation orders. To turn them off, set the environment variable `TF_ENABLE_ONEDNN_OPTS=0`.\n",
      "2025-01-30 20:52:26.622930: E external/local_xla/xla/stream_executor/cuda/cuda_dnn.cc:9261] Unable to register cuDNN factory: Attempting to register factory for plugin cuDNN when one has already been registered\n",
      "2025-01-30 20:52:26.622966: E external/local_xla/xla/stream_executor/cuda/cuda_fft.cc:607] Unable to register cuFFT factory: Attempting to register factory for plugin cuFFT when one has already been registered\n",
      "2025-01-30 20:52:26.624036: E external/local_xla/xla/stream_executor/cuda/cuda_blas.cc:1515] Unable to register cuBLAS factory: Attempting to register factory for plugin cuBLAS when one has already been registered\n",
      "2025-01-30 20:52:26.629671: I tensorflow/core/platform/cpu_feature_guard.cc:182] This TensorFlow binary is optimized to use available CPU instructions in performance-critical operations.\n",
      "To enable the following instructions: AVX2 AVX512F AVX512_VNNI FMA, in other operations, rebuild TensorFlow with the appropriate compiler flags.\n",
      "2025-01-30 20:52:27.680375: W tensorflow/compiler/tf2tensorrt/utils/py_utils.cc:38] TF-TRT Warning: Could not find TensorRT\n",
      "Hardware accelerator e.g. GPU is available in the environment, but no `device` argument is passed to the `Pipeline` object. Model will be on CPU.\n"
     ]
    }
   ],
   "source": [
    "from transformers import pipeline\n",
    "pipe = pipeline(\"token-classification\", model=\"Helios9/BIOMed_NER\", aggregation_strategy='simple')"
   ]
  },
  {
   "cell_type": "code",
   "execution_count": 39,
   "metadata": {},
   "outputs": [
    {
     "name": "stdout",
     "output_type": "stream",
     "text": [
      "[{'input': 'Nevoid basal cell carcinoma syndrome (NBCCS) is rare in black persons. We describe an 11-year-old black boy with NBCCS who presented with exotropia and a painful, expanding, cystic mass in the left posterior alveolar ridge. Further examination revealed odontogenic keratocysts with palmar and plantar pitting. Less than 5% of reported patients with NBCCS are black. To our knowledge, this is the first report of a black patient with NBCCS presenting with exotropia and an impacted molar displaced into the orbit by an odontogenic keratocyst.', 'output': ' basal cell carcinoma | HP_0002671\\n exotropia | HP_0000577\\n cystic mass in the left posterior alveolar ridge | HP_0006477\\n odontogenic keratocysts | HP_0010603\\n palmar and plantar pitting | HP_0010612\\n END'}]\n",
      "data loaded\n",
      "[[' odontogenic keratocysts', ' NBCCS', 'cystic mass', 'Nevoid basal cell carcinoma syndrome', 'CS', 'NBCCS', 'plantar pitting', ' odontogenic keratocyst']]\n"
     ]
    }
   ],
   "source": [
    "# Load the data\n",
    "sample_data=\"/test/sample.json\"\n",
    "val_data,_ =load_val_data(sample_data)\n",
    "print(val_data)\n",
    "print(\"data loaded\")\n",
    "spans,HP_ids=[],[]\n",
    "\n",
    "for i in val_data:\n",
    "    output = pipe(i[\"input\"])\n",
    "    output = merge_consecutive_entities(output, i[\"input\"])\n",
    "    NER_spans = get_spans(output)\n",
    "    spans.append(list(set(NER_spans)))\n",
    "print(spans)"
   ]
  }
 ],
 "metadata": {
  "kernelspec": {
   "display_name": "base",
   "language": "python",
   "name": "python3"
  },
  "language_info": {
   "codemirror_mode": {
    "name": "ipython",
    "version": 3
   },
   "file_extension": ".py",
   "mimetype": "text/x-python",
   "name": "python",
   "nbconvert_exporter": "python",
   "pygments_lexer": "ipython3",
   "version": "3.11.5"
  }
 },
 "nbformat": 4,
 "nbformat_minor": 2
}
